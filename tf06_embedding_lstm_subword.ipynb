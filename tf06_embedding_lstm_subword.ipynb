{
 "cells": [
  {
   "cell_type": "code",
   "execution_count": 1,
   "metadata": {},
   "outputs": [
    {
     "name": "stdout",
     "output_type": "stream",
     "text": [
      "2.2.0\n",
      "sys.version_info(major=3, minor=6, micro=9, releaselevel='final', serial=0)\n",
      "matplotlib 3.2.1\n",
      "numpy 1.18.5\n",
      "pandas 1.0.4\n",
      "sklearn 0.23.1\n",
      "tensorflow 2.2.0\n",
      "tensorflow.keras 2.3.0-tf\n"
     ]
    }
   ],
   "source": [
    "import matplotlib as mpl\n",
    "import matplotlib.pyplot as plt\n",
    "%matplotlib inline\n",
    "import numpy as np\n",
    "import sklearn\n",
    "import pandas as pd\n",
    "import os\n",
    "import sys\n",
    "import time\n",
    "import tensorflow as tf\n",
    "\n",
    "from tensorflow import keras\n",
    "\n",
    "print(tf.__version__)\n",
    "print(sys.version_info)\n",
    "for module in mpl, np, pd, sklearn, tf, keras:\n",
    "    print(module.__name__, module.__version__)\n"
   ]
  },
  {
   "cell_type": "code",
   "execution_count": 2,
   "metadata": {},
   "outputs": [
    {
     "name": "stderr",
     "output_type": "stream",
     "text": [
      "WARNING:absl:TFDS datasets with text encoding are deprecated and will be removed in a future version. Instead, you should use the plain text version and tokenize the text using `tensorflow_text` (See: https://www.tensorflow.org/tutorials/tensorflow_text/intro#tfdata_example)\n"
     ]
    }
   ],
   "source": [
    "#在这个库中，tf帮我们定义很多数据集，这些数据集是以dataset来存储的\n",
    "# https://tensorflow.google.cn/datasets/catalog/overview\n",
    "import tensorflow_datasets as tfds\n",
    "\n",
    "#仍然是电影的二分类问题\n",
    "#我们可以到数据集中去看imdb_reviews/subwords8k的信息\n",
    "# with_info if True, tfds.load will return the tuple (tf.data.Dataset, tfds.core.DatasetInfo) \n",
    "# containing the info associated with the builder.\n",
    "dataset, info = tfds.load('imdb_reviews/subwords8k', with_info = True,\n",
    "                          #as_supervised代表有监督的，会把labels，也就是结果返回\n",
    "                          as_supervised=True)\n",
    "\n",
    "train_dataset, test_dataset = dataset['train'], dataset['test']"
   ]
  },
  {
   "cell_type": "code",
   "execution_count": 3,
   "metadata": {},
   "outputs": [
    {
     "name": "stdout",
     "output_type": "stream",
     "text": [
      "vocabulary size: 8185\n"
     ]
    }
   ],
   "source": [
    "#通过encoder把我们的词语转换为subword形式\n",
    "tokenizer = info.features['text'].encoder\n",
    "print('vocabulary size: {}'.format(tokenizer.vocab_size))"
   ]
  },
  {
   "cell_type": "code",
   "execution_count": 17,
   "metadata": {},
   "outputs": [
    {
     "name": "stdout",
     "output_type": "stream",
     "text": [
      "[  62   18   41  604  927   65    3  644 7968   21   35 5096   36   11\n",
      "   43 2948 5240  102   50  681 7862 1244    3 3266   29  122  640    2\n",
      "   26   14  279  438   35   79  349  384   11 1991    3  492   79  122\n",
      "  188  117   33 4047 4531   14   65 7968    8 1819 3947    3   62   27\n",
      "    9   41  577 5044 2629 2552 7193 7961 3642    3   19  107 3903  225\n",
      "   85  198   72    1 1512  738 2347  102 6245    8   85  308   79 6936\n",
      " 7961   23 4981 8044    3 6429 7961 1141 1335 1848 4848   55 3601 4217\n",
      " 8050    2    5   59 3831 1484 8040 7974  174 5773   22 5240  102   18\n",
      "  247   26    4 3903 1612 3902  291   11    4   27   13   18 4092 4008\n",
      " 7961    6  119  213 2774    3   12  258 2306   13   91   29  171   52\n",
      "  229    2 1245 5790  995 7968    8   52 2948 5240 8039 7968    8   74\n",
      " 1249    3   12  117 2438 1369  192   39 7975]\n",
      "This was an absolutely terrible movie. Don't be lured in by Christopher Walken or Michael Ironside. Both are great actors, but this must simply be their worst role in history. Even their great acting could not redeem this movie's ridiculous storyline. This movie is an early nineties US propaganda piece. The most pathetic scenes were those when the Columbian rebels were making their cases for revolutions. Maria Conchita Alonso appeared phony, and her pseudo-love affair with Walken was nothing but a pathetic emotional plug in a movie that was devoid of any real meaning. I am disappointed that there are movies like this, ruining actor's like Christopher Walken's good name. I could barely sit through it.\n"
     ]
    }
   ],
   "source": [
    "for i in train_dataset.take(1):\n",
    "    print(np.array(i[0]))\n",
    "    print(tokenizer.decode(np.array(i[0])))"
   ]
  },
  {
   "cell_type": "code",
   "execution_count": 5,
   "metadata": {},
   "outputs": [
    {
     "name": "stdout",
     "output_type": "stream",
     "text": [
      "Tokenized string is [6307, 2327, 2934, 7961, 9, 2724, 7975]\n",
      "<class 'list'>\n",
      "Original string is Tensorflow is cool.\n"
     ]
    }
   ],
   "source": [
    "sample_string = 'Tensorflow is cool.'\n",
    "#encode是变为id序列\n",
    "tokenized_string = tokenizer.encode(sample_string)\n",
    "print('Tokenized string is {}'.format(tokenized_string))\n",
    "print(type(tokenized_string))\n",
    "#decode又变为原来的字符串\n",
    "original_string = tokenizer.decode(tokenized_string)\n",
    "print('Original string is {}'.format(original_string))\n",
    "\n",
    "assert original_string == sample_string"
   ]
  },
  {
   "cell_type": "code",
   "execution_count": 6,
   "metadata": {},
   "outputs": [
    {
     "name": "stdout",
     "output_type": "stream",
     "text": [
      "6307 --> Ten\n",
      "2327 --> sor\n",
      "2934 --> flow\n",
      "7961 -->  \n",
      "9 --> is \n",
      "2724 --> cool\n",
      "7975 --> .\n"
     ]
    }
   ],
   "source": [
    "#for循环看下每个id\n",
    "for token in tokenized_string:\n",
    "    print('{} --> {}'.format(token, tokenizer.decode([token])))"
   ]
  },
  {
   "cell_type": "code",
   "execution_count": 7,
   "metadata": {},
   "outputs": [
    {
     "name": "stdout",
     "output_type": "stream",
     "text": [
      "(TensorShape([None]), TensorShape([]))\n",
      "(TensorShape([None]), TensorShape([]))\n"
     ]
    }
   ],
   "source": [
    "buffer_size = 10000\n",
    "batch_size = 64\n",
    "\n",
    "#下面的代码是2.0版本的，已废弃\n",
    "# print(train_dataset.output_shapes)\n",
    "# print(test_dataset.output_shapes)\n",
    "\n",
    "# train_dataset = train_dataset.shuffle(buffer_size)\n",
    "# train_dataset = train_dataset.padded_batch(batch_size, train_dataset.output_shapes)\n",
    "# test_dataset = test_dataset.padded_batch(batch_size, test_dataset.output_shapes)\n",
    "\n",
    "padded_shapes=tf.compat.v1.data.get_output_shapes(train_dataset)\n",
    "\n",
    "padded_shapes_test=tf.compat.v1.data.get_output_shapes(test_dataset)\n",
    "\n",
    "print(padded_shapes)\n",
    "\n",
    "print(padded_shapes_test)\n",
    "\n",
    "train_dataset = train_dataset.shuffle(buffer_size)\n",
    " # padded_batch是每批数据分别做padding\n",
    "train_dataset = train_dataset.padded_batch(batch_size,padded_shapes) \n",
    "\n",
    "test_dataset = test_dataset.padded_batch(batch_size,padded_shapes_test)"
   ]
  },
  {
   "cell_type": "code",
   "execution_count": 8,
   "metadata": {},
   "outputs": [
    {
     "name": "stdout",
     "output_type": "stream",
     "text": [
      "Model: \"sequential\"\n",
      "_________________________________________________________________\n",
      "Layer (type)                 Output Shape              Param #   \n",
      "=================================================================\n",
      "embedding (Embedding)        (None, None, 16)          130960    \n",
      "_________________________________________________________________\n",
      "bidirectional (Bidirectional (None, 64)                12544     \n",
      "_________________________________________________________________\n",
      "dense (Dense)                (None, 32)                2080      \n",
      "_________________________________________________________________\n",
      "dense_1 (Dense)              (None, 1)                 33        \n",
      "=================================================================\n",
      "Total params: 145,617\n",
      "Trainable params: 145,617\n",
      "Non-trainable params: 0\n",
      "_________________________________________________________________\n"
     ]
    }
   ],
   "source": [
    "vocab_size = tokenizer.vocab_size\n",
    "embedding_dim = 16\n",
    "batch_size = 512\n",
    "\n",
    "bi_rnn_model = keras.models.Sequential([\n",
    "    keras.layers.Embedding(vocab_size, embedding_dim),\n",
    "    keras.layers.Bidirectional(\n",
    "        keras.layers.LSTM(\n",
    "            units = 32, return_sequences = False)),\n",
    "    keras.layers.Dense(32, activation = 'relu'),\n",
    "    keras.layers.Dense(1, activation='sigmoid'),\n",
    "])\n",
    "\n",
    "bi_rnn_model.summary()\n",
    "bi_rnn_model.compile(optimizer = 'adam',\n",
    "                     loss = 'binary_crossentropy',\n",
    "                     metrics = ['accuracy'])\n"
   ]
  },
  {
   "cell_type": "code",
   "execution_count": 11,
   "metadata": {},
   "outputs": [
    {
     "name": "stdout",
     "output_type": "stream",
     "text": [
      "Epoch 1/10\n",
      "391/391 [==============================] - 529s 1s/step - loss: 0.5073 - accuracy: 0.7508 - val_loss: 0.5740 - val_accuracy: 0.7057\n",
      "Epoch 2/10\n",
      "391/391 [==============================] - 483s 1s/step - loss: 0.3590 - accuracy: 0.8517 - val_loss: 0.3857 - val_accuracy: 0.8536\n",
      "Epoch 3/10\n",
      "391/391 [==============================] - 430s 1s/step - loss: 0.2715 - accuracy: 0.8990 - val_loss: 0.3695 - val_accuracy: 0.8482\n",
      "Epoch 4/10\n",
      "391/391 [==============================] - 303s 774ms/step - loss: 0.2387 - accuracy: 0.9129 - val_loss: 0.4242 - val_accuracy: 0.8275\n",
      "Epoch 5/10\n",
      "391/391 [==============================] - 288s 738ms/step - loss: 0.2097 - accuracy: 0.9232 - val_loss: 0.4363 - val_accuracy: 0.8540\n",
      "Epoch 6/10\n",
      "391/391 [==============================] - 328s 839ms/step - loss: 0.1721 - accuracy: 0.9417 - val_loss: 0.4288 - val_accuracy: 0.8411\n",
      "Epoch 7/10\n",
      "391/391 [==============================] - 300s 766ms/step - loss: 0.1654 - accuracy: 0.9416 - val_loss: 0.5488 - val_accuracy: 0.7472\n",
      "Epoch 8/10\n",
      "391/391 [==============================] - 308s 788ms/step - loss: 0.1723 - accuracy: 0.9388 - val_loss: 0.4634 - val_accuracy: 0.8416\n",
      "Epoch 9/10\n",
      "391/391 [==============================] - 302s 772ms/step - loss: 0.1593 - accuracy: 0.9442 - val_loss: 0.5080 - val_accuracy: 0.8357\n",
      "Epoch 10/10\n",
      "391/391 [==============================] - 285s 728ms/step - loss: 0.1482 - accuracy: 0.9474 - val_loss: 0.5278 - val_accuracy: 0.8393\n"
     ]
    }
   ],
   "source": [
    "history = bi_rnn_model.fit(\n",
    "    train_dataset,\n",
    "    #因为之前30次过拟合，这里改为10次\n",
    "    epochs = 10,\n",
    "    validation_data = test_dataset)"
   ]
  },
  {
   "cell_type": "code",
   "execution_count": 12,
   "metadata": {},
   "outputs": [
    {
     "data": {
      "image/png": "[encoded data removed]",
      "text/plain": [
       "<Figure size 576x360 with 1 Axes>"
      ]
     },
     "metadata": {
      "needs_background": "light"
     },
     "output_type": "display_data"
    },
    {
     "data": {
      "image/png": "[encoded data removed]",
      "text/plain": [
       "<Figure size 576x360 with 1 Axes>"
      ]
     },
     "metadata": {
      "needs_background": "light"
     },
     "output_type": "display_data"
    }
   ],
   "source": [
    "def plot_learning_curves(history, label, epochs, min_value, max_value):\n",
    "    data = {}\n",
    "    data[label] = history.history[label]\n",
    "    data['val_'+label] = history.history['val_'+label]\n",
    "    pd.DataFrame(data).plot(figsize=(8, 5))\n",
    "    plt.grid(True)\n",
    "    plt.axis([0, epochs, min_value, max_value])\n",
    "    plt.show()\n",
    "    \n",
    "plot_learning_curves(history, 'accuracy', 10, 0, 1)\n",
    "plot_learning_curves(history, 'loss', 10, 0, 1)\n",
    "#过拟合现象相对之前弱一些"
   ]
  },
  {
   "cell_type": "code",
   "execution_count": 13,
   "metadata": {},
   "outputs": [
    {
     "name": "stdout",
     "output_type": "stream",
     "text": [
      "391/391 [==============================] - 47s 121ms/step - loss: 0.5278 - accuracy: 0.8393\n"
     ]
    },
    {
     "data": {
      "text/plain": [
       "[0.527801513671875, 0.8392800092697144]"
      ]
     },
     "execution_count": 13,
     "metadata": {},
     "output_type": "execute_result"
    }
   ],
   "source": [
    "bi_rnn_model.evaluate(test_dataset)"
   ]
  },
  {
   "cell_type": "code",
   "execution_count": null,
   "metadata": {},
   "outputs": [],
   "source": []
  }
 ],
 "metadata": {
  "kernelspec": {
   "display_name": "Python 3",
   "language": "python",
   "name": "python3"
  },
  "language_info": {
   "codemirror_mode": {
    "name": "ipython",
    "version": 3
   },
   "file_extension": ".py",
   "mimetype": "text/x-python",
   "name": "python",
   "nbconvert_exporter": "python",
   "pygments_lexer": "ipython3",
   "version": "3.6.9"
  }
 },
 "nbformat": 4,
 "nbformat_minor": 2
}
