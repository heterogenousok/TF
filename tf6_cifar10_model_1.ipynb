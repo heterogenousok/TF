{
  "nbformat": 4,
  "nbformat_minor": 0,
  "metadata": {
    "kernelspec": {
      "display_name": "Python 3",
      "language": "python",
      "name": "python3"
    },
    "language_info": {
      "codemirror_mode": {
        "name": "ipython",
        "version": 3
      },
      "file_extension": ".py",
      "mimetype": "text/x-python",
      "name": "python",
      "nbconvert_exporter": "python",
      "pygments_lexer": "ipython3",
      "version": "3.6.9"
    },
    "colab": {
      "name": "tf6_cifar10_model_1.ipynb",
      "provenance": [],
      "collapsed_sections": []
    },
    "accelerator": "GPU"
  },
  "cells": [
    {
      "cell_type": "code",
      "metadata": {
        "_cell_guid": "79c7e3d0-c299-4dcb-8224-4455121ee9b0",
        "_uuid": "d629ff2d2480ee46fbb7e2d37f6b5fab8052498a",
        "colab": {
          "base_uri": "https://localhost:8080/"
        },
        "id": "gcTSfiR4cQYK",
        "outputId": "51304d65-c971-47ce-e8e8-4da3608fe51a"
      },
      "source": [
        "%matplotlib inline\n",
        "import matplotlib as mpl\n",
        "import matplotlib.pyplot as plt\n",
        "import numpy as np\n",
        "import os\n",
        "import pandas as pd\n",
        "import sklearn\n",
        "import sys\n",
        "import tensorflow as tf\n",
        "import time\n",
        "\n",
        "from tensorflow import keras\n",
        "\n",
        "print(tf.__version__)\n",
        "print(sys.version_info)\n",
        "for module in mpl, np, pd, sklearn, tf, keras:\n",
        "    print(module.__name__, module.__version__)"
      ],
      "execution_count": 1,
      "outputs": [
        {
          "output_type": "stream",
          "text": [
            "2.4.1\n",
            "sys.version_info(major=3, minor=7, micro=10, releaselevel='final', serial=0)\n",
            "matplotlib 3.2.2\n",
            "numpy 1.19.5\n",
            "pandas 1.1.5\n",
            "sklearn 0.22.2.post1\n",
            "tensorflow 2.4.1\n",
            "tensorflow.keras 2.4.0\n"
          ],
          "name": "stdout"
        }
      ]
    },
    {
      "cell_type": "code",
      "metadata": {
        "colab": {
          "base_uri": "https://localhost:8080/"
        },
        "id": "4NOao51JYfzi",
        "outputId": "62d4df80-b4f2-43b5-8b9a-e06a5586489f"
      },
      "source": [
        "!pip install kaggle"
      ],
      "execution_count": 2,
      "outputs": [
        {
          "output_type": "stream",
          "text": [
            "Requirement already satisfied: kaggle in /usr/local/lib/python3.7/dist-packages (1.5.12)\n",
            "Requirement already satisfied: certifi in /usr/local/lib/python3.7/dist-packages (from kaggle) (2020.12.5)\n",
            "Requirement already satisfied: six>=1.10 in /usr/local/lib/python3.7/dist-packages (from kaggle) (1.15.0)\n",
            "Requirement already satisfied: python-dateutil in /usr/local/lib/python3.7/dist-packages (from kaggle) (2.8.1)\n",
            "Requirement already satisfied: python-slugify in /usr/local/lib/python3.7/dist-packages (from kaggle) (4.0.1)\n",
            "Requirement already satisfied: urllib3 in /usr/local/lib/python3.7/dist-packages (from kaggle) (1.24.3)\n",
            "Requirement already satisfied: requests in /usr/local/lib/python3.7/dist-packages (from kaggle) (2.23.0)\n",
            "Requirement already satisfied: tqdm in /usr/local/lib/python3.7/dist-packages (from kaggle) (4.41.1)\n",
            "Requirement already satisfied: text-unidecode>=1.3 in /usr/local/lib/python3.7/dist-packages (from python-slugify->kaggle) (1.3)\n",
            "Requirement already satisfied: idna<3,>=2.5 in /usr/local/lib/python3.7/dist-packages (from requests->kaggle) (2.10)\n",
            "Requirement already satisfied: chardet<4,>=3.0.2 in /usr/local/lib/python3.7/dist-packages (from requests->kaggle) (3.0.4)\n"
          ],
          "name": "stdout"
        }
      ]
    },
    {
      "cell_type": "code",
      "metadata": {
        "id": "Fi46_oyAY6qD"
      },
      "source": [
        "import json\n",
        "token = {\"username\":\"cskaoyan\",\"key\":\"e729aeabdd3073f7c6bfdab81e5c12f8\"}\n",
        "with open('/content/kaggle.json', 'w') as file:\n",
        "  json.dump(token, file)"
      ],
      "execution_count": 3,
      "outputs": []
    },
    {
      "cell_type": "code",
      "metadata": {
        "colab": {
          "base_uri": "https://localhost:8080/"
        },
        "id": "FBunE0OvY6ZY",
        "outputId": "6e0443c7-094d-470f-96a5-b0111e213f3e"
      },
      "source": [
        "!cat /content/kaggle.json"
      ],
      "execution_count": 4,
      "outputs": [
        {
          "output_type": "stream",
          "text": [
            "{\"username\": \"cskaoyan\", \"key\": \"e729aeabdd3073f7c6bfdab81e5c12f8\"}"
          ],
          "name": "stdout"
        }
      ]
    },
    {
      "cell_type": "code",
      "metadata": {
        "colab": {
          "base_uri": "https://localhost:8080/"
        },
        "id": "qXgB8rdbZIDU",
        "outputId": "bd192c5e-4d8c-4c04-bd4b-56db0d07649f"
      },
      "source": [
        "!mkdir -p ~/.kaggle\n",
        "!cp /content/kaggle.json ~/.kaggle/\n",
        "!chmod 600 ~/.kaggle/kaggle.json\n",
        "!kaggle config set -n path -v /content"
      ],
      "execution_count": 5,
      "outputs": [
        {
          "output_type": "stream",
          "text": [
            "- path is now set to: /content\n"
          ],
          "name": "stdout"
        }
      ]
    },
    {
      "cell_type": "code",
      "metadata": {
        "colab": {
          "base_uri": "https://localhost:8080/"
        },
        "id": "Xtn4YxW2ZSI5",
        "outputId": "c112e519-468d-40be-cecf-56f7c9cb2a66"
      },
      "source": [
        "!pwd"
      ],
      "execution_count": 6,
      "outputs": [
        {
          "output_type": "stream",
          "text": [
            "/content\n"
          ],
          "name": "stdout"
        }
      ]
    },
    {
      "cell_type": "code",
      "metadata": {
        "colab": {
          "base_uri": "https://localhost:8080/"
        },
        "id": "p0A-3wMTZTe2",
        "outputId": "71e50666-5b80-40e9-e562-b7b1cea31f4d"
      },
      "source": [
        "!kaggle datasets download -d slothkong/10-monkey-species"
      ],
      "execution_count": 7,
      "outputs": [
        {
          "output_type": "stream",
          "text": [
            "Downloading 10-monkey-species.zip to /content/datasets/slothkong/10-monkey-species\n",
            " 99% 539M/547M [00:06<00:00, 70.2MB/s]\n",
            "100% 547M/547M [00:06<00:00, 92.4MB/s]\n"
          ],
          "name": "stdout"
        }
      ]
    },
    {
      "cell_type": "code",
      "metadata": {
        "colab": {
          "base_uri": "https://localhost:8080/"
        },
        "id": "JL8vRjqkZg3G",
        "outputId": "282eef87-4b1d-4c09-c031-d9a2e7a64177"
      },
      "source": [
        "!kaggle competitions download -c cifar-10"
      ],
      "execution_count": 10,
      "outputs": [
        {
          "output_type": "stream",
          "text": [
            "Warning: Looks like you're using an outdated API Version, please consider updating (server 1.5.12 / client 1.5.4)\n",
            "Downloading trainLabels.csv to /content/competitions/cifar-10\n",
            "  0% 0.00/575k [00:00<?, ?B/s]\n",
            "100% 575k/575k [00:00<00:00, 38.1MB/s]\n",
            "Downloading test.7z to /content/competitions/cifar-10\n",
            " 97% 593M/610M [00:04<00:00, 144MB/s]\n",
            "100% 610M/610M [00:05<00:00, 128MB/s]\n",
            "Downloading sampleSubmission.csv.zip to /content/competitions/cifar-10\n",
            "  0% 0.00/655k [00:00<?, ?B/s]\n",
            "100% 655k/655k [00:00<00:00, 89.4MB/s]\n",
            "Downloading train.7z to /content/competitions/cifar-10\n",
            " 93% 97.0M/105M [00:01<00:00, 76.2MB/s]\n",
            "100% 105M/105M [00:01<00:00, 82.1MB/s] \n"
          ],
          "name": "stdout"
        }
      ]
    },
    {
      "cell_type": "code",
      "metadata": {
        "colab": {
          "base_uri": "https://localhost:8080/"
        },
        "id": "EZkDbHbEaC7x",
        "outputId": "7e2fe951-4033-41a0-806e-6238561ec0ad"
      },
      "source": [
        "!ls /content/competitions/cifar-10"
      ],
      "execution_count": 2,
      "outputs": [
        {
          "output_type": "stream",
          "text": [
            "ls: cannot access '/content/competitions/cifar-10': No such file or directory\n"
          ],
          "name": "stdout"
        }
      ]
    },
    {
      "cell_type": "code",
      "metadata": {
        "colab": {
          "base_uri": "https://localhost:8080/"
        },
        "id": "gIcDMwAcaktp",
        "outputId": "15e0f1f8-7547-42cc-b6b6-e5b41de5a129"
      },
      "source": [
        "%pip install py7zr\n",
        "import py7zr\n",
        "a =py7zr.SevenZipFile(r'./competitions/cifar-10/train.7z','r')\n",
        "a.extractall(path=r'./competitions/cifar-10/')\n",
        "a.close()"
      ],
      "execution_count": 15,
      "outputs": [
        {
          "output_type": "stream",
          "text": [
            "Requirement already satisfied: py7zr in /usr/local/lib/python3.7/dist-packages (0.16.1)\n",
            "Requirement already satisfied: brotli>=1.0.9; platform_python_implementation == \"CPython\" in /usr/local/lib/python3.7/dist-packages (from py7zr) (1.0.9)\n",
            "Requirement already satisfied: texttable in /usr/local/lib/python3.7/dist-packages (from py7zr) (1.6.3)\n",
            "Requirement already satisfied: pyppmd>=0.14.0 in /usr/local/lib/python3.7/dist-packages (from py7zr) (0.15.0)\n",
            "Requirement already satisfied: pycryptodomex>=3.6.6 in /usr/local/lib/python3.7/dist-packages (from py7zr) (3.10.1)\n",
            "Requirement already satisfied: multivolumefile>=0.2.3 in /usr/local/lib/python3.7/dist-packages (from py7zr) (0.2.3)\n",
            "Requirement already satisfied: bcj-cffi<0.6.0,>=0.5.1 in /usr/local/lib/python3.7/dist-packages (from py7zr) (0.5.1)\n",
            "Requirement already satisfied: pyzstd<0.15.0,>=0.14.4 in /usr/local/lib/python3.7/dist-packages (from py7zr) (0.14.4)\n",
            "Requirement already satisfied: importlib-metadata; python_version < \"3.8\" in /usr/local/lib/python3.7/dist-packages (from py7zr) (3.10.1)\n",
            "Requirement already satisfied: cffi>=1.14.0 in /usr/local/lib/python3.7/dist-packages (from bcj-cffi<0.6.0,>=0.5.1->py7zr) (1.14.5)\n",
            "Requirement already satisfied: typing-extensions>=3.6.4; python_version < \"3.8\" in /usr/local/lib/python3.7/dist-packages (from importlib-metadata; python_version < \"3.8\"->py7zr) (3.7.4.3)\n",
            "Requirement already satisfied: zipp>=0.5 in /usr/local/lib/python3.7/dist-packages (from importlib-metadata; python_version < \"3.8\"->py7zr) (3.4.1)\n",
            "Requirement already satisfied: pycparser in /usr/local/lib/python3.7/dist-packages (from cffi>=1.14.0->bcj-cffi<0.6.0,>=0.5.1->py7zr) (2.20)\n"
          ],
          "name": "stdout"
        }
      ]
    },
    {
      "cell_type": "code",
      "metadata": {
        "colab": {
          "base_uri": "https://localhost:8080/"
        },
        "id": "jxHEojoXcEGX",
        "outputId": "f63faf9c-0d91-4ffc-a3f7-109a21a018e0"
      },
      "source": [
        "!ls /content/competitions/cifar-10/train|wc -l"
      ],
      "execution_count": 17,
      "outputs": [
        {
          "output_type": "stream",
          "text": [
            "50000\n"
          ],
          "name": "stdout"
        }
      ]
    },
    {
      "cell_type": "code",
      "metadata": {
        "id": "sYrWDOmEcWfW"
      },
      "source": [
        "a =py7zr.SevenZipFile(r'./competitions/cifar-10/test.7z','r')\n",
        "a.extractall(path=r'./competitions/cifar-10/')\n",
        "a.close()"
      ],
      "execution_count": 18,
      "outputs": []
    },
    {
      "cell_type": "code",
      "metadata": {
        "colab": {
          "base_uri": "https://localhost:8080/"
        },
        "id": "o6OPszZggi_R",
        "outputId": "99dc8f75-2fff-4464-d8fc-ac682a332dce"
      },
      "source": [
        "!ls /content/competitions/cifar-10/test|wc -l"
      ],
      "execution_count": 19,
      "outputs": [
        {
          "output_type": "stream",
          "text": [
            "300000\n"
          ],
          "name": "stdout"
        }
      ]
    },
    {
      "cell_type": "code",
      "metadata": {
        "colab": {
          "base_uri": "https://localhost:8080/"
        },
        "id": "f0BwBptMgs5g",
        "outputId": "6506ccff-34b4-4e53-f3e1-e3f54f8b7799"
      },
      "source": [
        "!unzip -o -d /content/competitions/cifar-10 ./competitions/cifar-10/sampleSubmission.csv.zip"
      ],
      "execution_count": 21,
      "outputs": [
        {
          "output_type": "stream",
          "text": [
            "Archive:  ./competitions/cifar-10/sampleSubmission.csv.zip\n",
            "  inflating: /content/competitions/cifar-10/sampleSubmission.csv  \n"
          ],
          "name": "stdout"
        }
      ]
    },
    {
      "cell_type": "code",
      "metadata": {
        "id": "RtO1NobRcQYS",
        "colab": {
          "base_uri": "https://localhost:8080/"
        },
        "outputId": "7faaf759-99a7-4878-98eb-66d8e5361b3a"
      },
      "source": [
        "#所有的类别\n",
        "class_names = [\n",
        "    'airplane',\n",
        "    'automobile',\n",
        "    'bird',\n",
        "    'cat',\n",
        "    'deer',\n",
        "    'dog',\n",
        "    'frog',\n",
        "    'horse',\n",
        "    'ship',\n",
        "    'truck',\n",
        "]\n",
        "\n",
        "train_lables_file = 'competitions/cifar-10/trainLabels.csv'\n",
        "test_csv_file = 'competitions/cifar-10/sampleSubmission.csv'\n",
        "train_folder = 'competitions/cifar-10/train/'\n",
        "test_folder = 'competitions/cifar-10/test'\n",
        "\n",
        "def parse_csv_file(filepath, folder):\n",
        "    \"\"\"Parses csv files into (filename(path), label) format\"\"\"\n",
        "    results = []\n",
        "    #读取所有行\n",
        "    with open(filepath, 'r') as f:\n",
        "#         lines = f.readlines()  为什么加[1:]，可以试这个\n",
        "        lines = f.readlines()[1:]\n",
        "    for line in lines:\n",
        "        image_id, label_str = line.strip('\\n').split(',')\n",
        "        image_full_path = os.path.join(folder, image_id + '.png')\n",
        "        results.append((image_full_path, label_str))\n",
        "    return results\n",
        "\n",
        "#解析对应的文件夹\n",
        "train_labels_info = parse_csv_file(train_lables_file, train_folder)\n",
        "test_csv_info = parse_csv_file(test_csv_file, test_folder)\n",
        "#打印\n",
        "import pprint\n",
        "pprint.pprint(train_labels_info[0:5])\n",
        "pprint.pprint(test_csv_info[0:5])\n",
        "print(len(train_labels_info), len(test_csv_info))"
      ],
      "execution_count": 22,
      "outputs": [
        {
          "output_type": "stream",
          "text": [
            "[('competitions/cifar-10/train/1.png', 'frog'),\n",
            " ('competitions/cifar-10/train/2.png', 'truck'),\n",
            " ('competitions/cifar-10/train/3.png', 'truck'),\n",
            " ('competitions/cifar-10/train/4.png', 'deer'),\n",
            " ('competitions/cifar-10/train/5.png', 'automobile')]\n",
            "[('competitions/cifar-10/test/1.png', 'cat'),\n",
            " ('competitions/cifar-10/test/2.png', 'cat'),\n",
            " ('competitions/cifar-10/test/3.png', 'cat'),\n",
            " ('competitions/cifar-10/test/4.png', 'cat'),\n",
            " ('competitions/cifar-10/test/5.png', 'cat')]\n",
            "50000 300000\n"
          ],
          "name": "stdout"
        }
      ]
    },
    {
      "cell_type": "code",
      "metadata": {
        "id": "QRMjHfbUcQYT",
        "colab": {
          "base_uri": "https://localhost:8080/"
        },
        "outputId": "b1c2853c-7a75-4f96-d0bc-0289ce4def63"
      },
      "source": [
        "# train_df = pd.DataFrame(train_labels_info)\n",
        "train_df = pd.DataFrame(train_labels_info[0:45000])\n",
        "valid_df = pd.DataFrame(train_labels_info[45000:])\n",
        "test_df = pd.DataFrame(test_csv_info)\n",
        "\n",
        "train_df.columns = ['filepath', 'class']\n",
        "valid_df.columns = ['filepath', 'class']\n",
        "test_df.columns = ['filepath', 'class']\n",
        "\n",
        "print(train_df.head())\n",
        "print(valid_df.head())\n",
        "print(test_df.head())"
      ],
      "execution_count": 23,
      "outputs": [
        {
          "output_type": "stream",
          "text": [
            "                            filepath       class\n",
            "0  competitions/cifar-10/train/1.png        frog\n",
            "1  competitions/cifar-10/train/2.png       truck\n",
            "2  competitions/cifar-10/train/3.png       truck\n",
            "3  competitions/cifar-10/train/4.png        deer\n",
            "4  competitions/cifar-10/train/5.png  automobile\n",
            "                                filepath       class\n",
            "0  competitions/cifar-10/train/45001.png       horse\n",
            "1  competitions/cifar-10/train/45002.png  automobile\n",
            "2  competitions/cifar-10/train/45003.png        deer\n",
            "3  competitions/cifar-10/train/45004.png  automobile\n",
            "4  competitions/cifar-10/train/45005.png    airplane\n",
            "                           filepath class\n",
            "0  competitions/cifar-10/test/1.png   cat\n",
            "1  competitions/cifar-10/test/2.png   cat\n",
            "2  competitions/cifar-10/test/3.png   cat\n",
            "3  competitions/cifar-10/test/4.png   cat\n",
            "4  competitions/cifar-10/test/5.png   cat\n"
          ],
          "name": "stdout"
        }
      ]
    },
    {
      "cell_type": "code",
      "metadata": {
        "id": "RQZszrnZcQYU",
        "colab": {
          "base_uri": "https://localhost:8080/"
        },
        "outputId": "455fb750-b478-4c6e-98b1-d3029905c19c"
      },
      "source": [
        "height = 32\n",
        "width = 32\n",
        "channels = 3\n",
        "batch_size = 32\n",
        "num_classes = 10\n",
        "\n",
        "train_datagen = keras.preprocessing.image.ImageDataGenerator(\n",
        "    rescale = 1./255,\n",
        "    rotation_range = 40,\n",
        "    width_shift_range = 0.2,\n",
        "    height_shift_range = 0.2,\n",
        "    shear_range = 0.2,\n",
        "    zoom_range = 0.2,\n",
        "    horizontal_flip = True,\n",
        "    fill_mode = 'nearest',\n",
        ")\n",
        "train_generator = train_datagen.flow_from_dataframe(\n",
        "    train_df,\n",
        "    directory = './',\n",
        "    x_col = 'filepath',\n",
        "    y_col = 'class',\n",
        "    #讲labels转换为id\n",
        "    classes = class_names,\n",
        "    target_size = (height, width),\n",
        "    batch_size = batch_size,\n",
        "    seed = 7,\n",
        "    shuffle = True,\n",
        "    class_mode = 'sparse',\n",
        ")\n",
        "\n",
        "#和上面一致\n",
        "valid_datagen = keras.preprocessing.image.ImageDataGenerator(\n",
        "    rescale = 1./255)\n",
        "valid_generator = valid_datagen.flow_from_dataframe(\n",
        "    valid_df,\n",
        "    directory = './',\n",
        "    x_col = 'filepath',\n",
        "    y_col = 'class',\n",
        "    classes = class_names,\n",
        "    target_size = (height, width),\n",
        "    batch_size = batch_size,\n",
        "    seed = 7,\n",
        "    shuffle = False,\n",
        "    class_mode = \"sparse\")\n",
        "\n",
        "train_num = train_generator.samples\n",
        "valid_num = valid_generator.samples\n",
        "print(train_num, valid_num)"
      ],
      "execution_count": 24,
      "outputs": [
        {
          "output_type": "stream",
          "text": [
            "Found 45000 validated image filenames belonging to 10 classes.\n",
            "Found 5000 validated image filenames belonging to 10 classes.\n",
            "45000 5000\n"
          ],
          "name": "stdout"
        }
      ]
    },
    {
      "cell_type": "code",
      "metadata": {
        "id": "_IB_xO64cQYV",
        "colab": {
          "base_uri": "https://localhost:8080/"
        },
        "outputId": "a8e6d6b3-5fae-4425-e476-bfc6ea0f0e8a"
      },
      "source": [
        "for i in range(2):\n",
        "    x, y = train_generator.next()\n",
        "    print(x.shape, y.shape)\n",
        "    print(y)"
      ],
      "execution_count": 25,
      "outputs": [
        {
          "output_type": "stream",
          "text": [
            "(32, 32, 32, 3) (32,)\n",
            "[2. 1. 4. 4. 4. 4. 6. 5. 2. 8. 4. 6. 6. 3. 7. 1. 7. 2. 8. 8. 3. 0. 5. 3.\n",
            " 9. 1. 4. 5. 6. 7. 9. 2.]\n",
            "(32, 32, 32, 3) (32,)\n",
            "[0. 7. 2. 7. 5. 5. 7. 0. 5. 4. 9. 7. 6. 3. 0. 4. 4. 4. 6. 3. 5. 4. 6. 6.\n",
            " 4. 1. 8. 2. 4. 4. 3. 0.]\n"
          ],
          "name": "stdout"
        }
      ]
    },
    {
      "cell_type": "code",
      "metadata": {
        "id": "Cqqwrl9ycQYV",
        "colab": {
          "base_uri": "https://localhost:8080/"
        },
        "outputId": "5f5a2e5c-d91a-4ffc-d8a9-28adfa1aae56"
      },
      "source": [
        "model = keras.models.Sequential([\n",
        "    keras.layers.Conv2D(filters=128, kernel_size=3, padding='same',\n",
        "                        activation='relu', \n",
        "                        input_shape=[width, height, channels]),\n",
        "    keras.layers.BatchNormalization(),#为了是模型训练的更快\n",
        "    keras.layers.Conv2D(filters=128, kernel_size=3, padding='same',\n",
        "                        activation='relu'),\n",
        "    keras.layers.BatchNormalization(),\n",
        "    keras.layers.MaxPool2D(pool_size=2),\n",
        "    \n",
        "    keras.layers.Conv2D(filters=256, kernel_size=3, padding='same',\n",
        "                        activation='relu'),\n",
        "    keras.layers.BatchNormalization(),\n",
        "    keras.layers.Conv2D(filters=256, kernel_size=3, padding='same',\n",
        "                        activation='relu'),\n",
        "    keras.layers.BatchNormalization(),\n",
        "    keras.layers.MaxPool2D(pool_size=2),\n",
        "    keras.layers.Conv2D(filters=512, kernel_size=3, padding='same',\n",
        "                        activation='relu'),\n",
        "    keras.layers.BatchNormalization(),\n",
        "    keras.layers.Conv2D(filters=512, kernel_size=3, padding='same',\n",
        "                        activation='relu'),\n",
        "    keras.layers.BatchNormalization(),\n",
        "    keras.layers.MaxPool2D(pool_size=2),\n",
        "    keras.layers.Flatten(),\n",
        "    keras.layers.Dense(512, activation='relu'),\n",
        "    keras.layers.Dense(num_classes, activation='softmax'),\n",
        "])\n",
        "\n",
        "model.compile(loss=\"sparse_categorical_crossentropy\",\n",
        "              optimizer=\"adam\", metrics=['accuracy'])\n",
        "model.summary()"
      ],
      "execution_count": 26,
      "outputs": [
        {
          "output_type": "stream",
          "text": [
            "Model: \"sequential\"\n",
            "_________________________________________________________________\n",
            "Layer (type)                 Output Shape              Param #   \n",
            "=================================================================\n",
            "conv2d (Conv2D)              (None, 32, 32, 128)       3584      \n",
            "_________________________________________________________________\n",
            "batch_normalization (BatchNo (None, 32, 32, 128)       512       \n",
            "_________________________________________________________________\n",
            "conv2d_1 (Conv2D)            (None, 32, 32, 128)       147584    \n",
            "_________________________________________________________________\n",
            "batch_normalization_1 (Batch (None, 32, 32, 128)       512       \n",
            "_________________________________________________________________\n",
            "max_pooling2d (MaxPooling2D) (None, 16, 16, 128)       0         \n",
            "_________________________________________________________________\n",
            "conv2d_2 (Conv2D)            (None, 16, 16, 256)       295168    \n",
            "_________________________________________________________________\n",
            "batch_normalization_2 (Batch (None, 16, 16, 256)       1024      \n",
            "_________________________________________________________________\n",
            "conv2d_3 (Conv2D)            (None, 16, 16, 256)       590080    \n",
            "_________________________________________________________________\n",
            "batch_normalization_3 (Batch (None, 16, 16, 256)       1024      \n",
            "_________________________________________________________________\n",
            "max_pooling2d_1 (MaxPooling2 (None, 8, 8, 256)         0         \n",
            "_________________________________________________________________\n",
            "conv2d_4 (Conv2D)            (None, 8, 8, 512)         1180160   \n",
            "_________________________________________________________________\n",
            "batch_normalization_4 (Batch (None, 8, 8, 512)         2048      \n",
            "_________________________________________________________________\n",
            "conv2d_5 (Conv2D)            (None, 8, 8, 512)         2359808   \n",
            "_________________________________________________________________\n",
            "batch_normalization_5 (Batch (None, 8, 8, 512)         2048      \n",
            "_________________________________________________________________\n",
            "max_pooling2d_2 (MaxPooling2 (None, 4, 4, 512)         0         \n",
            "_________________________________________________________________\n",
            "flatten (Flatten)            (None, 8192)              0         \n",
            "_________________________________________________________________\n",
            "dense (Dense)                (None, 512)               4194816   \n",
            "_________________________________________________________________\n",
            "dense_1 (Dense)              (None, 10)                5130      \n",
            "=================================================================\n",
            "Total params: 8,783,498\n",
            "Trainable params: 8,779,914\n",
            "Non-trainable params: 3,584\n",
            "_________________________________________________________________\n"
          ],
          "name": "stdout"
        }
      ]
    },
    {
      "cell_type": "code",
      "metadata": {
        "id": "E2CMfhLEcQYW",
        "colab": {
          "base_uri": "https://localhost:8080/"
        },
        "outputId": "fd291f75-71fa-4033-c364-b7f6c647f5b6"
      },
      "source": [
        "epochs = 20\n",
        "history = model.fit_generator(train_generator,\n",
        "                              steps_per_epoch = train_num // batch_size,\n",
        "                              epochs = epochs,\n",
        "                              validation_data = valid_generator,\n",
        "                              validation_steps = valid_num // batch_size)"
      ],
      "execution_count": null,
      "outputs": [
        {
          "output_type": "stream",
          "text": [
            "/usr/local/lib/python3.7/dist-packages/tensorflow/python/keras/engine/training.py:1844: UserWarning: `Model.fit_generator` is deprecated and will be removed in a future version. Please use `Model.fit`, which supports generators.\n",
            "  warnings.warn('`Model.fit_generator` is deprecated and '\n"
          ],
          "name": "stderr"
        },
        {
          "output_type": "stream",
          "text": [
            "Epoch 1/20\n",
            "  19/1406 [..............................] - ETA: 1:00:42 - loss: 8.6454 - accuracy: 0.1439"
          ],
          "name": "stdout"
        }
      ]
    },
    {
      "cell_type": "code",
      "metadata": {
        "id": "mRzGnOEtcQYX",
        "outputId": "dc816d27-c772-46d3-9500-dec9a2e764c7"
      },
      "source": [
        "print(history.history)\n",
        "def plot_learning_curves(history, label, epcohs, min_value, max_value):\n",
        "    data = {}\n",
        "    data[label] = history.history[label]\n",
        "    data['val_'+label] = history.history['val_'+label]\n",
        "    pd.DataFrame(data).plot(figsize=(8, 5))\n",
        "    plt.grid(True)\n",
        "    plt.axis([0, epochs, min_value, max_value])\n",
        "    plt.show()\n",
        "    \n",
        "plot_learning_curves(history, 'accuracy', epochs, 0, 1)\n",
        "plot_learning_curves(history, 'loss', epochs, 0, 2)"
      ],
      "execution_count": null,
      "outputs": [
        {
          "output_type": "stream",
          "text": [
            "{'loss': [1.8576816320419312, 1.4375910758972168, 1.246155023574829, 1.098225712776184, 0.9597647190093994, 0.8754792213439941, 0.7976557612419128, 0.7390358448028564, 0.693913459777832, 0.6638731956481934, 0.6194524765014648, 0.5935087203979492, 0.5638469457626343, 0.5512691140174866, 0.522842526435852, 0.5094127058982849, 0.48757627606391907, 0.4697454273700714, 0.4566531181335449, 0.4445520341396332], 'accuracy': [0.36143478751182556, 0.48220956325531006, 0.5560843348503113, 0.6157712340354919, 0.666696310043335, 0.6969178318977356, 0.7251823544502258, 0.749332845211029, 0.7627424001693726, 0.7750844955444336, 0.7876712083816528, 0.7966554164886475, 0.8088640570640564, 0.815179705619812, 0.8223403096199036, 0.8274773359298706, 0.834526777267456, 0.8410869836807251, 0.8439779281616211, 0.8493818044662476], 'val_loss': [1.5040719509124756, 1.43246591091156, 1.0111817121505737, 1.0854347944259644, 0.8705207705497742, 0.8673074245452881, 0.8296210169792175, 0.8039629459381104, 0.5837736129760742, 0.556921660900116, 0.5980467796325684, 1.1181365251541138, 0.5166429281234741, 0.4910995662212372, 0.44568413496017456, 0.4495406150817871, 0.4821721017360687, 0.556223452091217, 0.44216498732566833, 0.4800929129123688], 'val_accuracy': [0.46294069290161133, 0.5222355723381042, 0.6494390964508057, 0.6274038553237915, 0.7097355723381042, 0.713942289352417, 0.7317708134651184, 0.7516025900840759, 0.8096955418586731, 0.8243188858032227, 0.8038862347602844, 0.7095352411270142, 0.8373397588729858, 0.8431490659713745, 0.8585737347602844, 0.8561698794364929, 0.8507612347602844, 0.8397436141967773, 0.862379789352417, 0.8567708134651184]}\n"
          ],
          "name": "stdout"
        },
        {
          "output_type": "display_data",
          "data": {
            "image/png": "[encoded data removed]",
            "text/plain": [
              "<Figure size 576x360 with 1 Axes>"
            ]
          },
          "metadata": {
            "tags": [],
            "needs_background": "light"
          }
        },
        {
          "output_type": "display_data",
          "data": {
            "image/png": "[encoded data removed]",
            "text/plain": [
              "<Figure size 576x360 with 1 Axes>"
            ]
          },
          "metadata": {
            "tags": [],
            "needs_background": "light"
          }
        }
      ]
    },
    {
      "cell_type": "code",
      "metadata": {
        "id": "f8yiLEO6cQYX",
        "outputId": "be906a64-7626-4bf9-f2da-3d0968bb49e3"
      },
      "source": [
        "test_datagen = keras.preprocessing.image.ImageDataGenerator(\n",
        "    rescale = 1./255)\n",
        "test_generator = valid_datagen.flow_from_dataframe(\n",
        "    test_df,\n",
        "    directory = './',\n",
        "    x_col = 'filepath',\n",
        "    y_col = 'class',\n",
        "    classes = class_names,\n",
        "    target_size = (height, width),\n",
        "    batch_size = batch_size,\n",
        "    seed = 7,\n",
        "    shuffle = False,\n",
        "    class_mode = \"sparse\")\n",
        "test_num = test_generator.samples\n",
        "print(test_num)"
      ],
      "execution_count": null,
      "outputs": [
        {
          "output_type": "stream",
          "text": [
            "Found 300000 validated image filenames belonging to 10 classes.\n",
            "300000\n"
          ],
          "name": "stdout"
        }
      ]
    },
    {
      "cell_type": "code",
      "metadata": {
        "id": "U9xh0XHjcQYY",
        "outputId": "b2e21ec7-fda5-4a50-c269-657fdfd7932b"
      },
      "source": [
        "#这里运行时间太久，等上了GPU再说\n",
        "test_predict = model.predict_generator(test_generator,\n",
        "                                       workers = 3,\n",
        "                                       use_multiprocessing = True)"
      ],
      "execution_count": null,
      "outputs": [
        {
          "output_type": "stream",
          "text": [
            "WARNING:tensorflow:multiprocessing can interact badly with TensorFlow, causing nondeterministic deadlocks. For high performance data pipelines tf.data is recommended.\n",
            "WARNING:tensorflow:multiprocessing can interact badly with TensorFlow, causing nondeterministic deadlocks. For high performance data pipelines tf.data is recommended.\n"
          ],
          "name": "stdout"
        }
      ]
    },
    {
      "cell_type": "code",
      "metadata": {
        "id": "Bap3Z-tXcQYY"
      },
      "source": [
        "print(test_predict.shape)"
      ],
      "execution_count": null,
      "outputs": []
    },
    {
      "cell_type": "code",
      "metadata": {
        "id": "_xRdjEBocQYZ"
      },
      "source": [
        "print(test_predict[0:5])"
      ],
      "execution_count": null,
      "outputs": []
    },
    {
      "cell_type": "code",
      "metadata": {
        "id": "E_2GxNDIcQYZ"
      },
      "source": [
        "test_predict_class_indices = np.argmax(test_predict, axis = 1)"
      ],
      "execution_count": null,
      "outputs": []
    },
    {
      "cell_type": "code",
      "metadata": {
        "id": "xM0A3hBicQYZ"
      },
      "source": [
        "print(test_predict_class_indices[0:5])"
      ],
      "execution_count": null,
      "outputs": []
    },
    {
      "cell_type": "code",
      "metadata": {
        "id": "-QhBtxE2cQYZ"
      },
      "source": [
        "test_predict_class = [class_names[index] \n",
        "                      for index in test_predict_class_indices]"
      ],
      "execution_count": null,
      "outputs": []
    },
    {
      "cell_type": "code",
      "metadata": {
        "id": "9UcaE4OvcQYa"
      },
      "source": [
        "print(test_predict_class[0:5])"
      ],
      "execution_count": null,
      "outputs": []
    },
    {
      "cell_type": "code",
      "metadata": {
        "id": "HJqU2T2McQYa"
      },
      "source": [
        "#产生最终的报告\n",
        "def generate_submissions(filename, predict_class):\n",
        "    with open(filename, 'w') as f:\n",
        "        f.write('id,label\\n')\n",
        "        for i in range(len(predict_class)):\n",
        "            f.write('%d,%s\\n' % (i+1, predict_class[i]))\n",
        "\n",
        "output_file = \"../cifar10/submission.csv\"\n",
        "generate_submissions(output_file, test_predict_class)"
      ],
      "execution_count": null,
      "outputs": []
    },
    {
      "cell_type": "code",
      "metadata": {
        "id": "e6YfIry9cQYa"
      },
      "source": [
        ""
      ],
      "execution_count": null,
      "outputs": []
    }
  ]
}