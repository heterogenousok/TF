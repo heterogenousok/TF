{
 "cells": [
  {
   "cell_type": "code",
   "execution_count": 2,
   "metadata": {},
   "outputs": [
    {
     "name": "stdout",
     "output_type": "stream",
     "text": [
      "2.2.0\n",
      "sys.version_info(major=3, minor=6, micro=9, releaselevel='final', serial=0)\n",
      "matplotlib 3.2.1\n",
      "numpy 1.18.5\n",
      "pandas 1.0.4\n",
      "sklearn 0.23.1\n",
      "tensorflow 2.2.0\n",
      "tensorflow.keras 2.3.0-tf\n"
     ]
    }
   ],
   "source": [
    "import matplotlib as mpl\n",
    "import matplotlib.pyplot as plt\n",
    "%matplotlib inline\n",
    "import numpy as np\n",
    "import sklearn\n",
    "import pandas as pd\n",
    "import os\n",
    "import sys\n",
    "import time\n",
    "import tensorflow as tf\n",
    "\n",
    "from tensorflow import keras\n",
    "\n",
    "print(tf.__version__)\n",
    "print(sys.version_info)\n",
    "for module in mpl, np, pd, sklearn, tf, keras:\n",
    "    print(module.__name__, module.__version__)"
   ]
  },
  {
   "cell_type": "code",
   "execution_count": 3,
   "metadata": {},
   "outputs": [
    {
     "name": "stdout",
     "output_type": "stream",
     "text": [
      "1115394\n",
      "First Citizen:\n",
      "Before we proceed any further, hear me speak.\n",
      "\n",
      "All:\n",
      "Speak, speak.\n",
      "\n",
      "First Citizen:\n",
      "You\n"
     ]
    }
   ],
   "source": [
    "# https://storage.googleapis.com/download.tensorflow.org/data/shakespeare.txt\n",
    "#文件已经下载好了\n",
    "input_filepath = \"./shakespeare.txt\"\n",
    "text = open(input_filepath, 'r').read()\n",
    "\n",
    "print(len(text))\n",
    "print(text[0:100])"
   ]
  },
  {
   "cell_type": "code",
   "execution_count": 4,
   "metadata": {},
   "outputs": [
    {
     "name": "stdout",
     "output_type": "stream",
     "text": [
      "65\n",
      "['\\n', ' ', '!', '$', '&', \"'\", ',', '-', '.', '3', ':', ';', '?', 'A', 'B', 'C', 'D', 'E', 'F', 'G', 'H', 'I', 'J', 'K', 'L', 'M', 'N', 'O', 'P', 'Q', 'R', 'S', 'T', 'U', 'V', 'W', 'X', 'Y', 'Z', 'a', 'b', 'c', 'd', 'e', 'f', 'g', 'h', 'i', 'j', 'k', 'l', 'm', 'n', 'o', 'p', 'q', 'r', 's', 't', 'u', 'v', 'w', 'x', 'y', 'z']\n"
     ]
    }
   ],
   "source": [
    "# 1. generate vocab\n",
    "# 2. build mapping char->id\n",
    "# 3. data -> id_data  把数据都转为id\n",
    "# 4. abcd -> bcd<eos>  预测下一个字符生成的模型，也就是输入是a，输出就是b\n",
    "\n",
    "#去重，留下独立字符，并排序\n",
    "vocab = sorted(set(text))\n",
    "print(len(vocab))\n",
    "print(vocab)"
   ]
  },
  {
   "cell_type": "code",
   "execution_count": 5,
   "metadata": {},
   "outputs": [
    {
     "name": "stdout",
     "output_type": "stream",
     "text": [
      "{'\\n': 0, ' ': 1, '!': 2, '$': 3, '&': 4, \"'\": 5, ',': 6, '-': 7, '.': 8, '3': 9, ':': 10, ';': 11, '?': 12, 'A': 13, 'B': 14, 'C': 15, 'D': 16, 'E': 17, 'F': 18, 'G': 19, 'H': 20, 'I': 21, 'J': 22, 'K': 23, 'L': 24, 'M': 25, 'N': 26, 'O': 27, 'P': 28, 'Q': 29, 'R': 30, 'S': 31, 'T': 32, 'U': 33, 'V': 34, 'W': 35, 'X': 36, 'Y': 37, 'Z': 38, 'a': 39, 'b': 40, 'c': 41, 'd': 42, 'e': 43, 'f': 44, 'g': 45, 'h': 46, 'i': 47, 'j': 48, 'k': 49, 'l': 50, 'm': 51, 'n': 52, 'o': 53, 'p': 54, 'q': 55, 'r': 56, 's': 57, 't': 58, 'u': 59, 'v': 60, 'w': 61, 'x': 62, 'y': 63, 'z': 64}\n"
     ]
    }
   ],
   "source": [
    "#每个字符都编好号，enumerate对每一个位置编号，生成的是列表中是元组，下面字典生成式\n",
    "char2idx = {char:idx for idx, char in enumerate(vocab)}\n",
    "print(char2idx)"
   ]
  },
  {
   "cell_type": "code",
   "execution_count": 6,
   "metadata": {},
   "outputs": [
    {
     "name": "stdout",
     "output_type": "stream",
     "text": [
      "['\\n' ' ' '!' '$' '&' \"'\" ',' '-' '.' '3' ':' ';' '?' 'A' 'B' 'C' 'D' 'E'\n",
      " 'F' 'G' 'H' 'I' 'J' 'K' 'L' 'M' 'N' 'O' 'P' 'Q' 'R' 'S' 'T' 'U' 'V' 'W'\n",
      " 'X' 'Y' 'Z' 'a' 'b' 'c' 'd' 'e' 'f' 'g' 'h' 'i' 'j' 'k' 'l' 'm' 'n' 'o'\n",
      " 'p' 'q' 'r' 's' 't' 'u' 'v' 'w' 'x' 'y' 'z']\n"
     ]
    }
   ],
   "source": [
    "# 把vocab从列表变为ndarray\n",
    "idx2char = np.array(vocab)\n",
    "print(idx2char)"
   ]
  },
  {
   "cell_type": "code",
   "execution_count": 8,
   "metadata": {},
   "outputs": [
    {
     "name": "stdout",
     "output_type": "stream",
     "text": [
      "(1115394,)\n",
      "1115394\n",
      "[18 47 56 57 58  1 15 47 58 47]\n",
      "First Citi\n"
     ]
    }
   ],
   "source": [
    "#把字符都转换为id\n",
    "text_as_int = np.array([char2idx[c] for c in text])\n",
    "print(text_as_int.shape)\n",
    "print(len(text_as_int))\n",
    "print(text_as_int[0:10])\n",
    "print(text[0:10])"
   ]
  },
  {
   "cell_type": "code",
   "execution_count": 14,
   "metadata": {},
   "outputs": [
    {
     "name": "stdout",
     "output_type": "stream",
     "text": [
      "tf.Tensor(18, shape=(), dtype=int64) F\n",
      "tf.Tensor(47, shape=(), dtype=int64) i\n",
      "tf.Tensor(\n",
      "[18 47 56 57 58  1 15 47 58 47 64 43 52 10  0 14 43 44 53 56 43  1 61 43\n",
      "  1 54 56 53 41 43 43 42  1 39 52 63  1 44 59 56 58 46 43 56  6  1 46 43\n",
      " 39 56  1 51 43  1 57 54 43 39 49  8  0  0 13 50 50 10  0 31 54 43 39 49\n",
      "  6  1 57 54 43 39 49  8  0  0 18 47 56 57 58  1 15 47 58 47 64 43 52 10\n",
      "  0 37 53 59  1], shape=(101,), dtype=int64)\n",
      "'First Citizen:\\nBefore we proceed any further, hear me speak.\\n\\nAll:\\nSpeak, speak.\\n\\nFirst Citizen:\\nYou '\n",
      "tf.Tensor(\n",
      "[39 56 43  1 39 50 50  1 56 43 57 53 50 60 43 42  1 56 39 58 46 43 56  1\n",
      " 58 53  1 42 47 43  1 58 46 39 52  1 58 53  1 44 39 51 47 57 46 12  0  0\n",
      " 13 50 50 10  0 30 43 57 53 50 60 43 42  8  1 56 43 57 53 50 60 43 42  8\n",
      "  0  0 18 47 56 57 58  1 15 47 58 47 64 43 52 10  0 18 47 56 57 58  6  1\n",
      " 63 53 59  1 49], shape=(101,), dtype=int64)\n",
      "'are all resolved rather to die than to famish?\\n\\nAll:\\nResolved. resolved.\\n\\nFirst Citizen:\\nFirst, you k'\n"
     ]
    }
   ],
   "source": [
    "#把输入和输出分配好\n",
    "def split_input_target(id_text):\n",
    "    \"\"\"\n",
    "    abcde -> abcd, bcde,输入是abcd，输出是bcde\n",
    "    \"\"\"\n",
    "    return id_text[0:-1], id_text[1:]\n",
    "\n",
    "#把id text转换为 dataset\n",
    "char_dataset = tf.data.Dataset.from_tensor_slices(text_as_int)\n",
    "seq_length = 100\n",
    "#做一个batch，seq_length + 1目的是我们输入是5个字符时，输出是4，drop_remainder\n",
    "# 是最后不够就丢掉，这个batch是把字变为句子，一个句子是101个字符\n",
    "seq_dataset = char_dataset.batch(seq_length + 1,\n",
    "                                 drop_remainder = True)\n",
    "for ch_id in char_dataset.take(2):\n",
    "    print(ch_id, idx2char[ch_id.numpy()])\n",
    "\n",
    "# # seq_dataset 每一个都是句子，对应id，取两个句子看看\n",
    "for seq_id in seq_dataset.take(2):\n",
    "    print(seq_id)\n",
    "    print(repr(''.join(idx2char[seq_id.numpy()])))"
   ]
  },
  {
   "cell_type": "code",
   "execution_count": 15,
   "metadata": {},
   "outputs": [
    {
     "name": "stdout",
     "output_type": "stream",
     "text": [
      "[18 47 56 57 58  1 15 47 58 47 64 43 52 10  0 14 43 44 53 56 43  1 61 43\n",
      "  1 54 56 53 41 43 43 42  1 39 52 63  1 44 59 56 58 46 43 56  6  1 46 43\n",
      " 39 56  1 51 43  1 57 54 43 39 49  8  0  0 13 50 50 10  0 31 54 43 39 49\n",
      "  6  1 57 54 43 39 49  8  0  0 18 47 56 57 58  1 15 47 58 47 64 43 52 10\n",
      "  0 37 53 59]\n",
      "[47 56 57 58  1 15 47 58 47 64 43 52 10  0 14 43 44 53 56 43  1 61 43  1\n",
      " 54 56 53 41 43 43 42  1 39 52 63  1 44 59 56 58 46 43 56  6  1 46 43 39\n",
      " 56  1 51 43  1 57 54 43 39 49  8  0  0 13 50 50 10  0 31 54 43 39 49  6\n",
      "  1 57 54 43 39 49  8  0  0 18 47 56 57 58  1 15 47 58 47 64 43 52 10  0\n",
      " 37 53 59  1]\n",
      "[39 56 43  1 39 50 50  1 56 43 57 53 50 60 43 42  1 56 39 58 46 43 56  1\n",
      " 58 53  1 42 47 43  1 58 46 39 52  1 58 53  1 44 39 51 47 57 46 12  0  0\n",
      " 13 50 50 10  0 30 43 57 53 50 60 43 42  8  1 56 43 57 53 50 60 43 42  8\n",
      "  0  0 18 47 56 57 58  1 15 47 58 47 64 43 52 10  0 18 47 56 57 58  6  1\n",
      " 63 53 59  1]\n",
      "[56 43  1 39 50 50  1 56 43 57 53 50 60 43 42  1 56 39 58 46 43 56  1 58\n",
      " 53  1 42 47 43  1 58 46 39 52  1 58 53  1 44 39 51 47 57 46 12  0  0 13\n",
      " 50 50 10  0 30 43 57 53 50 60 43 42  8  1 56 43 57 53 50 60 43 42  8  0\n",
      "  0 18 47 56 57 58  1 15 47 58 47 64 43 52 10  0 18 47 56 57 58  6  1 63\n",
      " 53 59  1 49]\n",
      "<MapDataset shapes: ((100,), (100,)), types: (tf.int64, tf.int64)>\n"
     ]
    }
   ],
   "source": [
    "#然后通过split_input_target函数来对seq_dataset做映射，得到输入，输出\n",
    "seq_dataset = seq_dataset.map(split_input_target)\n",
    "\n",
    "for item_input, item_output in seq_dataset.take(2):\n",
    "    print(item_input.numpy())\n",
    "    print(item_output.numpy())\n",
    "print(seq_dataset)"
   ]
  },
  {
   "cell_type": "code",
   "execution_count": 18,
   "metadata": {},
   "outputs": [
    {
     "name": "stdout",
     "output_type": "stream",
     "text": [
      "<BatchDataset shapes: ((64, 100), (64, 100)), types: (tf.int64, tf.int64)>\n"
     ]
    }
   ],
   "source": [
    "batch_size = 64\n",
    "buffer_size = 10000\n",
    "#这个batch是真正的batch，上一个batch是把字变为句子,buffer_size是从数据集拿那么多元素\n",
    "seq_dataset = seq_dataset.shuffle(buffer_size).batch(\n",
    "    batch_size, drop_remainder=True)\n",
    "print(seq_dataset)"
   ]
  },
  {
   "cell_type": "code",
   "execution_count": 19,
   "metadata": {},
   "outputs": [
    {
     "name": "stdout",
     "output_type": "stream",
     "text": [
      "Model: \"sequential\"\n",
      "_________________________________________________________________\n",
      "Layer (type)                 Output Shape              Param #   \n",
      "=================================================================\n",
      "embedding (Embedding)        (64, None, 256)           16640     \n",
      "_________________________________________________________________\n",
      "simple_rnn (SimpleRNN)       (64, None, 1024)          1311744   \n",
      "_________________________________________________________________\n",
      "dense (Dense)                (64, None, 65)            66625     \n",
      "=================================================================\n",
      "Total params: 1,395,009\n",
      "Trainable params: 1,395,009\n",
      "Non-trainable params: 0\n",
      "_________________________________________________________________\n"
     ]
    }
   ],
   "source": [
    "vocab_size = len(vocab)\n",
    "embedding_dim = 256  #资料比较小，所以dim可以设大一些\n",
    "rnn_units = 1024\n",
    "\n",
    "def build_model(vocab_size, embedding_dim, rnn_units, batch_size):\n",
    "    model = keras.models.Sequential([\n",
    "        keras.layers.Embedding(vocab_size, embedding_dim,\n",
    "                               batch_input_shape = [batch_size, None]),\n",
    "        #return_sequences是指要返回一个序列，也就是所有输出，而不是最后一个\n",
    "        keras.layers.SimpleRNN(units = rnn_units,\n",
    "                               stateful = True,#是否把最后返回的状态添加到输出\n",
    "                               recurrent_initializer = 'glorot_uniform',\n",
    "                               return_sequences = True),\n",
    "        #全连接层，为什么最后一层全连接层的输出是vocab_size\n",
    "        keras.layers.Dense(vocab_size),\n",
    "    ])\n",
    "    return model\n",
    "\n",
    "model = build_model(\n",
    "    vocab_size = vocab_size,\n",
    "    embedding_dim = embedding_dim,\n",
    "    rnn_units = rnn_units,\n",
    "    batch_size = batch_size)\n",
    "\n",
    "model.summary()"
   ]
  },
  {
   "cell_type": "code",
   "execution_count": 20,
   "metadata": {},
   "outputs": [
    {
     "data": {
      "text/plain": [
       "[<tf.Variable 'embedding/embeddings:0' shape=(65, 256) dtype=float32, numpy=\n",
       " array([[ 0.01461799, -0.03977693, -0.04230822, ..., -0.01583923,\n",
       "         -0.02077497,  0.01428571],\n",
       "        [-0.00529009,  0.0111338 ,  0.02122502, ..., -0.04261643,\n",
       "          0.04254115,  0.04439788],\n",
       "        [ 0.04624132, -0.02808242,  0.01049563, ..., -0.00015792,\n",
       "         -0.04482141, -0.04595819],\n",
       "        ...,\n",
       "        [-0.02983973,  0.03895411,  0.01342774, ...,  0.01684859,\n",
       "          0.03617629,  0.04942316],\n",
       "        [-0.00170964,  0.00859882,  0.04555153, ...,  0.01196524,\n",
       "         -0.03625675,  0.0153789 ],\n",
       "        [ 0.00301895, -0.03737794,  0.04797571, ...,  0.04297391,\n",
       "          0.03179053, -0.02238963]], dtype=float32)>,\n",
       " <tf.Variable 'simple_rnn/simple_rnn_cell/kernel:0' shape=(256, 1024) dtype=float32, numpy=\n",
       " array([[ 0.01676732, -0.05598472,  0.0068666 , ..., -0.06483845,\n",
       "          0.03262391, -0.02083575],\n",
       "        [-0.03811319, -0.01477782, -0.00621065, ..., -0.0495558 ,\n",
       "         -0.02096335, -0.02828697],\n",
       "        [-0.0485073 , -0.04448938,  0.01184064, ..., -0.00378595,\n",
       "         -0.04062574, -0.05859907],\n",
       "        ...,\n",
       "        [ 0.0233399 , -0.00217208,  0.02815583, ...,  0.02790057,\n",
       "         -0.06288855,  0.02119008],\n",
       "        [-0.00574335,  0.03744075,  0.03577215, ..., -0.02584942,\n",
       "          0.01882565, -0.05023073],\n",
       "        [ 0.01805978,  0.03210179,  0.05174596, ...,  0.05320899,\n",
       "          0.04948661, -0.00478793]], dtype=float32)>,\n",
       " <tf.Variable 'simple_rnn/simple_rnn_cell/recurrent_kernel:0' shape=(1024, 1024) dtype=float32, numpy=\n",
       " array([[-0.01787369, -0.01601169, -0.00253921, ...,  0.0242465 ,\n",
       "         -0.04904085,  0.02362103],\n",
       "        [-0.0337713 ,  0.00231504, -0.02884233, ...,  0.02654553,\n",
       "          0.05264464, -0.00424767],\n",
       "        [ 0.04268679, -0.02285007,  0.01494597, ..., -0.01627243,\n",
       "         -0.01904216, -0.04614299],\n",
       "        ...,\n",
       "        [-0.03973526,  0.00131683,  0.03425416, ..., -0.04592556,\n",
       "         -0.0488875 ,  0.00937051],\n",
       "        [ 0.03987602,  0.02854371,  0.04370881, ...,  0.05068892,\n",
       "          0.01481019,  0.04232531],\n",
       "        [ 0.0353996 ,  0.0404382 ,  0.04076594, ..., -0.02516371,\n",
       "         -0.02040836, -0.01060656]], dtype=float32)>,\n",
       " <tf.Variable 'simple_rnn/simple_rnn_cell/bias:0' shape=(1024,) dtype=float32, numpy=array([0., 0., 0., ..., 0., 0., 0.], dtype=float32)>,\n",
       " <tf.Variable 'dense/kernel:0' shape=(1024, 65) dtype=float32, numpy=\n",
       " array([[-0.04238888,  0.01652034, -0.01135022, ...,  0.0272866 ,\n",
       "          0.04135648,  0.02912586],\n",
       "        [-0.04034023, -0.05073388,  0.02198486, ..., -0.06378927,\n",
       "         -0.03146898, -0.02779579],\n",
       "        [ 0.02436186, -0.0172184 ,  0.0645846 , ...,  0.07029529,\n",
       "         -0.05850767,  0.06819575],\n",
       "        ...,\n",
       "        [ 0.00535342, -0.0005528 ,  0.00829215, ...,  0.02764027,\n",
       "         -0.03650194,  0.03524797],\n",
       "        [ 0.06651269, -0.04423346, -0.03524685, ..., -0.05245937,\n",
       "          0.06317523,  0.00948194],\n",
       "        [ 0.01160858, -0.07213104,  0.0077898 , ...,  0.00832993,\n",
       "         -0.07252156,  0.05940801]], dtype=float32)>,\n",
       " <tf.Variable 'dense/bias:0' shape=(65,) dtype=float32, numpy=\n",
       " array([0., 0., 0., 0., 0., 0., 0., 0., 0., 0., 0., 0., 0., 0., 0., 0., 0.,\n",
       "        0., 0., 0., 0., 0., 0., 0., 0., 0., 0., 0., 0., 0., 0., 0., 0., 0.,\n",
       "        0., 0., 0., 0., 0., 0., 0., 0., 0., 0., 0., 0., 0., 0., 0., 0., 0.,\n",
       "        0., 0., 0., 0., 0., 0., 0., 0., 0., 0., 0., 0., 0., 0.],\n",
       "       dtype=float32)>]"
      ]
     },
     "execution_count": 20,
     "metadata": {},
     "output_type": "execute_result"
    }
   ],
   "source": [
    "model.variables"
   ]
  },
  {
   "cell_type": "code",
   "execution_count": 21,
   "metadata": {},
   "outputs": [
    {
     "name": "stdout",
     "output_type": "stream",
     "text": [
      "(64, 100, 65)\n"
     ]
    }
   ],
   "source": [
    "for input_example_batch, target_example_batch in seq_dataset.take(1):\n",
    "    #把model当函数来用，实际是调用类的call方法\n",
    "    example_batch_predictions = model(input_example_batch)\n",
    "    print(example_batch_predictions.shape)"
   ]
  },
  {
   "cell_type": "code",
   "execution_count": 27,
   "metadata": {},
   "outputs": [
    {
     "name": "stdout",
     "output_type": "stream",
     "text": [
      "tf.Tensor(\n",
      "[-4.2078055e-02  4.1275684e-02  3.1370195e-03 -8.0881137e-03\n",
      " -2.1282559e-02 -1.8037211e-02 -8.6421650e-03 -9.0390649e-03\n",
      " -1.6477457e-03  2.1680370e-02  1.1185886e-02  2.4152845e-03\n",
      " -1.3603989e-02  6.2687164e-03 -1.7555147e-02  3.6703121e-02\n",
      "  7.0068697e-03  3.4238521e-03  3.6724196e-03  1.8432064e-02\n",
      " -5.1002633e-03 -2.8535241e-02  1.3469462e-02  4.4259755e-03\n",
      " -2.6338033e-03  3.7121256e-03 -8.7161567e-03  1.2343137e-02\n",
      " -3.7566673e-02  6.2624969e-02  4.8011363e-02  3.3326942e-02\n",
      "  4.0204689e-02 -3.4551062e-02 -8.6261742e-03 -7.6738736e-03\n",
      " -9.0767425e-03  9.5303394e-03  2.6973680e-02  9.8239314e-03\n",
      " -1.0401940e-02 -1.9955432e-02  6.3198553e-03 -2.1352254e-02\n",
      "  6.0630674e-03 -2.6769707e-02  9.3907872e-03 -4.4523865e-02\n",
      "  2.4203200e-02  2.3874879e-02 -7.3043862e-04 -3.2102685e-02\n",
      " -4.6126842e-03  2.0446023e-02  5.8889017e-04  1.0843616e-02\n",
      " -3.9171753e-03  3.1115474e-02 -9.4053019e-03 -5.2452749e-03\n",
      " -1.7959600e-02  6.4359777e-02  7.2192401e-05 -6.8674713e-02\n",
      "  2.5222789e-02], shape=(65,), dtype=float32)\n",
      "tf.Tensor(\n",
      "[[54]\n",
      " [ 6]\n",
      " [42]\n",
      " [61]\n",
      " [38]\n",
      " [45]\n",
      " [16]\n",
      " [ 1]\n",
      " [29]\n",
      " [38]\n",
      " [ 8]\n",
      " [12]\n",
      " [56]\n",
      " [ 2]\n",
      " [35]\n",
      " [17]\n",
      " [22]\n",
      " [18]\n",
      " [34]\n",
      " [ 0]\n",
      " [25]\n",
      " [ 4]\n",
      " [21]\n",
      " [49]\n",
      " [14]\n",
      " [44]\n",
      " [30]\n",
      " [15]\n",
      " [52]\n",
      " [19]\n",
      " [ 0]\n",
      " [42]\n",
      " [55]\n",
      " [56]\n",
      " [10]\n",
      " [23]\n",
      " [19]\n",
      " [18]\n",
      " [57]\n",
      " [19]\n",
      " [15]\n",
      " [ 9]\n",
      " [63]\n",
      " [31]\n",
      " [33]\n",
      " [64]\n",
      " [ 5]\n",
      " [42]\n",
      " [12]\n",
      " [30]\n",
      " [50]\n",
      " [36]\n",
      " [39]\n",
      " [11]\n",
      " [26]\n",
      " [ 1]\n",
      " [60]\n",
      " [62]\n",
      " [35]\n",
      " [47]\n",
      " [12]\n",
      " [59]\n",
      " [ 2]\n",
      " [ 4]\n",
      " [26]\n",
      " [ 9]\n",
      " [50]\n",
      " [20]\n",
      " [35]\n",
      " [38]\n",
      " [31]\n",
      " [23]\n",
      " [26]\n",
      " [22]\n",
      " [62]\n",
      " [34]\n",
      " [36]\n",
      " [ 0]\n",
      " [17]\n",
      " [ 2]\n",
      " [50]\n",
      " [26]\n",
      " [45]\n",
      " [62]\n",
      " [29]\n",
      " [52]\n",
      " [24]\n",
      " [62]\n",
      " [57]\n",
      " [53]\n",
      " [37]\n",
      " [ 6]\n",
      " [ 4]\n",
      " [34]\n",
      " [50]\n",
      " [15]\n",
      " [41]\n",
      " [40]\n",
      " [12]\n",
      " [18]], shape=(100, 1), dtype=int64)\n",
      "tf.Tensor(\n",
      "[54  6 42 61 38 45 16  1 29 38  8 12 56  2 35 17 22 18 34  0 25  4 21 49\n",
      " 14 44 30 15 52 19  0 42 55 56 10 23 19 18 57 19 15  9 63 31 33 64  5 42\n",
      " 12 30 50 36 39 11 26  1 60 62 35 47 12 59  2  4 26  9 50 20 35 38 31 23\n",
      " 26 22 62 34 36  0 17  2 50 26 45 62 29 52 24 62 57 53 37  6  4 34 50 15\n",
      " 41 40 12 18], shape=(100,), dtype=int64)\n"
     ]
    }
   ],
   "source": [
    "# random sampling.\n",
    "# greedy, random.\n",
    "#logits是计算分类任务之前，没有经过softmax的那个值就是logits，把第一个样本输进去\n",
    "# tf.random.categorical从分类分布中抽取样本\n",
    "print(example_batch_predictions[0][0])\n",
    "sample_indices = tf.random.categorical(\n",
    "    logits = example_batch_predictions[0], num_samples = 1)\n",
    "print(sample_indices)#得到（100,1）的tensor\n",
    "# # (100, 65) -> (100, 1)  调用squeeze 去除1的维度，变为100的向量\n",
    "sample_indices = tf.squeeze(sample_indices, axis = -1)\n",
    "print(sample_indices)"
   ]
  },
  {
   "cell_type": "code",
   "execution_count": 31,
   "metadata": {},
   "outputs": [
    {
     "name": "stdout",
     "output_type": "stream",
     "text": [
      "Input:  'h his forces,\\nAnd do expect him here some two hours hence.\\n\\nWARWICK:\\nThen Clarence is at hand, I hea'\n",
      "\n",
      "Output:  ' his forces,\\nAnd do expect him here some two hours hence.\\n\\nWARWICK:\\nThen Clarence is at hand, I hear'\n",
      "\n",
      "Predictions:  \"smu.u-nvitzlzISVfH3k,nwZIY'D:twal!;!l$wUcUDHK&MxmUCZsHkQlub\\nfZMEShKaEFZG3OXTWHpOSxnk;WQyYD!iZDcjqcFK\"\n"
     ]
    }
   ],
   "source": [
    "print(\"Input: \", repr(\"\".join(idx2char[input_example_batch[0]])))\n",
    "print()\n",
    "print(\"Output: \", repr(\"\".join(idx2char[target_example_batch[0]])))\n",
    "print()\n",
    "print(\"Predictions: \", repr(\"\".join(idx2char[sample_indices])))"
   ]
  },
  {
   "cell_type": "code",
   "execution_count": 28,
   "metadata": {},
   "outputs": [
    {
     "name": "stdout",
     "output_type": "stream",
     "text": [
      "(64, 100)\n",
      "4.182874\n"
     ]
    }
   ],
   "source": [
    "# from_logits是否预期为对数张量。默认情况下，我们假设对概率分布进行编码\n",
    "# logits表示网络的直接输出 。没经过sigmoid或者softmax的概率化。\n",
    "# from_logits=False就表示把已经概率化了的输出，重新映射回原值。log（p/(1-p)）\n",
    "def loss(labels, logits):\n",
    "    return keras.losses.sparse_categorical_crossentropy(\n",
    "        labels, logits, from_logits=True)\n",
    "\n",
    "model.compile(optimizer = 'adam', loss = loss)\n",
    "example_loss = loss(target_example_batch, example_batch_predictions)\n",
    "print(example_loss.shape)\n",
    "print(example_loss.numpy().mean())  #看下样例的loss"
   ]
  },
  {
   "cell_type": "code",
   "execution_count": null,
   "metadata": {},
   "outputs": [
    {
     "name": "stdout",
     "output_type": "stream",
     "text": [
      "Epoch 1/100\n",
      "172/172 [==============================] - 195s 1s/step - loss: 2.7963\n",
      "Epoch 2/100\n",
      "172/172 [==============================] - 221s 1s/step - loss: 2.0113\n",
      "Epoch 3/100\n",
      "172/172 [==============================] - 248s 1s/step - loss: 1.8067\n",
      "Epoch 4/100\n",
      "172/172 [==============================] - 241s 1s/step - loss: 1.6766\n",
      "Epoch 5/100\n",
      "172/172 [==============================] - 216s 1s/step - loss: 1.5900\n",
      "Epoch 6/100\n",
      "172/172 [==============================] - 189s 1s/step - loss: 1.5278\n",
      "Epoch 7/100\n",
      "172/172 [==============================] - 178s 1s/step - loss: 1.4836\n",
      "Epoch 8/100\n",
      "172/172 [==============================] - 163s 950ms/step - loss: 1.4484\n",
      "Epoch 9/100\n",
      "172/172 [==============================] - 160s 932ms/step - loss: 1.4212\n",
      "Epoch 10/100\n",
      "172/172 [==============================] - 169s 981ms/step - loss: 1.3962\n",
      "Epoch 11/100\n",
      "172/172 [==============================] - 169s 984ms/step - loss: 1.3755\n",
      "Epoch 12/100\n",
      "172/172 [==============================] - 164s 955ms/step - loss: 1.3550\n",
      "Epoch 13/100\n",
      "172/172 [==============================] - 123s 717ms/step - loss: 1.3387\n",
      "Epoch 14/100\n",
      "172/172 [==============================] - 107s 625ms/step - loss: 1.3238\n",
      "Epoch 15/100\n",
      "172/172 [==============================] - 104s 604ms/step - loss: 1.3071\n",
      "Epoch 16/100\n",
      "172/172 [==============================] - 106s 615ms/step - loss: 1.2928\n",
      "Epoch 17/100\n",
      "172/172 [==============================] - 107s 625ms/step - loss: 1.2798\n",
      "Epoch 18/100\n",
      "172/172 [==============================] - 106s 616ms/step - loss: 1.2664\n",
      "Epoch 19/100\n",
      "172/172 [==============================] - 105s 613ms/step - loss: 1.2532\n",
      "Epoch 20/100\n",
      "172/172 [==============================] - 106s 615ms/step - loss: 1.2405\n",
      "Epoch 21/100\n",
      "172/172 [==============================] - 110s 642ms/step - loss: 1.2294\n",
      "Epoch 22/100\n",
      "172/172 [==============================] - 105s 613ms/step - loss: 1.2161\n",
      "Epoch 23/100\n",
      "172/172 [==============================] - 110s 638ms/step - loss: 1.2051\n",
      "Epoch 24/100\n",
      "172/172 [==============================] - 115s 670ms/step - loss: 1.1940\n",
      "Epoch 25/100\n",
      "172/172 [==============================] - 154s 894ms/step - loss: 1.1846\n",
      "Epoch 26/100\n",
      "172/172 [==============================] - 150s 875ms/step - loss: 1.1725\n",
      "Epoch 27/100\n",
      "172/172 [==============================] - 114s 665ms/step - loss: 1.1617\n",
      "Epoch 28/100\n",
      "172/172 [==============================] - 107s 622ms/step - loss: 1.1525\n",
      "Epoch 29/100\n",
      "172/172 [==============================] - 108s 626ms/step - loss: 1.1442\n",
      "Epoch 30/100\n",
      "172/172 [==============================] - 108s 627ms/step - loss: 1.1340\n",
      "Epoch 31/100\n",
      "172/172 [==============================] - 108s 625ms/step - loss: 1.1260\n",
      "Epoch 32/100\n",
      "172/172 [==============================] - 107s 620ms/step - loss: 1.1172\n",
      "Epoch 33/100\n",
      "172/172 [==============================] - 107s 622ms/step - loss: 1.1093\n",
      "Epoch 34/100\n",
      "172/172 [==============================] - 105s 612ms/step - loss: 1.1011\n",
      "Epoch 35/100\n",
      "172/172 [==============================] - 110s 641ms/step - loss: 1.0957\n",
      "Epoch 36/100\n",
      "172/172 [==============================] - 105s 610ms/step - loss: 1.0902\n",
      "Epoch 37/100\n",
      "172/172 [==============================] - 108s 625ms/step - loss: 1.0821\n",
      "Epoch 38/100\n",
      "172/172 [==============================] - 105s 610ms/step - loss: 1.0766\n",
      "Epoch 39/100\n",
      "172/172 [==============================] - 108s 630ms/step - loss: 1.0729\n",
      "Epoch 40/100\n",
      "172/172 [==============================] - 105s 612ms/step - loss: 1.0665\n",
      "Epoch 41/100\n",
      "172/172 [==============================] - 108s 625ms/step - loss: 1.0601\n",
      "Epoch 42/100\n",
      "172/172 [==============================] - 107s 621ms/step - loss: 1.0592\n",
      "Epoch 43/100\n",
      "172/172 [==============================] - 107s 620ms/step - loss: 1.0557\n",
      "Epoch 44/100\n",
      "172/172 [==============================] - 106s 614ms/step - loss: 1.0504\n",
      "Epoch 45/100\n",
      "172/172 [==============================] - 106s 618ms/step - loss: 1.0489\n",
      "Epoch 46/100\n",
      "172/172 [==============================] - 105s 611ms/step - loss: 1.0453\n",
      "Epoch 47/100\n",
      "172/172 [==============================] - 105s 609ms/step - loss: 1.0426\n",
      "Epoch 48/100\n",
      "172/172 [==============================] - 107s 621ms/step - loss: 1.0426\n",
      "Epoch 49/100\n",
      "172/172 [==============================] - 103s 601ms/step - loss: 1.0415\n",
      "Epoch 50/100\n",
      "172/172 [==============================] - 106s 616ms/step - loss: 1.0398\n",
      "Epoch 51/100\n",
      "172/172 [==============================] - 107s 623ms/step - loss: 1.0379\n",
      "Epoch 52/100\n",
      "172/172 [==============================] - 106s 618ms/step - loss: 1.0366\n",
      "Epoch 53/100\n",
      "172/172 [==============================] - 106s 613ms/step - loss: 1.0362\n",
      "Epoch 54/100\n",
      "172/172 [==============================] - 106s 617ms/step - loss: 1.0367\n",
      "Epoch 55/100\n",
      "172/172 [==============================] - 105s 611ms/step - loss: 1.0359\n",
      "Epoch 56/100\n",
      "172/172 [==============================] - 107s 623ms/step - loss: 1.0397\n",
      "Epoch 57/100\n",
      "172/172 [==============================] - 108s 626ms/step - loss: 1.0353\n",
      "Epoch 58/100\n",
      "172/172 [==============================] - 106s 616ms/step - loss: 1.0359\n",
      "Epoch 59/100\n",
      "172/172 [==============================] - 104s 604ms/step - loss: 1.0359\n",
      "Epoch 60/100\n",
      "172/172 [==============================] - 107s 622ms/step - loss: 1.0365\n",
      "Epoch 61/100\n",
      "172/172 [==============================] - 109s 632ms/step - loss: 1.0371\n",
      "Epoch 62/100\n",
      "172/172 [==============================] - 108s 626ms/step - loss: 1.0406\n",
      "Epoch 63/100\n",
      "172/172 [==============================] - 108s 627ms/step - loss: 1.0390\n",
      "Epoch 64/100\n",
      "172/172 [==============================] - 108s 628ms/step - loss: 1.0439\n",
      "Epoch 65/100\n",
      "172/172 [==============================] - 107s 619ms/step - loss: 1.0444\n",
      "Epoch 66/100\n",
      "172/172 [==============================] - 105s 611ms/step - loss: 1.0468\n",
      "Epoch 67/100\n",
      "172/172 [==============================] - 107s 620ms/step - loss: 1.0483\n",
      "Epoch 68/100\n",
      "172/172 [==============================] - 105s 610ms/step - loss: 1.0525\n",
      "Epoch 69/100\n",
      "172/172 [==============================] - 105s 611ms/step - loss: 1.0525\n",
      "Epoch 70/100\n",
      "172/172 [==============================] - 106s 619ms/step - loss: 1.0572\n",
      "Epoch 71/100\n",
      "172/172 [==============================] - 108s 627ms/step - loss: 1.0587\n",
      "Epoch 72/100\n",
      "172/172 [==============================] - 106s 618ms/step - loss: 1.0566\n",
      "Epoch 73/100\n",
      "172/172 [==============================] - 105s 612ms/step - loss: 1.0579\n",
      "Epoch 74/100\n",
      "172/172 [==============================] - 106s 614ms/step - loss: 1.0641\n",
      "Epoch 75/100\n",
      "172/172 [==============================] - 107s 619ms/step - loss: 1.0686\n",
      "Epoch 76/100\n",
      "172/172 [==============================] - 105s 613ms/step - loss: 1.0731\n",
      "Epoch 77/100\n",
      "172/172 [==============================] - 105s 613ms/step - loss: 1.0745\n",
      "Epoch 78/100\n",
      "172/172 [==============================] - 108s 630ms/step - loss: 1.0773\n",
      "Epoch 79/100\n",
      "172/172 [==============================] - 107s 622ms/step - loss: 1.0784\n",
      "Epoch 80/100\n",
      "172/172 [==============================] - 108s 628ms/step - loss: 1.0818\n",
      "Epoch 81/100\n",
      "172/172 [==============================] - 106s 618ms/step - loss: 1.0840\n",
      "Epoch 82/100\n",
      "172/172 [==============================] - 109s 634ms/step - loss: 1.0881\n",
      "Epoch 83/100\n",
      "172/172 [==============================] - 110s 641ms/step - loss: 1.0941\n",
      "Epoch 84/100\n",
      "172/172 [==============================] - 121s 705ms/step - loss: 1.0966\n",
      "Epoch 85/100\n",
      "128/172 [=====================>........] - ETA: 29s - loss: 1.0991"
     ]
    }
   ],
   "source": [
    "#定义一个文件夹，保存模型\n",
    "output_dir = \"./text_generation_checkpoints\"\n",
    "if not os.path.exists(output_dir):\n",
    "    os.mkdir(output_dir)\n",
    "checkpoint_prefix = os.path.join(output_dir, 'ckpt_{epoch}')\n",
    "checkpoint_callback = keras.callbacks.ModelCheckpoint(\n",
    "    filepath = checkpoint_prefix,\n",
    "    #只保存权重的值\n",
    "    save_weights_only = True)\n",
    "\n",
    "epochs = 100\n",
    "history = model.fit(seq_dataset, epochs = epochs,\n",
    "                    callbacks = [checkpoint_callback])\n"
   ]
  },
  {
   "cell_type": "code",
   "execution_count": null,
   "metadata": {},
   "outputs": [],
   "source": [
    "tf.train.latest_checkpoint(output_dir)"
   ]
  },
  {
   "cell_type": "code",
   "execution_count": null,
   "metadata": {},
   "outputs": [],
   "source": [
    "output_dir = \"./text_generation_checkpoints\"\n",
    "model2 = build_model(vocab_size,\n",
    "                     embedding_dim,\n",
    "                     rnn_units,\n",
    "                     batch_size = 1)\n",
    "model2.load_weights(tf.train.latest_checkpoint(output_dir))\n",
    "#1是一个样本，None是可以变长序列\n",
    "model2.build(tf.TensorShape([1, None]))\n",
    "#下面是文本生成的流程\n",
    "# start ch sequence A, \n",
    "# A -> model -> b  A放入模型后得到b\n",
    "# A.append(b) -> B\n",
    "# B(Ab) -> model -> c\n",
    "# B.append(c) -> C\n",
    "# C(Abc) -> model -> ...\n",
    "model2.summary()"
   ]
  },
  {
   "cell_type": "code",
   "execution_count": null,
   "metadata": {},
   "outputs": [],
   "source": [
    "#定义一个函数来实现上面的文本生成流程\n",
    "def generate_text(model, start_string, num_generate = 1000):\n",
    "    #这一次输出的是1维的\n",
    "    input_eval = [char2idx[ch] for ch in start_string]\n",
    "    print(input_eval)\n",
    "    #做一个维度扩展\n",
    "    input_eval = tf.expand_dims(input_eval, 0)\n",
    "    print(input_eval)\n",
    "    text_generated = []\n",
    "    #对model进行reset，连续调用的时候使用resets_states()\n",
    "    model.reset_states()\n",
    "    \n",
    "    for _ in range(num_generate):\n",
    "        # 1. model inference -> predictions\n",
    "        # 2. sample -> ch -> text_generated.\n",
    "        # 3. update input_eval\n",
    "        \n",
    "        # predictions : [batch_size, input_eval_len, vocab_size]\n",
    "        predictions = model(input_eval)\n",
    "        #squeeze消掉 batch_size，变为predictions : [input_eval_len, vocab_size]\n",
    "        predictions = tf.squeeze(predictions, 0)\n",
    "        # predicted_ids: [input_eval_len, 1]\n",
    "        # a b c -> b c d\n",
    "#         print(predictions)\n",
    "        #把predictions : [input_eval_len, vocab_size]维度数据变为 1个维度\n",
    "        predicted_id = tf.random.categorical(\n",
    "            predictions, num_samples = 1)[-1, 0].numpy()\n",
    "#         print(predicted_id)\n",
    "        # 得到预测id后，放入text_generated\n",
    "        text_generated.append(idx2char[predicted_id])\n",
    "        # 下面这是是我们原来的公式,为什么没有append作为新的输入,因为那样比较低效\n",
    "        # s, x -> rnn -> s', y\n",
    "        input_eval = tf.expand_dims([predicted_id], 0)\n",
    "    return start_string + ''.join(text_generated)\n",
    "\n",
    "new_text = generate_text(model2, \"All: \")\n",
    "print(new_text)\n"
   ]
  },
  {
   "cell_type": "code",
   "execution_count": null,
   "metadata": {},
   "outputs": [],
   "source": []
  }
 ],
 "metadata": {
  "kernelspec": {
   "display_name": "Python 3",
   "language": "python",
   "name": "python3"
  },
  "language_info": {
   "codemirror_mode": {
    "name": "ipython",
    "version": 3
   },
   "file_extension": ".py",
   "mimetype": "text/x-python",
   "name": "python",
   "nbconvert_exporter": "python",
   "pygments_lexer": "ipython3",
   "version": "3.6.9"
  }
 },
 "nbformat": 4,
 "nbformat_minor": 2
}
