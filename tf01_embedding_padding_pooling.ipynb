{
 "cells": [
  {
   "cell_type": "code",
   "execution_count": 1,
   "metadata": {},
   "outputs": [
    {
     "name": "stdout",
     "output_type": "stream",
     "text": [
      "2.2.0\n",
      "sys.version_info(major=3, minor=6, micro=9, releaselevel='final', serial=0)\n",
      "matplotlib 3.2.1\n",
      "numpy 1.18.5\n",
      "pandas 1.0.4\n",
      "sklearn 0.23.1\n",
      "tensorflow 2.2.0\n",
      "tensorflow.keras 2.3.0-tf\n"
     ]
    }
   ],
   "source": [
    "import matplotlib as mpl\n",
    "import matplotlib.pyplot as plt\n",
    "%matplotlib inline\n",
    "import numpy as np\n",
    "import sklearn\n",
    "import pandas as pd\n",
    "import os\n",
    "import sys\n",
    "import time\n",
    "import tensorflow as tf\n",
    "\n",
    "from tensorflow import keras\n",
    "\n",
    "print(tf.__version__)\n",
    "print(sys.version_info)\n",
    "for module in mpl, np, pd, sklearn, tf, keras:\n",
    "    print(module.__name__, module.__version__)\n"
   ]
  },
  {
   "cell_type": "code",
   "execution_count": 2,
   "metadata": {},
   "outputs": [],
   "source": [
    "#用karas有的数据集imdb，电影分类,分电影是积极的，还是消极的\n",
    "imdb = keras.datasets.imdb\n",
    "#载入数据使用下面两个参数\n",
    "vocab_size = 10000  #词袋\n",
    "index_from = 3\n",
    "#前一万个词出现词频最高的会保留下来进行处理，后面的作为特殊字符处理，\n",
    "# 小于3的id都是特殊字符，下面代码有写\n",
    "# 需要注意的一点是取出来的词表还是从1开始的，需要做处理\n",
    "(train_data, train_labels), (test_data, test_labels) = imdb.load_data(\n",
    "    num_words = vocab_size, index_from = index_from)"
   ]
  },
  {
   "cell_type": "code",
   "execution_count": 9,
   "metadata": {},
   "outputs": [
    {
     "name": "stdout",
     "output_type": "stream",
     "text": [
      "[1, 14, 22, 16, 43, 530, 973, 1622, 1385, 65, 458, 4468, 66, 3941, 4, 173, 36, 256, 5, 25, 100, 43, 838, 112, 50, 670, 2, 9, 35, 480, 284, 5, 150, 4, 172, 112, 167, 2, 336, 385, 39, 4, 172, 4536, 1111, 17, 546, 38, 13, 447, 4, 192, 50, 16, 6, 147, 2025, 19, 14, 22, 4, 1920, 4613, 469, 4, 22, 71, 87, 12, 16, 43, 530, 38, 76, 15, 13, 1247, 4, 22, 17, 515, 17, 12, 16, 626, 18, 2, 5, 62, 386, 12, 8, 316, 8, 106, 5, 4, 2223, 5244, 16, 480, 66, 3785, 33, 4, 130, 12, 16, 38, 619, 5, 25, 124, 51, 36, 135, 48, 25, 1415, 33, 6, 22, 12, 215, 28, 77, 52, 5, 14, 407, 16, 82, 2, 8, 4, 107, 117, 5952, 15, 256, 4, 2, 7, 3766, 5, 723, 36, 71, 43, 530, 476, 26, 400, 317, 46, 7, 4, 2, 1029, 13, 104, 88, 4, 381, 15, 297, 98, 32, 2071, 56, 26, 141, 6, 194, 7486, 18, 4, 226, 22, 21, 134, 476, 26, 480, 5, 144, 30, 5535, 18, 51, 36, 28, 224, 92, 25, 104, 4, 226, 65, 16, 38, 1334, 88, 12, 16, 283, 5, 16, 4472, 113, 103, 32, 15, 16, 5345, 19, 178, 32] 1\n",
      "--------------------------------------------------\n",
      "(25000,) (25000,)\n",
      "218 189\n",
      "<class 'numpy.ndarray'>\n",
      "<class 'numpy.ndarray'>\n",
      "[0 1]\n"
     ]
    }
   ],
   "source": [
    "#train_data每个样本都是一个向量，\n",
    "# train_labels的每个样本都是一个值，0或者1\n",
    "# label为pos(positive) 1和neg(negative) 0。\n",
    "print(train_data[0], train_labels[0])\n",
    "print('-'*50)\n",
    "#两个形状,train_data.shape显示的只有一维，是因为另外一维是变长的\n",
    "print(train_data.shape, train_labels.shape)\n",
    "# #打印第一个样本，第二个样本长度，可以看出是变长的，变长我们要把它都变为一样的长度\n",
    "print(len(train_data[0]), len(train_data[1]))\n",
    "print(type(train_data))\n",
    "print(type(train_labels))\n",
    "\n",
    "print(np.unique(train_labels))"
   ]
  },
  {
   "cell_type": "code",
   "execution_count": 28,
   "metadata": {},
   "outputs": [
    {
     "name": "stdout",
     "output_type": "stream",
     "text": [
      "(25000,) (25000,)\n"
     ]
    }
   ],
   "source": [
    "print(test_data.shape, test_labels.shape)"
   ]
  },
  {
   "cell_type": "code",
   "execution_count": 11,
   "metadata": {},
   "outputs": [
    {
     "name": "stdout",
     "output_type": "stream",
     "text": [
      "88584\n",
      "<class 'dict'>\n"
     ]
    }
   ],
   "source": [
    "#载入词表，看下词表长度，词表就像英语字典\n",
    "word_index = imdb.get_word_index()\n",
    "print(len(word_index))\n",
    "print(type(word_index))\n"
   ]
  },
  {
   "cell_type": "code",
   "execution_count": 15,
   "metadata": {},
   "outputs": [
    {
     "name": "stdout",
     "output_type": "stream",
     "text": [
      "<class 'dict'>\n"
     ]
    },
    {
     "data": {
      "text/plain": [
       "'of'"
      ]
     },
     "execution_count": 15,
     "metadata": {},
     "output_type": "execute_result"
    }
   ],
   "source": [
    "#为什么要翻过来，是因为原来的key，是单词，是一个字符串，而value是数值\n",
    "reverse_word_index = dict(\n",
    "    [(value, key) for key, value in word_index.items()])\n",
    "print(type(reverse_word_index))\n",
    "reverse_word_index.get(4)"
   ]
  },
  {
   "cell_type": "code",
   "execution_count": 16,
   "metadata": {},
   "outputs": [],
   "source": [
    "# 需要注意的一点是取出来的词表还是从1开始的，需要做处理，偏移3\n",
    "word_index = {k:(v+3) for k, v in word_index.items()}"
   ]
  },
  {
   "cell_type": "code",
   "execution_count": 17,
   "metadata": {},
   "outputs": [
    {
     "data": {
      "text/plain": [
       "\"<START> this film was just brilliant casting location scenery story direction everyone's really suited the part they played and you could just imagine being there robert <UNK> is an amazing actor and now the same being director <UNK> father came from the same scottish island as myself so i loved the fact there was a real connection with this film the witty remarks throughout the film were great it was just brilliant so much that i bought the film as soon as it was released for <UNK> and would recommend it to everyone to watch and the fly fishing was amazing really cried at the end it was so sad and you know what they say if you cry at a film it must have been good and this definitely was also <UNK> to the two little boy's that played the <UNK> of norman and paul they were just brilliant children are often left out of the <UNK> list i think because the stars that play them all grown up are such a big profile for the whole film but these children are amazing and should be praised for what they have done don't you think the whole story was so lovely because it was true and was someone's life after all that was shared with us all\""
      ]
     },
     "execution_count": 17,
     "metadata": {},
     "output_type": "execute_result"
    }
   ],
   "source": [
    "#小于3的id都是特殊字符，下面的代码中给这些id的意义做了明确，因为我们做了偏移，因此\n",
    "#对于这些多余槽位我们给与新的释义\n",
    "word_index['<PAD>'] = 0   # 做padding时，我们来填充的字符\n",
    "word_index['<START>'] = 1  #起始\n",
    "word_index['<UNK>'] = 2  #找不到就返回UNK\n",
    "word_index['<END>'] = 3  #每个句子末尾\n",
    "\n",
    "reverse_word_index = dict(\n",
    "    [(value, key) for key, value in word_index.items()])\n",
    "\n",
    "\n",
    "def decode_review(text_ids):\n",
    "    return ' '.join(\n",
    "        [reverse_word_index.get(word_id, \"<UNK>\") for word_id in text_ids])\n",
    "#有了reverse我们可以反向转回来看看这句话是什么，就是把数字解释为了真实的文本\n",
    "decode_review(train_data[0])"
   ]
  },
  {
   "cell_type": "code",
   "execution_count": 18,
   "metadata": {},
   "outputs": [
    {
     "name": "stdout",
     "output_type": "stream",
     "text": [
      "[   1   14   22   16   43  530  973 1622 1385   65  458 4468   66 3941\n",
      "    4  173   36  256    5   25  100   43  838  112   50  670    2    9\n",
      "   35  480  284    5  150    4  172  112  167    2  336  385   39    4\n",
      "  172 4536 1111   17  546   38   13  447    4  192   50   16    6  147\n",
      " 2025   19   14   22    4 1920 4613  469    4   22   71   87   12   16\n",
      "   43  530   38   76   15   13 1247    4   22   17  515   17   12   16\n",
      "  626   18    2    5   62  386   12    8  316    8  106    5    4 2223\n",
      " 5244   16  480   66 3785   33    4  130   12   16   38  619    5   25\n",
      "  124   51   36  135   48   25 1415   33    6   22   12  215   28   77\n",
      "   52    5   14  407   16   82    2    8    4  107  117 5952   15  256\n",
      "    4    2    7 3766    5  723   36   71   43  530  476   26  400  317\n",
      "   46    7    4    2 1029   13  104   88    4  381   15  297   98   32\n",
      " 2071   56   26  141    6  194 7486   18    4  226   22   21  134  476\n",
      "   26  480    5  144   30 5535   18   51   36   28  224   92   25  104\n",
      "    4  226   65   16   38 1334   88   12   16  283    5   16 4472  113\n",
      "  103   32   15   16 5345   19  178   32    0    0    0    0    0    0\n",
      "    0    0    0    0    0    0    0    0    0    0    0    0    0    0\n",
      "    0    0    0    0    0    0    0    0    0    0    0    0    0    0\n",
      "    0    0    0    0    0    0    0    0    0    0    0    0    0    0\n",
      "    0    0    0    0    0    0    0    0    0    0    0    0    0    0\n",
      "    0    0    0    0    0    0    0    0    0    0    0    0    0    0\n",
      "    0    0    0    0    0    0    0    0    0    0    0    0    0    0\n",
      "    0    0    0    0    0    0    0    0    0    0    0    0    0    0\n",
      "    0    0    0    0    0    0    0    0    0    0    0    0    0    0\n",
      "    0    0    0    0    0    0    0    0    0    0    0    0    0    0\n",
      "    0    0    0    0    0    0    0    0    0    0    0    0    0    0\n",
      "    0    0    0    0    0    0    0    0    0    0    0    0    0    0\n",
      "    0    0    0    0    0    0    0    0    0    0    0    0    0    0\n",
      "    0    0    0    0    0    0    0    0    0    0    0    0    0    0\n",
      "    0    0    0    0    0    0    0    0    0    0    0    0    0    0\n",
      "    0    0    0    0    0    0    0    0    0    0    0    0    0    0\n",
      "    0    0    0    0    0    0    0    0    0    0    0    0    0    0\n",
      "    0    0    0    0    0    0    0    0    0    0    0    0    0    0\n",
      "    0    0    0    0    0    0    0    0    0    0    0    0    0    0\n",
      "    0    0    0    0    0    0    0    0    0    0    0    0    0    0\n",
      "    0    0    0    0    0    0    0    0    0    0]\n"
     ]
    }
   ],
   "source": [
    "#长度低于500会被补全，高于500会被截断\n",
    "max_length = 500\n",
    "\n",
    "#pad_sequences用来做padding\n",
    "train_data = keras.preprocessing.sequence.pad_sequences(\n",
    "    train_data, # list of list\n",
    "    value = word_index['<PAD>'],#填充啥内容\n",
    "    padding = 'post', # pre，post padding的顺序，一个是放前面，一个是后面\n",
    "    maxlen = max_length)\n",
    "\n",
    "#对应test一样的\n",
    "test_data = keras.preprocessing.sequence.pad_sequences(\n",
    "    test_data, # list of list\n",
    "    value = word_index['<PAD>'],\n",
    "    padding = 'post', # post, pre\n",
    "    maxlen = max_length)\n",
    "\n",
    "print(train_data[0])"
   ]
  },
  {
   "cell_type": "code",
   "execution_count": 25,
   "metadata": {},
   "outputs": [
    {
     "name": "stdout",
     "output_type": "stream",
     "text": [
      "(25000, 500)\n"
     ]
    }
   ],
   "source": [
    "print(train_data.shape)"
   ]
  },
  {
   "cell_type": "code",
   "execution_count": 19,
   "metadata": {},
   "outputs": [
    {
     "name": "stdout",
     "output_type": "stream",
     "text": [
      "Model: \"sequential\"\n",
      "_________________________________________________________________\n",
      "Layer (type)                 Output Shape              Param #   \n",
      "=================================================================\n",
      "embedding (Embedding)        (None, 500, 16)           160000    \n",
      "_________________________________________________________________\n",
      "global_average_pooling1d (Gl (None, 16)                0         \n",
      "_________________________________________________________________\n",
      "dense (Dense)                (None, 64)                1088      \n",
      "_________________________________________________________________\n",
      "dense_1 (Dense)              (None, 1)                 65        \n",
      "=================================================================\n",
      "Total params: 161,153\n",
      "Trainable params: 161,153\n",
      "Non-trainable params: 0\n",
      "_________________________________________________________________\n"
     ]
    }
   ],
   "source": [
    "#embedding_dim，每个词的向量维度是16\n",
    "embedding_dim = 16\n",
    "batch_size = 128\n",
    "\n",
    "model = keras.models.Sequential([\n",
    "    # 1. define matrix: [vocab_size, embedding_dim]\n",
    "    # 2. [1,2,3,4..], max_length * embedding_dim\n",
    "    # 3. batch_size * max_length * embedding_dim  最后变为，具体看文档\n",
    "    keras.layers.Embedding(vocab_size, embedding_dim,\n",
    "                           input_length = max_length),\n",
    "    # GlobalAveragePooling1D是把batch_size * max_length * embedding_dim \n",
    "    #   -> batch_size * embedding_dim，消除维度max_length，具体看文档\n",
    "    keras.layers.GlobalAveragePooling1D(),\n",
    "    keras.layers.Dense(64, activation = 'relu'),\n",
    "    keras.layers.Dense(1, activation = 'sigmoid'),\n",
    "])\n",
    "\n",
    "model.summary()\n",
    "model.compile(optimizer = 'adam', loss = 'binary_crossentropy',\n",
    "              metrics = ['accuracy'])\n",
    "#160000 是vocab_size*embedding_dim的结果\n",
    "#1088 是embedding_dim*64+64得到的结果  wx+b\n",
    "#65是 w*1+1"
   ]
  },
  {
   "cell_type": "code",
   "execution_count": 21,
   "metadata": {},
   "outputs": [
    {
     "data": {
      "image/png": "[encoded data removed]",
      "text/plain": [
       "<IPython.core.display.Image object>"
      ]
     },
     "execution_count": 21,
     "metadata": {},
     "output_type": "execute_result"
    }
   ],
   "source": [
    "from tensorflow.keras.utils import plot_model\n",
    "\n",
    "plot_model(model)"
   ]
  },
  {
   "cell_type": "code",
   "execution_count": 20,
   "metadata": {},
   "outputs": [
    {
     "data": {
      "text/plain": [
       "[<tf.Variable 'embedding/embeddings:0' shape=(10000, 16) dtype=float32, numpy=\n",
       " array([[ 0.02264449,  0.02724223,  0.02184233, ..., -0.00235584,\n",
       "          0.01283182,  0.02639847],\n",
       "        [ 0.02880767,  0.00998914, -0.04588976, ..., -0.04171804,\n",
       "         -0.02006204,  0.0030757 ],\n",
       "        [-0.03154596, -0.00507609,  0.0240149 , ..., -0.0005937 ,\n",
       "         -0.03355   ,  0.03648174],\n",
       "        ...,\n",
       "        [-0.00420018,  0.01013697, -0.02400061, ...,  0.00668845,\n",
       "          0.04957905, -0.03084349],\n",
       "        [ 0.04908044,  0.00236279,  0.02080301, ..., -0.02512975,\n",
       "         -0.00049678,  0.01515836],\n",
       "        [ 0.02694288,  0.03374419, -0.0471325 , ...,  0.03998077,\n",
       "          0.02177754, -0.0141641 ]], dtype=float32)>,\n",
       " <tf.Variable 'dense/kernel:0' shape=(16, 64) dtype=float32, numpy=\n",
       " array([[-0.22561224,  0.07180712, -0.22884695, ...,  0.20348972,\n",
       "          0.17238057,  0.24070042],\n",
       "        [ 0.13347471,  0.19383606,  0.19722766, ...,  0.08189479,\n",
       "          0.16012123, -0.1322933 ],\n",
       "        [ 0.2318312 ,  0.09228039, -0.05536546, ...,  0.11822939,\n",
       "          0.00309634, -0.11857975],\n",
       "        ...,\n",
       "        [-0.06637239,  0.00826016, -0.21048331, ..., -0.07356018,\n",
       "         -0.2157023 , -0.21058714],\n",
       "        [-0.19343594, -0.04566368, -0.19277817, ..., -0.17402324,\n",
       "          0.17662713,  0.00416717],\n",
       "        [-0.03549348,  0.23720884,  0.16567531, ..., -0.17710099,\n",
       "         -0.00502566, -0.00069511]], dtype=float32)>,\n",
       " <tf.Variable 'dense/bias:0' shape=(64,) dtype=float32, numpy=\n",
       " array([0., 0., 0., 0., 0., 0., 0., 0., 0., 0., 0., 0., 0., 0., 0., 0., 0.,\n",
       "        0., 0., 0., 0., 0., 0., 0., 0., 0., 0., 0., 0., 0., 0., 0., 0., 0.,\n",
       "        0., 0., 0., 0., 0., 0., 0., 0., 0., 0., 0., 0., 0., 0., 0., 0., 0.,\n",
       "        0., 0., 0., 0., 0., 0., 0., 0., 0., 0., 0., 0., 0.], dtype=float32)>,\n",
       " <tf.Variable 'dense_1/kernel:0' shape=(64, 1) dtype=float32, numpy=\n",
       " array([[-7.56414384e-02],\n",
       "        [-2.18019947e-01],\n",
       "        [ 1.01793855e-01],\n",
       "        [-1.93755955e-01],\n",
       "        [ 1.62869096e-02],\n",
       "        [ 2.38527060e-01],\n",
       "        [-1.46235198e-01],\n",
       "        [ 2.43853569e-01],\n",
       "        [-2.21961439e-02],\n",
       "        [ 2.21249998e-01],\n",
       "        [ 2.46167183e-05],\n",
       "        [ 2.17931986e-01],\n",
       "        [-1.17227748e-01],\n",
       "        [-1.44020438e-01],\n",
       "        [-3.45557332e-02],\n",
       "        [ 2.00737119e-01],\n",
       "        [-2.10688978e-01],\n",
       "        [ 1.53168410e-01],\n",
       "        [-1.79147422e-01],\n",
       "        [-2.45308399e-01],\n",
       "        [ 1.29793346e-01],\n",
       "        [ 1.40751362e-01],\n",
       "        [-1.25539571e-01],\n",
       "        [-2.57313043e-01],\n",
       "        [-1.19547606e-01],\n",
       "        [-2.37411126e-01],\n",
       "        [ 1.00299776e-01],\n",
       "        [ 3.20932269e-03],\n",
       "        [ 7.53659010e-02],\n",
       "        [ 2.45358407e-01],\n",
       "        [ 2.78797209e-01],\n",
       "        [ 2.69064307e-02],\n",
       "        [ 2.84115136e-01],\n",
       "        [ 2.65685201e-01],\n",
       "        [-2.59285450e-01],\n",
       "        [ 1.20507181e-01],\n",
       "        [-2.49374852e-01],\n",
       "        [-1.21036768e-02],\n",
       "        [-1.96143106e-01],\n",
       "        [-1.80660754e-01],\n",
       "        [ 2.93951809e-01],\n",
       "        [-2.30124280e-01],\n",
       "        [-1.58171609e-01],\n",
       "        [ 9.39628780e-02],\n",
       "        [-2.27057666e-01],\n",
       "        [ 4.60741222e-02],\n",
       "        [-1.34299636e-01],\n",
       "        [-2.28699446e-01],\n",
       "        [ 2.00276494e-01],\n",
       "        [-1.17965147e-01],\n",
       "        [ 2.17476726e-01],\n",
       "        [-1.32127836e-01],\n",
       "        [-4.09966707e-02],\n",
       "        [-2.87524909e-01],\n",
       "        [ 1.70626670e-01],\n",
       "        [-2.14877427e-01],\n",
       "        [-2.91014194e-01],\n",
       "        [-2.63966948e-01],\n",
       "        [ 2.89962888e-01],\n",
       "        [ 6.58130050e-02],\n",
       "        [ 8.54021311e-03],\n",
       "        [-6.17273450e-02],\n",
       "        [-2.28603974e-01],\n",
       "        [-1.10223979e-01]], dtype=float32)>,\n",
       " <tf.Variable 'dense_1/bias:0' shape=(1,) dtype=float32, numpy=array([0.], dtype=float32)>]"
      ]
     },
     "execution_count": 20,
     "metadata": {},
     "output_type": "execute_result"
    }
   ],
   "source": [
    "model.variables"
   ]
  },
  {
   "cell_type": "code",
   "execution_count": 22,
   "metadata": {},
   "outputs": [
    {
     "name": "stdout",
     "output_type": "stream",
     "text": [
      "Epoch 1/30\n",
      "157/157 [==============================] - 2s 12ms/step - loss: 0.6796 - accuracy: 0.6261 - val_loss: 0.6313 - val_accuracy: 0.7744\n",
      "Epoch 2/30\n",
      "157/157 [==============================] - 1s 10ms/step - loss: 0.5142 - accuracy: 0.8246 - val_loss: 0.4133 - val_accuracy: 0.8474\n",
      "Epoch 3/30\n",
      "157/157 [==============================] - 2s 12ms/step - loss: 0.3419 - accuracy: 0.8788 - val_loss: 0.3311 - val_accuracy: 0.8754\n",
      "Epoch 4/30\n",
      "157/157 [==============================] - 2s 13ms/step - loss: 0.2710 - accuracy: 0.9021 - val_loss: 0.3046 - val_accuracy: 0.8838\n",
      "Epoch 5/30\n",
      "157/157 [==============================] - 2s 12ms/step - loss: 0.2317 - accuracy: 0.9169 - val_loss: 0.2890 - val_accuracy: 0.8874\n",
      "Epoch 6/30\n",
      "157/157 [==============================] - 3s 18ms/step - loss: 0.2046 - accuracy: 0.9251 - val_loss: 0.2820 - val_accuracy: 0.8908\n",
      "Epoch 7/30\n",
      "157/157 [==============================] - 2s 13ms/step - loss: 0.1823 - accuracy: 0.9355 - val_loss: 0.2821 - val_accuracy: 0.8944\n",
      "Epoch 8/30\n",
      "157/157 [==============================] - 2s 11ms/step - loss: 0.1642 - accuracy: 0.9420 - val_loss: 0.2870 - val_accuracy: 0.8944\n",
      "Epoch 9/30\n",
      "157/157 [==============================] - 2s 11ms/step - loss: 0.1500 - accuracy: 0.9477 - val_loss: 0.2861 - val_accuracy: 0.8952\n",
      "Epoch 10/30\n",
      "157/157 [==============================] - 1s 9ms/step - loss: 0.1365 - accuracy: 0.9538 - val_loss: 0.2932 - val_accuracy: 0.8960\n",
      "Epoch 11/30\n",
      "157/157 [==============================] - 2s 10ms/step - loss: 0.1242 - accuracy: 0.9593 - val_loss: 0.3034 - val_accuracy: 0.8928\n",
      "Epoch 12/30\n",
      "157/157 [==============================] - 2s 11ms/step - loss: 0.1143 - accuracy: 0.9615 - val_loss: 0.3188 - val_accuracy: 0.8886\n",
      "Epoch 13/30\n",
      "157/157 [==============================] - 2s 10ms/step - loss: 0.1037 - accuracy: 0.9661 - val_loss: 0.3249 - val_accuracy: 0.8942\n",
      "Epoch 14/30\n",
      "157/157 [==============================] - 1s 9ms/step - loss: 0.0952 - accuracy: 0.9700 - val_loss: 0.3402 - val_accuracy: 0.8922\n",
      "Epoch 15/30\n",
      "157/157 [==============================] - 1s 9ms/step - loss: 0.0866 - accuracy: 0.9729 - val_loss: 0.3660 - val_accuracy: 0.8866\n",
      "Epoch 16/30\n",
      "157/157 [==============================] - 1s 9ms/step - loss: 0.0814 - accuracy: 0.9751 - val_loss: 0.4114 - val_accuracy: 0.8732\n",
      "Epoch 17/30\n",
      "157/157 [==============================] - 2s 10ms/step - loss: 0.0746 - accuracy: 0.9775 - val_loss: 0.3808 - val_accuracy: 0.8890\n",
      "Epoch 18/30\n",
      "157/157 [==============================] - 1s 9ms/step - loss: 0.0656 - accuracy: 0.9808 - val_loss: 0.3967 - val_accuracy: 0.8870\n",
      "Epoch 19/30\n",
      "157/157 [==============================] - 2s 10ms/step - loss: 0.0593 - accuracy: 0.9838 - val_loss: 0.4141 - val_accuracy: 0.8858\n",
      "Epoch 20/30\n",
      "157/157 [==============================] - 1s 9ms/step - loss: 0.0541 - accuracy: 0.9855 - val_loss: 0.4332 - val_accuracy: 0.8848\n",
      "Epoch 21/30\n",
      "157/157 [==============================] - 2s 11ms/step - loss: 0.0482 - accuracy: 0.9876 - val_loss: 0.4532 - val_accuracy: 0.8852\n",
      "Epoch 22/30\n",
      "157/157 [==============================] - 2s 12ms/step - loss: 0.0438 - accuracy: 0.9884 - val_loss: 0.4794 - val_accuracy: 0.8830\n",
      "Epoch 23/30\n",
      "157/157 [==============================] - 2s 10ms/step - loss: 0.0394 - accuracy: 0.9909 - val_loss: 0.4989 - val_accuracy: 0.8796\n",
      "Epoch 24/30\n",
      "157/157 [==============================] - 2s 11ms/step - loss: 0.0351 - accuracy: 0.9915 - val_loss: 0.5184 - val_accuracy: 0.8820\n",
      "Epoch 25/30\n",
      "157/157 [==============================] - 2s 10ms/step - loss: 0.0306 - accuracy: 0.9934 - val_loss: 0.5586 - val_accuracy: 0.8782\n",
      "Epoch 26/30\n",
      "157/157 [==============================] - 2s 10ms/step - loss: 0.0293 - accuracy: 0.9938 - val_loss: 0.5649 - val_accuracy: 0.8800\n",
      "Epoch 27/30\n",
      "157/157 [==============================] - 2s 10ms/step - loss: 0.0248 - accuracy: 0.9951 - val_loss: 0.5956 - val_accuracy: 0.8778\n",
      "Epoch 28/30\n",
      "157/157 [==============================] - 2s 10ms/step - loss: 0.0217 - accuracy: 0.9966 - val_loss: 0.6066 - val_accuracy: 0.8790\n",
      "Epoch 29/30\n",
      "157/157 [==============================] - 1s 9ms/step - loss: 0.0192 - accuracy: 0.9969 - val_loss: 0.6398 - val_accuracy: 0.8762\n",
      "Epoch 30/30\n",
      "157/157 [==============================] - 1s 9ms/step - loss: 0.0175 - accuracy: 0.9970 - val_loss: 0.6562 - val_accuracy: 0.8778\n"
     ]
    }
   ],
   "source": [
    "history = model.fit(train_data, train_labels,\n",
    "                    epochs = 30,\n",
    "                    batch_size = batch_size,\n",
    "                    validation_split = 0.2)\n"
   ]
  },
  {
   "cell_type": "code",
   "execution_count": 26,
   "metadata": {},
   "outputs": [
    {
     "data": {
      "image/png": "[encoded data removed]",
      "text/plain": [
       "<Figure size 576x360 with 1 Axes>"
      ]
     },
     "metadata": {
      "needs_background": "light"
     },
     "output_type": "display_data"
    },
    {
     "data": {
      "image/png": "[encoded data removed]",
      "text/plain": [
       "<Figure size 576x360 with 1 Axes>"
      ]
     },
     "metadata": {
      "needs_background": "light"
     },
     "output_type": "display_data"
    }
   ],
   "source": [
    "def plot_learning_curves(history, label, epochs, min_value, max_value):\n",
    "    data = {}\n",
    "    data[label] = history.history[label]\n",
    "    data['val_'+label] = history.history['val_'+label]\n",
    "    pd.DataFrame(data).plot(figsize=(8, 5))\n",
    "    plt.grid(True)\n",
    "    plt.axis([0, epochs, min_value, max_value])\n",
    "    plt.show()\n",
    "    \n",
    "plot_learning_curves(history, 'accuracy', 30, 0, 1)\n",
    "plot_learning_curves(history, 'loss', 30, 0, 1)\n",
    "#可以看出我们loss发生了过拟合"
   ]
  },
  {
   "cell_type": "code",
   "execution_count": 27,
   "metadata": {},
   "outputs": [
    {
     "data": {
      "text/plain": [
       "[0.7066338062286377, 0.8586000204086304]"
      ]
     },
     "execution_count": 27,
     "metadata": {},
     "output_type": "execute_result"
    }
   ],
   "source": [
    "model.evaluate(\n",
    "    test_data, test_labels,\n",
    "    batch_size = batch_size,\n",
    "    verbose = 0)"
   ]
  },
  {
   "cell_type": "code",
   "execution_count": 24,
   "metadata": {},
   "outputs": [
    {
     "name": "stdout",
     "output_type": "stream",
     "text": [
      "(32, 10, 64)\n"
     ]
    }
   ],
   "source": [
    "model1 = tf.keras.Sequential()\n",
    "model1.add(tf.keras.layers.Embedding(1000, 64, input_length=10))\n",
    "# The model will take as input an integer matrix of size (batch,\n",
    "# input_length), and the largest integer (i.e. word index) in the input\n",
    "# should be no larger than 999 (vocabulary size).\n",
    "# Now model.output_shape is (None, 10, 64), where `None` is the batch\n",
    "# dimension.\n",
    "input_array = np.random.randint(1000, size=(32, 10))\n",
    "model1.compile('rmsprop', 'mse')\n",
    "output_array = model1.predict(input_array)\n",
    "print(output_array.shape)"
   ]
  },
  {
   "cell_type": "code",
   "execution_count": null,
   "metadata": {},
   "outputs": [],
   "source": []
  }
 ],
 "metadata": {
  "kernelspec": {
   "display_name": "Python 3",
   "language": "python",
   "name": "python3"
  },
  "language_info": {
   "codemirror_mode": {
    "name": "ipython",
    "version": 3
   },
   "file_extension": ".py",
   "mimetype": "text/x-python",
   "name": "python",
   "nbconvert_exporter": "python",
   "pygments_lexer": "ipython3",
   "version": "3.6.9"
  }
 },
 "nbformat": 4,
 "nbformat_minor": 2
}
