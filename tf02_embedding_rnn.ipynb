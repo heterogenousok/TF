{
 "cells": [
  {
   "cell_type": "code",
   "execution_count": 1,
   "metadata": {},
   "outputs": [
    {
     "name": "stdout",
     "output_type": "stream",
     "text": [
      "2.2.0\n",
      "sys.version_info(major=3, minor=6, micro=9, releaselevel='final', serial=0)\n",
      "matplotlib 3.2.1\n",
      "numpy 1.18.5\n",
      "pandas 1.0.4\n",
      "sklearn 0.23.1\n",
      "tensorflow 2.2.0\n",
      "tensorflow.keras 2.3.0-tf\n"
     ]
    }
   ],
   "source": [
    "import matplotlib as mpl\n",
    "import matplotlib.pyplot as plt\n",
    "%matplotlib inline\n",
    "import numpy as np\n",
    "import sklearn\n",
    "import pandas as pd\n",
    "import os\n",
    "import sys\n",
    "import time\n",
    "import tensorflow as tf\n",
    "\n",
    "from tensorflow import keras\n",
    "\n",
    "print(tf.__version__)\n",
    "print(sys.version_info)\n",
    "for module in mpl, np, pd, sklearn, tf, keras:\n",
    "    print(module.__name__, module.__version__)\n"
   ]
  },
  {
   "cell_type": "code",
   "execution_count": 11,
   "metadata": {},
   "outputs": [],
   "source": [
    "imdb = keras.datasets.imdb\n",
    "vocab_size = 10000\n",
    "index_from = 3\n",
    "(train_data, train_labels), (test_data, test_labels) = imdb.load_data(\n",
    "    num_words = vocab_size, index_from = index_from)"
   ]
  },
  {
   "cell_type": "code",
   "execution_count": 12,
   "metadata": {},
   "outputs": [
    {
     "name": "stdout",
     "output_type": "stream",
     "text": [
      "88584\n"
     ]
    }
   ],
   "source": [
    "word_index = imdb.get_word_index()\n",
    "print(len(word_index))"
   ]
  },
  {
   "cell_type": "code",
   "execution_count": 13,
   "metadata": {},
   "outputs": [],
   "source": [
    "word_index = {k:(v+3) for k, v in word_index.items()}"
   ]
  },
  {
   "cell_type": "code",
   "execution_count": 14,
   "metadata": {},
   "outputs": [
    {
     "data": {
      "text/plain": [
       "\"<START> this film was just brilliant casting location scenery story direction everyone's really suited the part they played and you could just imagine being there robert <UNK> is an amazing actor and now the same being director <UNK> father came from the same scottish island as myself so i loved the fact there was a real connection with this film the witty remarks throughout the film were great it was just brilliant so much that i bought the film as soon as it was released for <UNK> and would recommend it to everyone to watch and the fly fishing was amazing really cried at the end it was so sad and you know what they say if you cry at a film it must have been good and this definitely was also <UNK> to the two little boy's that played the <UNK> of norman and paul they were just brilliant children are often left out of the <UNK> list i think because the stars that play them all grown up are such a big profile for the whole film but these children are amazing and should be praised for what they have done don't you think the whole story was so lovely because it was true and was someone's life after all that was shared with us all\""
      ]
     },
     "execution_count": 14,
     "metadata": {},
     "output_type": "execute_result"
    }
   ],
   "source": [
    "word_index['<PAD>'] = 0\n",
    "word_index['<START>'] = 1\n",
    "word_index['<UNK>'] = 2\n",
    "word_index['<END>'] = 3\n",
    "\n",
    "reverse_word_index = dict(\n",
    "    [(value, key) for key, value in word_index.items()])\n",
    "\n",
    "def decode_review(text_ids):\n",
    "    return ' '.join(\n",
    "        [reverse_word_index.get(word_id, \"<UNK>\") for word_id in text_ids])\n",
    "\n",
    "decode_review(train_data[0])"
   ]
  },
  {
   "cell_type": "code",
   "execution_count": 15,
   "metadata": {},
   "outputs": [
    {
     "name": "stdout",
     "output_type": "stream",
     "text": [
      "[   1   14   22   16   43  530  973 1622 1385   65  458 4468   66 3941\n",
      "    4  173   36  256    5   25  100   43  838  112   50  670    2    9\n",
      "   35  480  284    5  150    4  172  112  167    2  336  385   39    4\n",
      "  172 4536 1111   17  546   38   13  447    4  192   50   16    6  147\n",
      " 2025   19   14   22    4 1920 4613  469    4   22   71   87   12   16\n",
      "   43  530   38   76   15   13 1247    4   22   17  515   17   12   16\n",
      "  626   18    2    5   62  386   12    8  316    8  106    5    4 2223\n",
      " 5244   16  480   66 3785   33    4  130   12   16   38  619    5   25\n",
      "  124   51   36  135   48   25 1415   33    6   22   12  215   28   77\n",
      "   52    5   14  407   16   82    2    8    4  107  117 5952   15  256\n",
      "    4    2    7 3766    5  723   36   71   43  530  476   26  400  317\n",
      "   46    7    4    2 1029   13  104   88    4  381   15  297   98   32\n",
      " 2071   56   26  141    6  194 7486   18    4  226   22   21  134  476\n",
      "   26  480    5  144   30 5535   18   51   36   28  224   92   25  104\n",
      "    4  226   65   16   38 1334   88   12   16  283    5   16 4472  113\n",
      "  103   32   15   16 5345   19  178   32    0    0    0    0    0    0\n",
      "    0    0    0    0    0    0    0    0    0    0    0    0    0    0\n",
      "    0    0    0    0    0    0    0    0    0    0    0    0    0    0\n",
      "    0    0    0    0    0    0    0    0    0    0    0    0    0    0\n",
      "    0    0    0    0    0    0    0    0    0    0    0    0    0    0\n",
      "    0    0    0    0    0    0    0    0    0    0    0    0    0    0\n",
      "    0    0    0    0    0    0    0    0    0    0    0    0    0    0\n",
      "    0    0    0    0    0    0    0    0    0    0    0    0    0    0\n",
      "    0    0    0    0    0    0    0    0    0    0    0    0    0    0\n",
      "    0    0    0    0    0    0    0    0    0    0    0    0    0    0\n",
      "    0    0    0    0    0    0    0    0    0    0    0    0    0    0\n",
      "    0    0    0    0    0    0    0    0    0    0    0    0    0    0\n",
      "    0    0    0    0    0    0    0    0    0    0    0    0    0    0\n",
      "    0    0    0    0    0    0    0    0    0    0    0    0    0    0\n",
      "    0    0    0    0    0    0    0    0    0    0    0    0    0    0\n",
      "    0    0    0    0    0    0    0    0    0    0    0    0    0    0\n",
      "    0    0    0    0    0    0    0    0    0    0    0    0    0    0\n",
      "    0    0    0    0    0    0    0    0    0    0    0    0    0    0\n",
      "    0    0    0    0    0    0    0    0    0    0    0    0    0    0\n",
      "    0    0    0    0    0    0    0    0    0    0    0    0    0    0\n",
      "    0    0    0    0    0    0    0    0    0    0]\n"
     ]
    }
   ],
   "source": [
    "max_length = 500\n",
    "\n",
    "train_data = keras.preprocessing.sequence.pad_sequences(\n",
    "    train_data, # list of list\n",
    "    value = word_index['<PAD>'],\n",
    "    padding = 'post', # post, pre\n",
    "    maxlen = max_length)\n",
    "\n",
    "test_data = keras.preprocessing.sequence.pad_sequences(\n",
    "    test_data, # list of list\n",
    "    value = word_index['<PAD>'],\n",
    "    padding = 'post', # post, pre\n",
    "    maxlen = max_length)\n",
    "\n",
    "print(train_data[0])"
   ]
  },
  {
   "cell_type": "code",
   "execution_count": 16,
   "metadata": {},
   "outputs": [
    {
     "name": "stdout",
     "output_type": "stream",
     "text": [
      "Model: \"sequential\"\n",
      "_________________________________________________________________\n",
      "Layer (type)                 Output Shape              Param #   \n",
      "=================================================================\n",
      "embedding (Embedding)        (None, 500, 16)           160000    \n",
      "_________________________________________________________________\n",
      "simple_rnn (SimpleRNN)       (None, 64)                5184      \n",
      "_________________________________________________________________\n",
      "dense (Dense)                (None, 64)                4160      \n",
      "_________________________________________________________________\n",
      "dense_1 (Dense)              (None, 1)                 65        \n",
      "=================================================================\n",
      "Total params: 169,409\n",
      "Trainable params: 169,409\n",
      "Non-trainable params: 0\n",
      "_________________________________________________________________\n"
     ]
    }
   ],
   "source": [
    "embedding_dim = 16\n",
    "batch_size = 512\n",
    "#相对于之前主要改的是这里\n",
    "single_rnn_model = keras.models.Sequential([\n",
    "    # 1. define matrix: [vocab_size, embedding_dim]\n",
    "    # 2. [1,2,3,4..], max_length * embedding_dim\n",
    "    # 3. batch_size * max_length * embedding_dim\n",
    "    keras.layers.Embedding(vocab_size, embedding_dim,\n",
    "                           input_length = max_length),\n",
    "    # return_sequences是返回输出序列中的最后一个输出还是完整序列,False就是返回最后一个\n",
    "    keras.layers.SimpleRNN(units = 64, return_sequences = False),\n",
    "    keras.layers.Dense(64, activation = 'relu'),\n",
    "    keras.layers.Dense(1, activation='sigmoid'),\n",
    "])\n",
    "\n",
    "single_rnn_model.summary()\n",
    "single_rnn_model.compile(optimizer = 'adam',\n",
    "                         loss = 'binary_crossentropy',\n",
    "                         metrics = ['accuracy'])\n"
   ]
  },
  {
   "cell_type": "code",
   "execution_count": 19,
   "metadata": {},
   "outputs": [
    {
     "data": {
      "image/png": "[encoded data removed]",
      "text/plain": [
       "<IPython.core.display.Image object>"
      ]
     },
     "execution_count": 19,
     "metadata": {},
     "output_type": "execute_result"
    }
   ],
   "source": [
    "from tensorflow.keras.utils import plot_model\n",
    "\n",
    "plot_model(single_rnn_model)"
   ]
  },
  {
   "cell_type": "code",
   "execution_count": 17,
   "metadata": {},
   "outputs": [
    {
     "data": {
      "text/plain": [
       "[<tf.Variable 'embedding/embeddings:0' shape=(10000, 16) dtype=float32, numpy=\n",
       " array([[ 1.28735937e-02, -2.45094299e-04,  4.40155528e-02, ...,\n",
       "         -1.48074999e-02,  1.91386975e-02, -2.43446473e-02],\n",
       "        [ 2.48066820e-02, -4.15473580e-02, -3.76829021e-02, ...,\n",
       "         -1.77775398e-02, -1.46606341e-02, -2.03414913e-02],\n",
       "        [-4.92545739e-02, -2.60585193e-02, -2.20535398e-02, ...,\n",
       "         -1.10414140e-02, -4.09959182e-02,  7.50074536e-03],\n",
       "        ...,\n",
       "        [ 4.58131693e-02,  2.84721889e-02, -4.11869884e-02, ...,\n",
       "          4.10112031e-02, -8.40745866e-04,  1.30773075e-02],\n",
       "        [-3.53412516e-02,  3.76076624e-03,  4.07973863e-02, ...,\n",
       "          4.52702679e-02,  3.57377045e-02,  1.56761743e-02],\n",
       "        [-4.38112020e-03,  1.25294961e-02, -6.05210662e-05, ...,\n",
       "         -1.49331093e-02,  2.52953656e-02,  8.75412300e-03]], dtype=float32)>,\n",
       " <tf.Variable 'simple_rnn/simple_rnn_cell/kernel:0' shape=(16, 64) dtype=float32, numpy=\n",
       " array([[ 0.22077367,  0.2508284 , -0.03589372, ...,  0.25434566,\n",
       "          0.24358869, -0.13135293],\n",
       "        [-0.24085693, -0.13178845, -0.07893933, ...,  0.23824614,\n",
       "          0.01706162,  0.07983875],\n",
       "        [-0.00688952,  0.0164043 ,  0.04801244, ...,  0.10044143,\n",
       "          0.10480952, -0.12840858],\n",
       "        ...,\n",
       "        [ 0.04725814,  0.08519447, -0.1765633 , ...,  0.20740637,\n",
       "         -0.1129344 , -0.25404572],\n",
       "        [-0.16573864, -0.141669  ,  0.20476595, ...,  0.03161922,\n",
       "         -0.27192017,  0.07276061],\n",
       "        [-0.11557226,  0.02528816,  0.15566653, ...,  0.25021458,\n",
       "         -0.04137389, -0.00795493]], dtype=float32)>,\n",
       " <tf.Variable 'simple_rnn/simple_rnn_cell/recurrent_kernel:0' shape=(64, 64) dtype=float32, numpy=\n",
       " array([[-0.07848883, -0.14457628,  0.21031938, ..., -0.0684291 ,\n",
       "         -0.12114863,  0.03840612],\n",
       "        [ 0.05469741,  0.07271194,  0.11303638, ...,  0.31755424,\n",
       "         -0.06495085,  0.01198384],\n",
       "        [-0.07972803,  0.0078346 ,  0.06155002, ...,  0.27340618,\n",
       "          0.05441731, -0.19591309],\n",
       "        ...,\n",
       "        [-0.11929113, -0.20604838, -0.21549946, ...,  0.15482554,\n",
       "          0.0468625 , -0.20280728],\n",
       "        [ 0.13022761, -0.08601686,  0.00702422, ..., -0.07816058,\n",
       "         -0.05270924,  0.09317982],\n",
       "        [ 0.16554186, -0.13755201, -0.08410832, ...,  0.02097674,\n",
       "         -0.02727634,  0.18008476]], dtype=float32)>,\n",
       " <tf.Variable 'simple_rnn/simple_rnn_cell/bias:0' shape=(64,) dtype=float32, numpy=\n",
       " array([0., 0., 0., 0., 0., 0., 0., 0., 0., 0., 0., 0., 0., 0., 0., 0., 0.,\n",
       "        0., 0., 0., 0., 0., 0., 0., 0., 0., 0., 0., 0., 0., 0., 0., 0., 0.,\n",
       "        0., 0., 0., 0., 0., 0., 0., 0., 0., 0., 0., 0., 0., 0., 0., 0., 0.,\n",
       "        0., 0., 0., 0., 0., 0., 0., 0., 0., 0., 0., 0., 0.], dtype=float32)>,\n",
       " <tf.Variable 'dense/kernel:0' shape=(64, 64) dtype=float32, numpy=\n",
       " array([[ 0.15382181,  0.03919111,  0.11464812, ..., -0.06168574,\n",
       "         -0.01317599,  0.01008859],\n",
       "        [-0.14308695,  0.00622228, -0.05395892, ...,  0.18694355,\n",
       "          0.04243352, -0.02388841],\n",
       "        [-0.21593998,  0.16725792,  0.20664205, ...,  0.07844482,\n",
       "         -0.15600386,  0.02131075],\n",
       "        ...,\n",
       "        [ 0.16477643,  0.09336089, -0.01321217, ..., -0.06347574,\n",
       "          0.16569696,  0.16379996],\n",
       "        [ 0.12304892, -0.11738904,  0.01910022, ..., -0.12491578,\n",
       "         -0.11319385,  0.09979104],\n",
       "        [ 0.0222047 , -0.12063361,  0.08880271, ...,  0.1014971 ,\n",
       "         -0.10402567,  0.15007572]], dtype=float32)>,\n",
       " <tf.Variable 'dense/bias:0' shape=(64,) dtype=float32, numpy=\n",
       " array([0., 0., 0., 0., 0., 0., 0., 0., 0., 0., 0., 0., 0., 0., 0., 0., 0.,\n",
       "        0., 0., 0., 0., 0., 0., 0., 0., 0., 0., 0., 0., 0., 0., 0., 0., 0.,\n",
       "        0., 0., 0., 0., 0., 0., 0., 0., 0., 0., 0., 0., 0., 0., 0., 0., 0.,\n",
       "        0., 0., 0., 0., 0., 0., 0., 0., 0., 0., 0., 0., 0.], dtype=float32)>,\n",
       " <tf.Variable 'dense_1/kernel:0' shape=(64, 1) dtype=float32, numpy=\n",
       " array([[-0.00954211],\n",
       "        [ 0.01949215],\n",
       "        [-0.04285568],\n",
       "        [ 0.18305168],\n",
       "        [-0.18340923],\n",
       "        [ 0.03896207],\n",
       "        [-0.11521603],\n",
       "        [-0.09420894],\n",
       "        [-0.09989442],\n",
       "        [-0.0008013 ],\n",
       "        [-0.22260585],\n",
       "        [-0.05565041],\n",
       "        [ 0.16266653],\n",
       "        [ 0.21312141],\n",
       "        [-0.29346907],\n",
       "        [ 0.22882563],\n",
       "        [-0.27985182],\n",
       "        [ 0.09032112],\n",
       "        [-0.02629918],\n",
       "        [-0.04276904],\n",
       "        [ 0.06621835],\n",
       "        [-0.05719867],\n",
       "        [ 0.2076729 ],\n",
       "        [-0.22922873],\n",
       "        [ 0.25273454],\n",
       "        [ 0.21550155],\n",
       "        [-0.21515022],\n",
       "        [-0.08396623],\n",
       "        [-0.2963301 ],\n",
       "        [ 0.00564739],\n",
       "        [-0.13119957],\n",
       "        [ 0.07604036],\n",
       "        [ 0.2345599 ],\n",
       "        [-0.10010253],\n",
       "        [ 0.187689  ],\n",
       "        [ 0.16126597],\n",
       "        [-0.23778918],\n",
       "        [ 0.06067368],\n",
       "        [ 0.19494638],\n",
       "        [ 0.29899508],\n",
       "        [ 0.16618356],\n",
       "        [-0.02056986],\n",
       "        [ 0.04648143],\n",
       "        [ 0.03898901],\n",
       "        [-0.02206799],\n",
       "        [-0.04421273],\n",
       "        [ 0.11551961],\n",
       "        [-0.13126917],\n",
       "        [-0.23329434],\n",
       "        [ 0.1408948 ],\n",
       "        [-0.1382315 ],\n",
       "        [ 0.0500454 ],\n",
       "        [ 0.0537433 ],\n",
       "        [-0.06597663],\n",
       "        [ 0.01989874],\n",
       "        [ 0.12868246],\n",
       "        [ 0.1475715 ],\n",
       "        [-0.29566333],\n",
       "        [-0.25862148],\n",
       "        [-0.20549774],\n",
       "        [-0.23429069],\n",
       "        [ 0.2296012 ],\n",
       "        [ 0.17131084],\n",
       "        [ 0.05865574]], dtype=float32)>,\n",
       " <tf.Variable 'dense_1/bias:0' shape=(1,) dtype=float32, numpy=array([0.], dtype=float32)>]"
      ]
     },
     "execution_count": 17,
     "metadata": {},
     "output_type": "execute_result"
    }
   ],
   "source": [
    "single_rnn_model.variables"
   ]
  },
  {
   "cell_type": "code",
   "execution_count": 20,
   "metadata": {},
   "outputs": [
    {
     "name": "stdout",
     "output_type": "stream",
     "text": [
      "Epoch 1/30\n",
      "40/40 [==============================] - 22s 553ms/step - loss: 0.6939 - accuracy: 0.5022 - val_loss: 0.6935 - val_accuracy: 0.5078\n",
      "Epoch 2/30\n",
      "40/40 [==============================] - 19s 478ms/step - loss: 0.6940 - accuracy: 0.5059 - val_loss: 0.6937 - val_accuracy: 0.4978\n",
      "Epoch 3/30\n",
      "40/40 [==============================] - 20s 492ms/step - loss: 0.6937 - accuracy: 0.5017 - val_loss: 0.6947 - val_accuracy: 0.4918\n",
      "Epoch 4/30\n",
      "40/40 [==============================] - 20s 491ms/step - loss: 0.6940 - accuracy: 0.5026 - val_loss: 0.6957 - val_accuracy: 0.4938\n",
      "Epoch 5/30\n",
      "40/40 [==============================] - 19s 470ms/step - loss: 0.6939 - accuracy: 0.5090 - val_loss: 0.6947 - val_accuracy: 0.4858\n",
      "Epoch 6/30\n",
      "40/40 [==============================] - 19s 480ms/step - loss: 0.6932 - accuracy: 0.5093 - val_loss: 0.6934 - val_accuracy: 0.4988\n",
      "Epoch 7/30\n",
      "40/40 [==============================] - 20s 498ms/step - loss: 0.6926 - accuracy: 0.5067 - val_loss: 0.6959 - val_accuracy: 0.4908\n",
      "Epoch 8/30\n",
      "40/40 [==============================] - 20s 502ms/step - loss: 0.6922 - accuracy: 0.5135 - val_loss: 0.6956 - val_accuracy: 0.5008\n",
      "Epoch 9/30\n",
      "40/40 [==============================] - 19s 482ms/step - loss: 0.6924 - accuracy: 0.5146 - val_loss: 0.6941 - val_accuracy: 0.5034\n",
      "Epoch 10/30\n",
      "40/40 [==============================] - 20s 495ms/step - loss: 0.6920 - accuracy: 0.5098 - val_loss: 0.6942 - val_accuracy: 0.4982\n",
      "Epoch 11/30\n",
      "40/40 [==============================] - 20s 499ms/step - loss: 0.6902 - accuracy: 0.5165 - val_loss: 0.6971 - val_accuracy: 0.5084\n",
      "Epoch 12/30\n",
      "40/40 [==============================] - 21s 517ms/step - loss: 0.6920 - accuracy: 0.5138 - val_loss: 0.6954 - val_accuracy: 0.4970\n",
      "Epoch 13/30\n",
      "40/40 [==============================] - 20s 490ms/step - loss: 0.6900 - accuracy: 0.5096 - val_loss: 0.6939 - val_accuracy: 0.4932\n",
      "Epoch 14/30\n",
      "40/40 [==============================] - 19s 480ms/step - loss: 0.6865 - accuracy: 0.5268 - val_loss: 0.6932 - val_accuracy: 0.5042\n",
      "Epoch 15/30\n",
      "40/40 [==============================] - 21s 528ms/step - loss: 0.6860 - accuracy: 0.5195 - val_loss: 0.6947 - val_accuracy: 0.5030\n",
      "Epoch 16/30\n",
      "40/40 [==============================] - 20s 495ms/step - loss: 0.6823 - accuracy: 0.5281 - val_loss: 0.6932 - val_accuracy: 0.5068\n",
      "Epoch 17/30\n",
      "40/40 [==============================] - 20s 510ms/step - loss: 0.6801 - accuracy: 0.5300 - val_loss: 0.6943 - val_accuracy: 0.5118\n",
      "Epoch 18/30\n",
      "40/40 [==============================] - 20s 511ms/step - loss: 0.6738 - accuracy: 0.5299 - val_loss: 0.6944 - val_accuracy: 0.5064\n",
      "Epoch 19/30\n",
      "40/40 [==============================] - 19s 484ms/step - loss: 0.6643 - accuracy: 0.5359 - val_loss: 0.6977 - val_accuracy: 0.5006\n",
      "Epoch 20/30\n",
      "40/40 [==============================] - 20s 495ms/step - loss: 0.6548 - accuracy: 0.5403 - val_loss: 0.7033 - val_accuracy: 0.5086\n",
      "Epoch 21/30\n",
      "40/40 [==============================] - 19s 484ms/step - loss: 0.6532 - accuracy: 0.5491 - val_loss: 0.7111 - val_accuracy: 0.5030\n",
      "Epoch 22/30\n",
      "40/40 [==============================] - 21s 531ms/step - loss: 0.6751 - accuracy: 0.5346 - val_loss: 0.7062 - val_accuracy: 0.5006\n",
      "Epoch 23/30\n",
      "40/40 [==============================] - 20s 489ms/step - loss: 0.6609 - accuracy: 0.5435 - val_loss: 0.6979 - val_accuracy: 0.5090\n",
      "Epoch 24/30\n",
      "40/40 [==============================] - 19s 486ms/step - loss: 0.6495 - accuracy: 0.5441 - val_loss: 0.7129 - val_accuracy: 0.5024\n",
      "Epoch 25/30\n",
      "40/40 [==============================] - 20s 495ms/step - loss: 0.6393 - accuracy: 0.5549 - val_loss: 0.7324 - val_accuracy: 0.5006\n",
      "Epoch 26/30\n",
      "40/40 [==============================] - 20s 494ms/step - loss: 0.6395 - accuracy: 0.5511 - val_loss: 0.7223 - val_accuracy: 0.5016\n",
      "Epoch 27/30\n",
      "40/40 [==============================] - 19s 473ms/step - loss: 0.6365 - accuracy: 0.5518 - val_loss: 0.7208 - val_accuracy: 0.5100\n",
      "Epoch 28/30\n",
      "40/40 [==============================] - 19s 475ms/step - loss: 0.6353 - accuracy: 0.5538 - val_loss: 0.7437 - val_accuracy: 0.4920\n",
      "Epoch 29/30\n",
      "40/40 [==============================] - 19s 474ms/step - loss: 0.6427 - accuracy: 0.5512 - val_loss: 0.7370 - val_accuracy: 0.5026\n",
      "Epoch 30/30\n",
      "40/40 [==============================] - 20s 509ms/step - loss: 0.6497 - accuracy: 0.5433 - val_loss: 0.7218 - val_accuracy: 0.5016\n"
     ]
    }
   ],
   "source": [
    "history_single_rnn = single_rnn_model.fit(\n",
    "    train_data, train_labels,\n",
    "    epochs = 30,\n",
    "    batch_size = batch_size,\n",
    "    # 我们这里和之前不一样，没有验证集，所以分20%给验证集\n",
    "    validation_split = 0.2)\n"
   ]
  },
  {
   "cell_type": "code",
   "execution_count": 21,
   "metadata": {},
   "outputs": [
    {
     "data": {
      "image/png": "[encoded data removed]",
      "text/plain": [
       "<Figure size 576x360 with 1 Axes>"
      ]
     },
     "metadata": {
      "needs_background": "light"
     },
     "output_type": "display_data"
    },
    {
     "data": {
      "image/png": "[encoded data removed]",
      "text/plain": [
       "<Figure size 576x360 with 1 Axes>"
      ]
     },
     "metadata": {
      "needs_background": "light"
     },
     "output_type": "display_data"
    }
   ],
   "source": [
    "def plot_learning_curves(history, label, epochs, min_value, max_value):\n",
    "    data = {}\n",
    "    data[label] = history.history[label]\n",
    "    data['val_'+label] = history.history['val_'+label]\n",
    "    pd.DataFrame(data).plot(figsize=(8, 5))\n",
    "    plt.grid(True)\n",
    "    plt.axis([0, epochs, min_value, max_value])\n",
    "    plt.show()\n",
    "    \n",
    "plot_learning_curves(history_single_rnn, 'accuracy', 30, 0, 1)\n",
    "plot_learning_curves(history_single_rnn, 'loss', 30, 0, 1)"
   ]
  },
  {
   "cell_type": "code",
   "execution_count": 22,
   "metadata": {},
   "outputs": [
    {
     "data": {
      "text/plain": [
       "[0.7245816588401794, 0.5002800226211548]"
      ]
     },
     "execution_count": 22,
     "metadata": {},
     "output_type": "execute_result"
    }
   ],
   "source": [
    "single_rnn_model.evaluate(\n",
    "    test_data, test_labels,\n",
    "    batch_size = batch_size,\n",
    "    verbose = 0)"
   ]
  },
  {
   "cell_type": "code",
   "execution_count": 23,
   "metadata": {},
   "outputs": [
    {
     "name": "stdout",
     "output_type": "stream",
     "text": [
      "Model: \"sequential_1\"\n",
      "_________________________________________________________________\n",
      "Layer (type)                 Output Shape              Param #   \n",
      "=================================================================\n",
      "embedding_1 (Embedding)      (None, 500, 16)           160000    \n",
      "_________________________________________________________________\n",
      "bidirectional (Bidirectional (None, 500, 128)          10368     \n",
      "_________________________________________________________________\n",
      "bidirectional_1 (Bidirection (None, 128)               24704     \n",
      "_________________________________________________________________\n",
      "dense_2 (Dense)              (None, 64)                8256      \n",
      "_________________________________________________________________\n",
      "dense_3 (Dense)              (None, 1)                 65        \n",
      "=================================================================\n",
      "Total params: 203,393\n",
      "Trainable params: 203,393\n",
      "Non-trainable params: 0\n",
      "_________________________________________________________________\n"
     ]
    }
   ],
   "source": [
    "#如果我们实现双向的rnn是不是会好一些\n",
    "embedding_dim = 16\n",
    "batch_size = 512\n",
    "\n",
    "model = keras.models.Sequential([\n",
    "    # 1. define matrix: [vocab_size, embedding_dim]\n",
    "    # 2. [1,2,3,4..], max_length * embedding_dim\n",
    "    # 3. batch_size * max_length * embedding_dim\n",
    "    keras.layers.Embedding(vocab_size, embedding_dim,\n",
    "                           input_length = max_length),\n",
    "    # Bidirectional代表双向rnn，前面的计算会收到后面样本的影响\n",
    "    keras.layers.Bidirectional(\n",
    "        keras.layers.SimpleRNN(\n",
    "            units = 64, return_sequences = True)),\n",
    "    keras.layers.Bidirectional(\n",
    "        keras.layers.SimpleRNN(\n",
    "            units = 64, return_sequences = False)),\n",
    "    keras.layers.Dense(64, activation = 'relu'),\n",
    "    keras.layers.Dense(1, activation='sigmoid'),\n",
    "])\n",
    "\n",
    "model.summary()\n",
    "model.compile(optimizer = 'adam',\n",
    "             #  当只有两个标签类别（假定为0和1）时，使用此交叉熵损失\n",
    "              loss = 'binary_crossentropy',\n",
    "              metrics = ['accuracy'])"
   ]
  },
  {
   "cell_type": "code",
   "execution_count": 24,
   "metadata": {},
   "outputs": [
    {
     "data": {
      "image/png": "[encoded data removed]",
      "text/plain": [
       "<IPython.core.display.Image object>"
      ]
     },
     "execution_count": 24,
     "metadata": {},
     "output_type": "execute_result"
    }
   ],
   "source": [
    "from tensorflow.keras.utils import plot_model\n",
    "\n",
    "plot_model(model)"
   ]
  },
  {
   "cell_type": "code",
   "execution_count": 25,
   "metadata": {},
   "outputs": [
    {
     "data": {
      "text/plain": [
       "[<tf.Variable 'embedding_1/embeddings:0' shape=(10000, 16) dtype=float32, numpy=\n",
       " array([[ 0.00518464,  0.02391011,  0.04168283, ..., -0.03651207,\n",
       "          0.00752375,  0.04998562],\n",
       "        [-0.0149712 , -0.01663345,  0.04375288, ...,  0.04644593,\n",
       "          0.01991617,  0.01860202],\n",
       "        [ 0.04863239, -0.01067047,  0.04880431, ..., -0.02141833,\n",
       "         -0.04150172,  0.0333736 ],\n",
       "        ...,\n",
       "        [-0.0146025 , -0.02803303, -0.04244212, ..., -0.04649568,\n",
       "          0.04198244, -0.0251209 ],\n",
       "        [ 0.04343689, -0.04776809,  0.03569771, ..., -0.03752717,\n",
       "          0.01135906, -0.03687906],\n",
       "        [-0.01908246, -0.0468595 ,  0.00267122, ..., -0.04487617,\n",
       "          0.00795536, -0.00402581]], dtype=float32)>,\n",
       " <tf.Variable 'bidirectional/forward_simple_rnn_1/simple_rnn_cell_2/kernel:0' shape=(16, 64) dtype=float32, numpy=\n",
       " array([[ 0.150875  ,  0.15160683,  0.05209327, ..., -0.20652111,\n",
       "          0.13472745, -0.12439851],\n",
       "        [ 0.07635847, -0.21947862, -0.22965549, ..., -0.25343987,\n",
       "         -0.1163941 , -0.25110522],\n",
       "        [ 0.1089977 , -0.06505053, -0.14882538, ...,  0.07290143,\n",
       "          0.03471583,  0.19601771],\n",
       "        ...,\n",
       "        [-0.21366364,  0.19256452,  0.0446566 , ...,  0.07076243,\n",
       "         -0.13727584, -0.04553682],\n",
       "        [-0.07882853, -0.07001755,  0.25300455, ...,  0.07357475,\n",
       "         -0.25437918,  0.09411493],\n",
       "        [ 0.06831208,  0.18641904, -0.07180046, ..., -0.00202593,\n",
       "          0.04689243, -0.02185526]], dtype=float32)>,\n",
       " <tf.Variable 'bidirectional/forward_simple_rnn_1/simple_rnn_cell_2/recurrent_kernel:0' shape=(64, 64) dtype=float32, numpy=\n",
       " array([[ 0.15987396,  0.17633955,  0.05411208, ..., -0.14025238,\n",
       "         -0.11504713, -0.01057394],\n",
       "        [-0.20054106,  0.16562533,  0.20499589, ...,  0.0950986 ,\n",
       "          0.03970891, -0.03140413],\n",
       "        [ 0.00416   ,  0.10621864,  0.0893501 , ...,  0.09316609,\n",
       "          0.08409691,  0.24250436],\n",
       "        ...,\n",
       "        [ 0.11717787, -0.08227749, -0.06165119, ..., -0.11264651,\n",
       "         -0.08984598, -0.09779289],\n",
       "        [ 0.38385877,  0.07333817, -0.16035818, ..., -0.05562031,\n",
       "          0.00967818, -0.1683756 ],\n",
       "        [-0.04472431,  0.00355626, -0.00120303, ...,  0.10377634,\n",
       "          0.09258811, -0.06821199]], dtype=float32)>,\n",
       " <tf.Variable 'bidirectional/forward_simple_rnn_1/simple_rnn_cell_2/bias:0' shape=(64,) dtype=float32, numpy=\n",
       " array([0., 0., 0., 0., 0., 0., 0., 0., 0., 0., 0., 0., 0., 0., 0., 0., 0.,\n",
       "        0., 0., 0., 0., 0., 0., 0., 0., 0., 0., 0., 0., 0., 0., 0., 0., 0.,\n",
       "        0., 0., 0., 0., 0., 0., 0., 0., 0., 0., 0., 0., 0., 0., 0., 0., 0.,\n",
       "        0., 0., 0., 0., 0., 0., 0., 0., 0., 0., 0., 0., 0.], dtype=float32)>,\n",
       " <tf.Variable 'bidirectional/backward_simple_rnn_1/simple_rnn_cell_3/kernel:0' shape=(16, 64) dtype=float32, numpy=\n",
       " array([[ 0.22608137, -0.27039596,  0.13793382, ...,  0.17665514,\n",
       "          0.14254805, -0.26376286],\n",
       "        [ 0.08091995, -0.10227194,  0.03070688, ..., -0.24353586,\n",
       "          0.16461918, -0.21750571],\n",
       "        [-0.15543395,  0.13613597, -0.02850477, ...,  0.13447672,\n",
       "         -0.00978783, -0.12178162],\n",
       "        ...,\n",
       "        [ 0.12124699, -0.15840591,  0.06835929, ..., -0.17725298,\n",
       "          0.06252903,  0.20980328],\n",
       "        [ 0.26116502, -0.01910204,  0.26955014, ...,  0.07700783,\n",
       "         -0.13039893,  0.07169071],\n",
       "        [ 0.08295155, -0.15925094, -0.06483886, ...,  0.14315757,\n",
       "         -0.03253156, -0.14264102]], dtype=float32)>,\n",
       " <tf.Variable 'bidirectional/backward_simple_rnn_1/simple_rnn_cell_3/recurrent_kernel:0' shape=(64, 64) dtype=float32, numpy=\n",
       " array([[ 0.06901789, -0.13722675, -0.13105494, ..., -0.26733756,\n",
       "          0.02097559,  0.03045513],\n",
       "        [ 0.159062  , -0.05979943,  0.04068478, ..., -0.12399473,\n",
       "         -0.01104018, -0.19165306],\n",
       "        [ 0.01676492, -0.04268093,  0.06773555, ...,  0.17350632,\n",
       "          0.21283531, -0.13717605],\n",
       "        ...,\n",
       "        [ 0.09467319,  0.02701868,  0.01920838, ...,  0.14477128,\n",
       "         -0.01325281, -0.1131569 ],\n",
       "        [-0.07104732, -0.01199548, -0.10929926, ..., -0.1505406 ,\n",
       "         -0.14403209, -0.35969013],\n",
       "        [ 0.08189432,  0.00686008,  0.1361468 , ..., -0.03209222,\n",
       "          0.02849789,  0.04543962]], dtype=float32)>,\n",
       " <tf.Variable 'bidirectional/backward_simple_rnn_1/simple_rnn_cell_3/bias:0' shape=(64,) dtype=float32, numpy=\n",
       " array([0., 0., 0., 0., 0., 0., 0., 0., 0., 0., 0., 0., 0., 0., 0., 0., 0.,\n",
       "        0., 0., 0., 0., 0., 0., 0., 0., 0., 0., 0., 0., 0., 0., 0., 0., 0.,\n",
       "        0., 0., 0., 0., 0., 0., 0., 0., 0., 0., 0., 0., 0., 0., 0., 0., 0.,\n",
       "        0., 0., 0., 0., 0., 0., 0., 0., 0., 0., 0., 0., 0.], dtype=float32)>,\n",
       " <tf.Variable 'bidirectional_1/forward_simple_rnn_2/simple_rnn_cell_5/kernel:0' shape=(128, 64) dtype=float32, numpy=\n",
       " array([[ 0.05067316, -0.08343744,  0.08508272, ..., -0.02032675,\n",
       "         -0.13767007, -0.11980532],\n",
       "        [ 0.07486118,  0.11658712,  0.00975969, ...,  0.10617436,\n",
       "         -0.08013961,  0.0026539 ],\n",
       "        [-0.06764468,  0.05074738,  0.01889157, ..., -0.04786955,\n",
       "          0.16084827,  0.12554474],\n",
       "        ...,\n",
       "        [-0.13839078, -0.02866644, -0.09668963, ..., -0.06307629,\n",
       "          0.04275233, -0.11752476],\n",
       "        [-0.11587016,  0.16636683, -0.08794888, ..., -0.08091722,\n",
       "         -0.09553662,  0.12412862],\n",
       "        [ 0.15389057, -0.05385301,  0.10207234, ..., -0.01686072,\n",
       "          0.02039832,  0.11260007]], dtype=float32)>,\n",
       " <tf.Variable 'bidirectional_1/forward_simple_rnn_2/simple_rnn_cell_5/recurrent_kernel:0' shape=(64, 64) dtype=float32, numpy=\n",
       " array([[ 0.05979061,  0.01359035,  0.07003829, ...,  0.0245906 ,\n",
       "          0.17918357, -0.2048736 ],\n",
       "        [-0.04240981, -0.00665092, -0.0157658 , ...,  0.19957793,\n",
       "         -0.05253843,  0.01495564],\n",
       "        [-0.15534176,  0.13116156,  0.0664643 , ...,  0.07667589,\n",
       "          0.0214532 , -0.01751861],\n",
       "        ...,\n",
       "        [-0.20129575,  0.10927276, -0.11263394, ...,  0.07326305,\n",
       "          0.19082376,  0.07727273],\n",
       "        [-0.0460682 ,  0.11178834,  0.31793332, ..., -0.05777347,\n",
       "         -0.05564892,  0.01966061],\n",
       "        [ 0.13985252, -0.07257996, -0.01468938, ..., -0.11076137,\n",
       "          0.05309623, -0.06982554]], dtype=float32)>,\n",
       " <tf.Variable 'bidirectional_1/forward_simple_rnn_2/simple_rnn_cell_5/bias:0' shape=(64,) dtype=float32, numpy=\n",
       " array([0., 0., 0., 0., 0., 0., 0., 0., 0., 0., 0., 0., 0., 0., 0., 0., 0.,\n",
       "        0., 0., 0., 0., 0., 0., 0., 0., 0., 0., 0., 0., 0., 0., 0., 0., 0.,\n",
       "        0., 0., 0., 0., 0., 0., 0., 0., 0., 0., 0., 0., 0., 0., 0., 0., 0.,\n",
       "        0., 0., 0., 0., 0., 0., 0., 0., 0., 0., 0., 0., 0.], dtype=float32)>,\n",
       " <tf.Variable 'bidirectional_1/backward_simple_rnn_2/simple_rnn_cell_6/kernel:0' shape=(128, 64) dtype=float32, numpy=\n",
       " array([[-0.1704481 , -0.07862743, -0.12123238, ...,  0.10914259,\n",
       "          0.15492944, -0.1589269 ],\n",
       "        [-0.14425665, -0.01021032, -0.0707984 , ..., -0.16031069,\n",
       "          0.16902657,  0.00296192],\n",
       "        [ 0.06634192, -0.10819277, -0.15754412, ..., -0.11992763,\n",
       "         -0.13121313,  0.07388373],\n",
       "        ...,\n",
       "        [ 0.16999535,  0.08620258, -0.07263048, ...,  0.00830011,\n",
       "          0.15840013, -0.14746663],\n",
       "        [-0.02381407,  0.00657593, -0.0189928 , ..., -0.01380356,\n",
       "         -0.07671198, -0.04000629],\n",
       "        [ 0.10062535,  0.04974078, -0.08183767, ...,  0.13872232,\n",
       "         -0.05264504, -0.07055601]], dtype=float32)>,\n",
       " <tf.Variable 'bidirectional_1/backward_simple_rnn_2/simple_rnn_cell_6/recurrent_kernel:0' shape=(64, 64) dtype=float32, numpy=\n",
       " array([[ 0.116413  ,  0.01326169, -0.15395647, ..., -0.09008785,\n",
       "          0.00477401, -0.09373719],\n",
       "        [-0.15610228, -0.16042113, -0.105751  , ..., -0.0631374 ,\n",
       "         -0.10212547,  0.02269761],\n",
       "        [ 0.16832897, -0.10582545, -0.11974883, ...,  0.05909512,\n",
       "         -0.01963317,  0.10758752],\n",
       "        ...,\n",
       "        [ 0.01173986,  0.06747023,  0.10940626, ..., -0.02153181,\n",
       "         -0.07838915,  0.03056187],\n",
       "        [-0.18784721, -0.24962959, -0.10046555, ...,  0.01645701,\n",
       "         -0.24450545, -0.10280806],\n",
       "        [-0.10261223, -0.0824945 , -0.26850933, ..., -0.10523575,\n",
       "         -0.01517299,  0.17704313]], dtype=float32)>,\n",
       " <tf.Variable 'bidirectional_1/backward_simple_rnn_2/simple_rnn_cell_6/bias:0' shape=(64,) dtype=float32, numpy=\n",
       " array([0., 0., 0., 0., 0., 0., 0., 0., 0., 0., 0., 0., 0., 0., 0., 0., 0.,\n",
       "        0., 0., 0., 0., 0., 0., 0., 0., 0., 0., 0., 0., 0., 0., 0., 0., 0.,\n",
       "        0., 0., 0., 0., 0., 0., 0., 0., 0., 0., 0., 0., 0., 0., 0., 0., 0.,\n",
       "        0., 0., 0., 0., 0., 0., 0., 0., 0., 0., 0., 0., 0.], dtype=float32)>,\n",
       " <tf.Variable 'dense_2/kernel:0' shape=(128, 64) dtype=float32, numpy=\n",
       " array([[-0.04481107,  0.17562087, -0.13759525, ..., -0.09327898,\n",
       "         -0.03183748, -0.05890578],\n",
       "        [-0.04295568, -0.09230893, -0.13608366, ...,  0.04399882,\n",
       "          0.10844056, -0.09098902],\n",
       "        [-0.01202618, -0.0431556 ,  0.08827953, ...,  0.15992977,\n",
       "         -0.03387578, -0.1014089 ],\n",
       "        ...,\n",
       "        [ 0.10526238, -0.13797483, -0.06028087, ..., -0.14240442,\n",
       "          0.1620252 ,  0.09731071],\n",
       "        [ 0.0184835 ,  0.12217306,  0.06655754, ..., -0.05455922,\n",
       "         -0.06560861, -0.06810467],\n",
       "        [ 0.07232457, -0.06868941, -0.13466597, ...,  0.10254733,\n",
       "         -0.11262662,  0.04214871]], dtype=float32)>,\n",
       " <tf.Variable 'dense_2/bias:0' shape=(64,) dtype=float32, numpy=\n",
       " array([0., 0., 0., 0., 0., 0., 0., 0., 0., 0., 0., 0., 0., 0., 0., 0., 0.,\n",
       "        0., 0., 0., 0., 0., 0., 0., 0., 0., 0., 0., 0., 0., 0., 0., 0., 0.,\n",
       "        0., 0., 0., 0., 0., 0., 0., 0., 0., 0., 0., 0., 0., 0., 0., 0., 0.,\n",
       "        0., 0., 0., 0., 0., 0., 0., 0., 0., 0., 0., 0., 0.], dtype=float32)>,\n",
       " <tf.Variable 'dense_3/kernel:0' shape=(64, 1) dtype=float32, numpy=\n",
       " array([[-1.89031780e-01],\n",
       "        [-2.05629855e-01],\n",
       "        [ 2.78935134e-02],\n",
       "        [-2.43715048e-02],\n",
       "        [ 1.22035950e-01],\n",
       "        [-1.21587634e-01],\n",
       "        [ 1.45779550e-01],\n",
       "        [ 3.35150361e-02],\n",
       "        [-1.84060439e-01],\n",
       "        [-1.80118978e-02],\n",
       "        [-2.42481560e-01],\n",
       "        [ 9.65260565e-02],\n",
       "        [ 1.85907364e-01],\n",
       "        [ 2.94974566e-01],\n",
       "        [-4.62203622e-02],\n",
       "        [ 5.61176240e-02],\n",
       "        [ 1.89693034e-01],\n",
       "        [-5.66533059e-02],\n",
       "        [ 1.80674970e-01],\n",
       "        [-4.63880599e-02],\n",
       "        [-1.34366497e-01],\n",
       "        [ 5.16064167e-02],\n",
       "        [-1.49471015e-01],\n",
       "        [-1.38849020e-04],\n",
       "        [ 1.71028376e-02],\n",
       "        [ 1.93401873e-02],\n",
       "        [ 2.13204861e-01],\n",
       "        [-1.14993215e-01],\n",
       "        [-3.35490108e-02],\n",
       "        [-8.36759806e-02],\n",
       "        [-3.84338498e-02],\n",
       "        [-2.05933005e-01],\n",
       "        [-2.67284632e-01],\n",
       "        [-3.35343182e-02],\n",
       "        [-8.15218538e-02],\n",
       "        [ 2.72509515e-01],\n",
       "        [ 3.99458408e-02],\n",
       "        [-1.22795746e-01],\n",
       "        [ 1.33562386e-01],\n",
       "        [-2.75122434e-01],\n",
       "        [-8.05511326e-02],\n",
       "        [-1.05115771e-02],\n",
       "        [ 9.14015174e-02],\n",
       "        [-1.58174798e-01],\n",
       "        [ 1.40692592e-02],\n",
       "        [ 2.30427325e-01],\n",
       "        [-3.88810039e-02],\n",
       "        [ 1.42023802e-01],\n",
       "        [ 1.50653183e-01],\n",
       "        [-2.08628297e-01],\n",
       "        [-7.44120479e-02],\n",
       "        [ 8.60230029e-02],\n",
       "        [ 1.26904368e-01],\n",
       "        [ 1.78601444e-01],\n",
       "        [ 2.46744096e-01],\n",
       "        [-1.68201029e-02],\n",
       "        [-1.13433510e-01],\n",
       "        [-1.02245137e-01],\n",
       "        [ 2.46317565e-01],\n",
       "        [-2.87728667e-01],\n",
       "        [-9.62281823e-02],\n",
       "        [-2.00191081e-01],\n",
       "        [ 6.36602640e-02],\n",
       "        [-1.37497291e-01]], dtype=float32)>,\n",
       " <tf.Variable 'dense_3/bias:0' shape=(1,) dtype=float32, numpy=array([0.], dtype=float32)>]"
      ]
     },
     "execution_count": 25,
     "metadata": {},
     "output_type": "execute_result"
    }
   ],
   "source": [
    "model.variables"
   ]
  },
  {
   "cell_type": "code",
   "execution_count": 26,
   "metadata": {},
   "outputs": [
    {
     "name": "stdout",
     "output_type": "stream",
     "text": [
      "Epoch 1/30\n",
      "40/40 [==============================] - 90s 2s/step - loss: 0.6973 - accuracy: 0.4990 - val_loss: 0.7742 - val_accuracy: 0.4928\n",
      "Epoch 2/30\n",
      "40/40 [==============================] - 63s 2s/step - loss: 0.6988 - accuracy: 0.5015 - val_loss: 0.6982 - val_accuracy: 0.4962\n",
      "Epoch 3/30\n",
      "40/40 [==============================] - 63s 2s/step - loss: 0.7009 - accuracy: 0.5009 - val_loss: 0.6935 - val_accuracy: 0.5176\n",
      "Epoch 4/30\n",
      "40/40 [==============================] - 62s 2s/step - loss: 0.6995 - accuracy: 0.4969 - val_loss: 0.6932 - val_accuracy: 0.5074\n",
      "Epoch 5/30\n",
      "40/40 [==============================] - 62s 2s/step - loss: 0.6938 - accuracy: 0.5141 - val_loss: 0.6935 - val_accuracy: 0.5078\n",
      "Epoch 6/30\n",
      "40/40 [==============================] - 62s 2s/step - loss: 0.6961 - accuracy: 0.5118 - val_loss: 0.6946 - val_accuracy: 0.5056\n",
      "Epoch 7/30\n",
      "40/40 [==============================] - 62s 2s/step - loss: 0.6909 - accuracy: 0.5321 - val_loss: 0.6911 - val_accuracy: 0.5204\n",
      "Epoch 8/30\n",
      "40/40 [==============================] - 62s 2s/step - loss: 0.6862 - accuracy: 0.5567 - val_loss: 0.6968 - val_accuracy: 0.5286\n",
      "Epoch 9/30\n",
      "40/40 [==============================] - 61s 2s/step - loss: 0.6636 - accuracy: 0.5996 - val_loss: 0.7103 - val_accuracy: 0.5400\n",
      "Epoch 10/30\n",
      "40/40 [==============================] - 62s 2s/step - loss: 0.6131 - accuracy: 0.6661 - val_loss: 0.7520 - val_accuracy: 0.5348\n",
      "Epoch 11/30\n",
      "40/40 [==============================] - 62s 2s/step - loss: 0.5573 - accuracy: 0.7164 - val_loss: 0.7817 - val_accuracy: 0.5572\n",
      "Epoch 12/30\n",
      "40/40 [==============================] - 62s 2s/step - loss: 0.4943 - accuracy: 0.7620 - val_loss: 0.7672 - val_accuracy: 0.5770\n",
      "Epoch 13/30\n",
      "40/40 [==============================] - 61s 2s/step - loss: 0.4495 - accuracy: 0.7939 - val_loss: 0.7953 - val_accuracy: 0.5766\n",
      "Epoch 14/30\n",
      "40/40 [==============================] - 61s 2s/step - loss: 0.3832 - accuracy: 0.8330 - val_loss: 0.8403 - val_accuracy: 0.6012\n",
      "Epoch 15/30\n",
      "40/40 [==============================] - 62s 2s/step - loss: 0.3211 - accuracy: 0.8661 - val_loss: 0.9919 - val_accuracy: 0.5984\n",
      "Epoch 16/30\n",
      "40/40 [==============================] - 62s 2s/step - loss: 0.2674 - accuracy: 0.8933 - val_loss: 0.9091 - val_accuracy: 0.6236\n",
      "Epoch 17/30\n",
      "40/40 [==============================] - 62s 2s/step - loss: 0.2396 - accuracy: 0.9086 - val_loss: 1.0626 - val_accuracy: 0.6112\n",
      "Epoch 18/30\n",
      "40/40 [==============================] - 61s 2s/step - loss: 0.2125 - accuracy: 0.9184 - val_loss: 1.0817 - val_accuracy: 0.6146\n",
      "Epoch 19/30\n",
      "40/40 [==============================] - 61s 2s/step - loss: 0.1677 - accuracy: 0.9407 - val_loss: 1.1524 - val_accuracy: 0.6176\n",
      "Epoch 20/30\n",
      "40/40 [==============================] - 62s 2s/step - loss: 0.1403 - accuracy: 0.9532 - val_loss: 1.3169 - val_accuracy: 0.6100\n",
      "Epoch 21/30\n",
      "40/40 [==============================] - 62s 2s/step - loss: 0.1248 - accuracy: 0.9586 - val_loss: 1.3398 - val_accuracy: 0.6128\n",
      "Epoch 22/30\n",
      "40/40 [==============================] - 62s 2s/step - loss: 0.1306 - accuracy: 0.9556 - val_loss: 1.3569 - val_accuracy: 0.6094\n",
      "Epoch 23/30\n",
      "40/40 [==============================] - 62s 2s/step - loss: 0.0935 - accuracy: 0.9706 - val_loss: 1.4410 - val_accuracy: 0.6144\n",
      "Epoch 24/30\n",
      "40/40 [==============================] - 62s 2s/step - loss: 0.0822 - accuracy: 0.9750 - val_loss: 1.5690 - val_accuracy: 0.6090\n",
      "Epoch 25/30\n",
      "40/40 [==============================] - 62s 2s/step - loss: 0.0623 - accuracy: 0.9838 - val_loss: 1.6526 - val_accuracy: 0.6130\n",
      "Epoch 26/30\n",
      "40/40 [==============================] - 62s 2s/step - loss: 0.0593 - accuracy: 0.9834 - val_loss: 1.6870 - val_accuracy: 0.6140\n",
      "Epoch 27/30\n",
      "40/40 [==============================] - 62s 2s/step - loss: 0.0465 - accuracy: 0.9883 - val_loss: 1.8050 - val_accuracy: 0.6134\n",
      "Epoch 28/30\n",
      "40/40 [==============================] - 62s 2s/step - loss: 0.0375 - accuracy: 0.9912 - val_loss: 1.8615 - val_accuracy: 0.6182\n",
      "Epoch 29/30\n",
      "40/40 [==============================] - 62s 2s/step - loss: 0.0492 - accuracy: 0.9861 - val_loss: 1.8164 - val_accuracy: 0.6138\n",
      "Epoch 30/30\n",
      "40/40 [==============================] - 62s 2s/step - loss: 0.0440 - accuracy: 0.9879 - val_loss: 1.9354 - val_accuracy: 0.6056\n"
     ]
    }
   ],
   "source": [
    "history = model.fit(\n",
    "    train_data, train_labels,\n",
    "    epochs = 30,\n",
    "    batch_size = batch_size,\n",
    "    validation_split = 0.2)\n"
   ]
  },
  {
   "cell_type": "code",
   "execution_count": 13,
   "metadata": {},
   "outputs": [
    {
     "data": {
      "image/png": "[encoded data removed]",
      "text/plain": [
       "<Figure size 576x360 with 1 Axes>"
      ]
     },
     "metadata": {
      "needs_background": "light"
     },
     "output_type": "display_data"
    },
    {
     "data": {
      "image/png": "[encoded data removed]",
      "text/plain": [
       "<Figure size 576x360 with 1 Axes>"
      ]
     },
     "metadata": {
      "needs_background": "light"
     },
     "output_type": "display_data"
    }
   ],
   "source": [
    "plot_learning_curves(history, 'accuracy', 30, 0, 1)\n",
    "plot_learning_curves(history, 'loss', 30, 0, 3.8)\n",
    "#我们发现过拟合了，可能是模型太复杂了，我们改为单层的rnn"
   ]
  },
  {
   "cell_type": "code",
   "execution_count": 14,
   "metadata": {},
   "outputs": [
    {
     "name": "stdout",
     "output_type": "stream",
     "text": [
      "Model: \"sequential_2\"\n",
      "_________________________________________________________________\n",
      "Layer (type)                 Output Shape              Param #   \n",
      "=================================================================\n",
      "embedding_2 (Embedding)      (None, 500, 16)           160000    \n",
      "_________________________________________________________________\n",
      "bidirectional_2 (Bidirection (None, 64)                3136      \n",
      "_________________________________________________________________\n",
      "dense_4 (Dense)              (None, 32)                2080      \n",
      "_________________________________________________________________\n",
      "dense_5 (Dense)              (None, 1)                 33        \n",
      "=================================================================\n",
      "Total params: 165,249\n",
      "Trainable params: 165,249\n",
      "Non-trainable params: 0\n",
      "_________________________________________________________________\n"
     ]
    }
   ],
   "source": [
    "embedding_dim = 16\n",
    "batch_size = 512\n",
    "\n",
    "bi_rnn_model = keras.models.Sequential([\n",
    "    # 1. define matrix: [vocab_size, embedding_dim]\n",
    "    # 2. [1,2,3,4..], max_length * embedding_dim\n",
    "    # 3. batch_size * max_length * embedding_dim\n",
    "    keras.layers.Embedding(vocab_size, embedding_dim,\n",
    "                           input_length = max_length),\n",
    "    keras.layers.Bidirectional(\n",
    "        keras.layers.SimpleRNN(\n",
    "            units = 32, return_sequences = False)),\n",
    "    keras.layers.Dense(32, activation = 'relu'),\n",
    "    keras.layers.Dense(1, activation='sigmoid'),\n",
    "])\n",
    "\n",
    "bi_rnn_model.summary()\n",
    "bi_rnn_model.compile(optimizer = 'adam',\n",
    "                     loss = 'binary_crossentropy',\n",
    "                     metrics = ['accuracy'])"
   ]
  },
  {
   "cell_type": "code",
   "execution_count": 15,
   "metadata": {},
   "outputs": [
    {
     "name": "stdout",
     "output_type": "stream",
     "text": [
      "Epoch 1/30\n",
      "40/40 [==============================] - 11s 266ms/step - loss: 0.6934 - accuracy: 0.5081 - val_loss: 0.6931 - val_accuracy: 0.5044\n",
      "Epoch 2/30\n",
      "40/40 [==============================] - 11s 270ms/step - loss: 0.6911 - accuracy: 0.5257 - val_loss: 0.6943 - val_accuracy: 0.5052\n",
      "Epoch 3/30\n",
      "40/40 [==============================] - 11s 267ms/step - loss: 0.6829 - accuracy: 0.5695 - val_loss: 0.6911 - val_accuracy: 0.5278\n",
      "Epoch 4/30\n",
      "40/40 [==============================] - 11s 267ms/step - loss: 0.6401 - accuracy: 0.6497 - val_loss: 0.6049 - val_accuracy: 0.6806\n",
      "Epoch 5/30\n",
      "40/40 [==============================] - 11s 272ms/step - loss: 0.4174 - accuracy: 0.8169 - val_loss: 0.6208 - val_accuracy: 0.7310\n",
      "Epoch 6/30\n",
      "40/40 [==============================] - 11s 264ms/step - loss: 0.2914 - accuracy: 0.8842 - val_loss: 0.4649 - val_accuracy: 0.8022\n",
      "Epoch 7/30\n",
      "40/40 [==============================] - 11s 267ms/step - loss: 0.1495 - accuracy: 0.9477 - val_loss: 0.4812 - val_accuracy: 0.8198\n",
      "Epoch 8/30\n",
      "40/40 [==============================] - 10s 262ms/step - loss: 0.0661 - accuracy: 0.9833 - val_loss: 0.5859 - val_accuracy: 0.8056\n",
      "Epoch 9/30\n",
      "40/40 [==============================] - 11s 265ms/step - loss: 0.0288 - accuracy: 0.9948 - val_loss: 0.6765 - val_accuracy: 0.8096\n",
      "Epoch 10/30\n",
      "40/40 [==============================] - 11s 265ms/step - loss: 0.0157 - accuracy: 0.9979 - val_loss: 0.7135 - val_accuracy: 0.8156\n",
      "Epoch 11/30\n",
      "40/40 [==============================] - 11s 264ms/step - loss: 0.0072 - accuracy: 0.9994 - val_loss: 0.7743 - val_accuracy: 0.8116\n",
      "Epoch 12/30\n",
      "40/40 [==============================] - 11s 267ms/step - loss: 0.0045 - accuracy: 0.9996 - val_loss: 0.7962 - val_accuracy: 0.8120\n",
      "Epoch 13/30\n",
      "40/40 [==============================] - 11s 266ms/step - loss: 0.0029 - accuracy: 0.9998 - val_loss: 0.8265 - val_accuracy: 0.8136\n",
      "Epoch 14/30\n",
      "40/40 [==============================] - 11s 263ms/step - loss: 0.0021 - accuracy: 0.9998 - val_loss: 0.8520 - val_accuracy: 0.8118\n",
      "Epoch 15/30\n",
      "40/40 [==============================] - 11s 264ms/step - loss: 0.0016 - accuracy: 0.9998 - val_loss: 0.8801 - val_accuracy: 0.8116\n",
      "Epoch 16/30\n",
      "40/40 [==============================] - 11s 273ms/step - loss: 0.0012 - accuracy: 0.9999 - val_loss: 0.9001 - val_accuracy: 0.8112\n",
      "Epoch 17/30\n",
      "40/40 [==============================] - 11s 267ms/step - loss: 8.7273e-04 - accuracy: 0.9999 - val_loss: 0.9205 - val_accuracy: 0.8098\n",
      "Epoch 18/30\n",
      "40/40 [==============================] - 11s 264ms/step - loss: 6.9785e-04 - accuracy: 1.0000 - val_loss: 0.9383 - val_accuracy: 0.8112\n",
      "Epoch 19/30\n",
      "40/40 [==============================] - 11s 266ms/step - loss: 5.7690e-04 - accuracy: 1.0000 - val_loss: 0.9547 - val_accuracy: 0.8114\n",
      "Epoch 20/30\n",
      "40/40 [==============================] - 10s 262ms/step - loss: 4.8657e-04 - accuracy: 1.0000 - val_loss: 0.9696 - val_accuracy: 0.8132\n",
      "Epoch 21/30\n",
      "40/40 [==============================] - 11s 264ms/step - loss: 4.1822e-04 - accuracy: 1.0000 - val_loss: 0.9830 - val_accuracy: 0.8140\n",
      "Epoch 22/30\n",
      "40/40 [==============================] - 10s 258ms/step - loss: 3.6420e-04 - accuracy: 1.0000 - val_loss: 0.9943 - val_accuracy: 0.8142\n",
      "Epoch 23/30\n",
      "40/40 [==============================] - 10s 262ms/step - loss: 3.1932e-04 - accuracy: 1.0000 - val_loss: 1.0095 - val_accuracy: 0.8128\n",
      "Epoch 24/30\n",
      "40/40 [==============================] - 11s 269ms/step - loss: 2.8502e-04 - accuracy: 1.0000 - val_loss: 1.0208 - val_accuracy: 0.8152\n",
      "Epoch 25/30\n",
      "40/40 [==============================] - 10s 262ms/step - loss: 2.5203e-04 - accuracy: 1.0000 - val_loss: 1.0303 - val_accuracy: 0.8150\n",
      "Epoch 26/30\n",
      "40/40 [==============================] - 10s 262ms/step - loss: 2.2681e-04 - accuracy: 1.0000 - val_loss: 1.0420 - val_accuracy: 0.8146\n",
      "Epoch 27/30\n",
      "40/40 [==============================] - 11s 264ms/step - loss: 2.0388e-04 - accuracy: 1.0000 - val_loss: 1.0514 - val_accuracy: 0.8160\n",
      "Epoch 28/30\n",
      "40/40 [==============================] - 11s 264ms/step - loss: 1.8626e-04 - accuracy: 1.0000 - val_loss: 1.0618 - val_accuracy: 0.8150\n",
      "Epoch 29/30\n",
      "40/40 [==============================] - 11s 272ms/step - loss: 1.6840e-04 - accuracy: 1.0000 - val_loss: 1.0709 - val_accuracy: 0.8144\n",
      "Epoch 30/30\n",
      "40/40 [==============================] - 11s 269ms/step - loss: 1.5385e-04 - accuracy: 1.0000 - val_loss: 1.0795 - val_accuracy: 0.8148\n"
     ]
    }
   ],
   "source": [
    "history = bi_rnn_model.fit(\n",
    "    train_data, train_labels,\n",
    "    epochs = 30,\n",
    "    batch_size = batch_size,\n",
    "    validation_split = 0.2)"
   ]
  },
  {
   "cell_type": "code",
   "execution_count": 16,
   "metadata": {},
   "outputs": [
    {
     "data": {
      "image/png": "[encoded data removed]",
      "text/plain": [
       "<Figure size 576x360 with 1 Axes>"
      ]
     },
     "metadata": {
      "needs_background": "light"
     },
     "output_type": "display_data"
    },
    {
     "data": {
      "image/png": "[encoded data removed]",
      "text/plain": [
       "<Figure size 576x360 with 1 Axes>"
      ]
     },
     "metadata": {
      "needs_background": "light"
     },
     "output_type": "display_data"
    }
   ],
   "source": [
    "plot_learning_curves(history, 'accuracy', 30, 0, 1.1)\n",
    "plot_learning_curves(history, 'loss', 30, 0, 2.5)"
   ]
  },
  {
   "cell_type": "code",
   "execution_count": 17,
   "metadata": {},
   "outputs": [
    {
     "data": {
      "text/plain": [
       "[1.2384063005447388, 0.7864800095558167]"
      ]
     },
     "execution_count": 17,
     "metadata": {},
     "output_type": "execute_result"
    }
   ],
   "source": [
    "bi_rnn_model.evaluate(test_data, test_labels, batch_size = batch_size, verbose = 0)"
   ]
  },
  {
   "cell_type": "code",
   "execution_count": 18,
   "metadata": {},
   "outputs": [],
   "source": [
    "#最终效果变好了，但是仍然过拟合，过拟合说明一点我们模型很强大"
   ]
  },
  {
   "cell_type": "code",
   "execution_count": 6,
   "metadata": {},
   "outputs": [
    {
     "data": {
      "text/plain": [
       "array([0.9162905], dtype=float32)"
      ]
     },
     "execution_count": 6,
     "metadata": {},
     "output_type": "execute_result"
    }
   ],
   "source": [
    "#就是前面的交叉熵的损失\n",
    "y_true = [[0, 1]]\n",
    "y_pred = [[0.6, 0.4]]\n",
    "loss = tf.keras.losses.binary_crossentropy(y_true, y_pred)\n",
    "# assert loss.shape == (2,)\n",
    "loss.numpy()"
   ]
  },
  {
   "cell_type": "code",
   "execution_count": 10,
   "metadata": {},
   "outputs": [
    {
     "data": {
      "text/plain": [
       "-0.916290731874155"
      ]
     },
     "execution_count": 10,
     "metadata": {},
     "output_type": "execute_result"
    }
   ],
   "source": [
    "1*np.log(0.4)"
   ]
  }
 ],
 "metadata": {
  "kernelspec": {
   "display_name": "Python 3",
   "language": "python",
   "name": "python3"
  },
  "language_info": {
   "codemirror_mode": {
    "name": "ipython",
    "version": 3
   },
   "file_extension": ".py",
   "mimetype": "text/x-python",
   "name": "python",
   "nbconvert_exporter": "python",
   "pygments_lexer": "ipython3",
   "version": "3.6.9"
  }
 },
 "nbformat": 4,
 "nbformat_minor": 2
}
