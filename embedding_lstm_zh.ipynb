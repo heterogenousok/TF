{
 "cells": [
  {
   "cell_type": "code",
   "execution_count": 1,
   "metadata": {},
   "outputs": [
    {
     "name": "stdout",
     "output_type": "stream",
     "text": [
      "2.0.0\n",
      "sys.version_info(major=3, minor=6, micro=9, releaselevel='final', serial=0)\n",
      "matplotlib 3.1.2\n",
      "numpy 1.17.4\n",
      "pandas 0.25.3\n",
      "sklearn 0.21.3\n",
      "tensorflow 2.0.0\n",
      "tensorflow_core.keras 2.2.4-tf\n"
     ]
    }
   ],
   "source": [
    "import matplotlib as mpl\n",
    "import matplotlib.pyplot as plt\n",
    "%matplotlib inline\n",
    "import numpy as np\n",
    "import sklearn\n",
    "import pandas as pd\n",
    "import os\n",
    "import sys\n",
    "import time\n",
    "import tensorflow as tf\n",
    "\n",
    "from tensorflow import keras\n",
    "\n",
    "print(tf.__version__)\n",
    "print(sys.version_info)\n",
    "for module in mpl, np, pd, sklearn, tf, keras:\n",
    "    print(module.__name__, module.__version__)\n"
   ]
  },
  {
   "cell_type": "code",
   "execution_count": 2,
   "metadata": {},
   "outputs": [],
   "source": [
    "dataset_path = './zh_dataset'\n",
    "\n",
    "train_file = os.path.join(dataset_path, 'cnews.train.seg.txt')\n",
    "val_file = os.path.join(dataset_path, 'cnews.val.seg.txt')\n",
    "test_file = os.path.join(dataset_path, 'cnews.test.seg.txt')\n",
    "vocab_file = os.path.join(dataset_path, 'cnews.vocab.txt')\n",
    "category_file = os.path.join(dataset_path, 'cnews.category.txt')"
   ]
  },
  {
   "cell_type": "code",
   "execution_count": 3,
   "metadata": {},
   "outputs": [
    {
     "name": "stdout",
     "output_type": "stream",
     "text": [
      "vocab_size: 77323\n",
      "num_classes: 10\n",
      "label: 时尚, id: 5\n"
     ]
    }
   ],
   "source": [
    "class Vocab:\n",
    "    def __init__(self, filename, num_word_threshold):\n",
    "        self._word_to_id = {}\n",
    "        self._unk = -1\n",
    "        self._num_word_threshold = num_word_threshold\n",
    "        self._read_dict(filename)\n",
    "    \n",
    "    def _read_dict(self, filename):\n",
    "        with open(filename, 'r') as f:\n",
    "            lines = f.readlines()\n",
    "        for line in lines:\n",
    "            word, frequency = line.strip('\\r\\n').split('\\t')\n",
    "            frequency = int(frequency)\n",
    "            if frequency < self._num_word_threshold:\n",
    "                continue\n",
    "            idx = len(self._word_to_id)\n",
    "            if word == '<UNK>':\n",
    "                self._unk = idx\n",
    "            self._word_to_id[word] = idx\n",
    "    \n",
    "    def word_to_id(self, word):\n",
    "        return self._word_to_id.get(word, self._unk)\n",
    "    \n",
    "    @property\n",
    "    def unk(self):\n",
    "        return self._unk\n",
    "    \n",
    "    def size(self):\n",
    "        return len(self._word_to_id)\n",
    "    \n",
    "    def sentence_to_id(self, sentence):\n",
    "        word_ids = [self.word_to_id(cur_word) \\\n",
    "                    for cur_word in sentence.split()]\n",
    "        return word_ids\n",
    "\n",
    "\n",
    "class CategoryDict:\n",
    "    def __init__(self, filename):\n",
    "        self._category_to_id = {}\n",
    "        with open(filename, 'r') as f:\n",
    "            lines = f.readlines()\n",
    "        for line in lines:\n",
    "            category = line.strip('\\r\\n')\n",
    "            idx = len(self._category_to_id)\n",
    "            self._category_to_id[category] = idx\n",
    "    \n",
    "    def size(self):\n",
    "        return len(self._category_to_id)\n",
    "        \n",
    "    def category_to_id(self, category):\n",
    "        if not category in self._category_to_id:\n",
    "            raise Execption(\n",
    "                \"%s is not in our category list\" % category_name)\n",
    "        return self._category_to_id[category]\n",
    "        \n",
    "vocab = Vocab(vocab_file, 10)\n",
    "vocab_size = vocab.size()\n",
    "print('vocab_size: %d' % vocab_size)\n",
    "\n",
    "category_vocab = CategoryDict(category_file)\n",
    "num_classes = category_vocab.size()\n",
    "print('num_classes: %d' % num_classes)\n",
    "test_str = '时尚'\n",
    "print('label: %s, id: %d' % (test_str, category_vocab.category_to_id(test_str)))"
   ]
  },
  {
   "cell_type": "code",
   "execution_count": 4,
   "metadata": {},
   "outputs": [],
   "source": [
    "max_length = 500\n",
    "\n",
    "def parse_data(filename):\n",
    "    with open(filename, 'r') as f:\n",
    "        lines = f.readlines()\n",
    "    x = []\n",
    "    y = []\n",
    "    \n",
    "    for line in lines:\n",
    "        label, content = line.strip('\\n').split('\\t')\n",
    "        id_label = category_vocab.category_to_id(label)\n",
    "        id_words = vocab.sentence_to_id(content)\n",
    "        if len(id_words) > max_length:\n",
    "            id_words = id_words[0:max_length]\n",
    "        else:\n",
    "            pad = [vocab.unk for _ in range(max_length - len(id_words))]\n",
    "            id_words = id_words + pad\n",
    "        x.append(id_words)\n",
    "        y.append(id_label)\n",
    "    return tf.data.Dataset.from_tensor_slices((x, y))\n",
    "\n",
    "train_dataset = parse_data(train_file)\n",
    "val_dataset = parse_data(val_file)\n",
    "test_dataset = parse_data(test_file)"
   ]
  },
  {
   "cell_type": "code",
   "execution_count": 5,
   "metadata": {},
   "outputs": [],
   "source": [
    "buffer_size = 50000\n",
    "batch_size = 64\n",
    "\n",
    "train_dataset = train_dataset.shuffle(buffer_size).batch(batch_size)\n",
    "val_dataset = val_dataset.shuffle(buffer_size).batch(batch_size)\n",
    "test_dataset = test_dataset.shuffle(buffer_size).batch(batch_size)"
   ]
  },
  {
   "cell_type": "code",
   "execution_count": 6,
   "metadata": {},
   "outputs": [
    {
     "name": "stdout",
     "output_type": "stream",
     "text": [
      "tf.Tensor(\n",
      "[[ 3759    11    25 ...     7    13    83]\n",
      " [ 2990   303  3366 ...     0     0     0]\n",
      " [13792    11   187 ...     0     0     0]\n",
      " ...\n",
      " [  467    11    91 ...     0     0     0]\n",
      " [   15  2296    14 ...   376  3005 22072]\n",
      " [  788     8 16974 ...     0     0     0]], shape=(64, 500), dtype=int32) tf.Tensor(\n",
      "[4 3 6 2 4 3 7 0 3 5 5 5 7 9 2 8 7 4 6 5 4 4 1 4 1 1 5 5 3 2 0 7 0 3 2 1 0\n",
      " 1 8 2 2 4 5 8 6 3 9 0 7 7 7 4 3 5 7 8 8 5 1 0 1 5 1 4], shape=(64,), dtype=int32)\n",
      "tf.Tensor(\n",
      "[[  706  2014   117 ...     0     0     0]\n",
      " [    0   149 15519 ...    40     1   163]\n",
      " [ 6117    11   726 ...     0     0     0]\n",
      " ...\n",
      " [   71   612   144 ...    70     2  1193]\n",
      " [ 2378     2 18935 ...     0     0     0]\n",
      " [11498     4  4416 ...  1155     1  3920]], shape=(64, 500), dtype=int32) tf.Tensor(\n",
      "[9 8 1 9 5 9 7 1 9 8 8 4 1 9 5 4 0 6 9 3 3 6 8 5 1 6 5 4 9 4 3 5 6 3 4 6 1\n",
      " 4 1 3 3 0 8 4 9 8 6 7 1 5 6 5 2 5 4 7 2 1 8 4 4 3 2 6], shape=(64,), dtype=int32)\n",
      "tf.Tensor(\n",
      "[[    0 14828  1130 ... 28784     1 15602]\n",
      " [   15  4812 61096 ...     9  1933    64]\n",
      " [26328  1654   129 ...     2   264   342]\n",
      " ...\n",
      " [  308  3315  7326 ...     0     0     0]\n",
      " [   15 30622    14 ...     0     0     0]\n",
      " [  604  1329   336 ...   164    43   717]], shape=(64, 500), dtype=int32) tf.Tensor(\n",
      "[3 1 3 2 6 5 5 3 2 8 2 7 6 3 3 9 7 1 7 5 6 5 3 7 1 4 5 6 4 3 5 6 5 3 9 6 3\n",
      " 1 7 3 6 2 3 8 7 8 1 9 2 0 6 7 2 2 6 4 5 4 0 9 9 0 7 9], shape=(64,), dtype=int32)\n",
      "tf.Tensor(\n",
      "[[ 1823 11859    15 ...     0     0     0]\n",
      " [71200   412  7776 ...     0     0     0]\n",
      " [  475    11    51 ...     1   368  1818]\n",
      " ...\n",
      " [ 9799  3977 17102 ...     0     0     0]\n",
      " [  794   649 36944 ...     0     0     0]\n",
      " [    0   834 27874 ...     0     0     0]], shape=(64, 500), dtype=int32) tf.Tensor(\n",
      "[7 2 9 3 7 9 3 0 5 3 0 7 8 2 6 7 8 6 6 3 8 4 6 2 0 6 6 0 5 8 1 1 2 3 9 0 5\n",
      " 6 1 9 8 9 3 1 3 9 8 2 4 3 5 7 1 1 6 7 7 0 2 4 1 5 3 3], shape=(64,), dtype=int32)\n",
      "tf.Tensor(\n",
      "[[ 3871  3977 22872 ...     0     0     0]\n",
      " [14760   440    86 ...  1458    66  3822]\n",
      " [  318  1947    89 ...    98   318    47]\n",
      " ...\n",
      " [ 1188     2  9082 ...     0     0     0]\n",
      " [ 3813 42560 31435 ...   721   122   125]\n",
      " [  226  4623   777 ...     0     0     0]], shape=(64, 500), dtype=int32) tf.Tensor(\n",
      "[5 9 3 1 1 1 7 1 1 4 5 9 8 8 7 0 0 8 5 8 8 1 9 4 4 3 0 6 0 7 4 8 5 2 3 5 4\n",
      " 5 9 4 3 1 5 2 0 4 8 6 7 3 0 4 0 5 4 6 4 3 0 7 6 2 8 2], shape=(64,), dtype=int32)\n",
      "tf.Tensor(\n",
      "[[ 1619    27   130 ...     2   257   260]\n",
      " [  467    11 49219 ...     0     0     0]\n",
      " [11312  2539  1918 ...     0     0     0]\n",
      " ...\n",
      " [ 1967 10563     0 ...  5458     3     0]\n",
      " [ 3018   804 21709 ...     0     0     0]\n",
      " [ 6411    33  1994 ...     0     0     0]], shape=(64, 500), dtype=int32) tf.Tensor(\n",
      "[4 5 8 5 2 3 6 7 9 7 3 0 2 1 5 7 8 3 3 6 8 3 8 3 4 4 5 7 1 9 6 8 2 8 9 8 4\n",
      " 7 6 9 1 9 9 9 9 3 9 8 5 1 6 9 5 8 9 3 5 3 3 6 0 6 2 3], shape=(64,), dtype=int32)\n",
      "tf.Tensor(\n",
      "[[    8 11810  5599 ...     0     0     0]\n",
      " [ 4211   316   852 ...     0     0     0]\n",
      " [   15  2617  1491 ...     0     0     0]\n",
      " ...\n",
      " [76270 20091 19966 ...   389  1778   865]\n",
      " [  103    23   945 ...     0     0     0]\n",
      " [   15 10879  2088 ...     0     0     0]], shape=(64, 500), dtype=int32) tf.Tensor(\n",
      "[1 9 7 0 3 1 1 1 3 0 4 4 1 9 3 9 2 4 9 5 0 5 0 4 9 5 2 0 8 5 2 4 7 4 0 3 8\n",
      " 1 9 9 0 9 8 5 4 2 4 5 6 2 7 0 6 5 6 6 6 3 8 0 4 2 7 6], shape=(64,), dtype=int32)\n",
      "tf.Tensor(\n",
      "[[  467    11 53145 ...     0     0     0]\n",
      " [  402  7924  4954 ...     0     0     0]\n",
      " [ 3843   203  1837 ...     0     0     0]\n",
      " ...\n",
      " [   15  4462    14 ...     0     0     0]\n",
      " [  186  4182   879 ... 21312     1    36]\n",
      " [   37 53654  5578 ...     0     0     0]], shape=(64, 500), dtype=int32) tf.Tensor(\n",
      "[5 6 2 4 6 6 1 7 1 6 7 9 6 3 3 7 8 3 8 7 3 8 2 2 0 9 8 1 5 7 8 0 0 5 8 2 9\n",
      " 4 2 5 3 8 1 8 3 5 8 5 3 3 6 7 7 4 5 6 0 2 7 9 6 1 9 6], shape=(64,), dtype=int32)\n",
      "tf.Tensor(\n",
      "[[ 6924   330  4923 ...   401     1 41973]\n",
      " [ 5398  7815  2305 ...     0     0     0]\n",
      " [ 1619    27   130 ...     0     0     0]\n",
      " ...\n",
      " [    0    30  1444 ...     0     0     0]\n",
      " [61279     0 12103 ...     2    71  1310]\n",
      " [   15  2441  4163 ...     0     0     0]], shape=(64, 500), dtype=int32) tf.Tensor(\n",
      "[2 9 4 8 4 4 4 5 5 6 4 0 3 8 7 0 9 1 2 1 0 6 7 5 0 4 0 5 3 3 8 8 8 1 3 5 0\n",
      " 1 4 3 4 5 4 3 2 7 7 2 5 2 7 7 3 2 4 2 8 8 5 8 1 1 1 7], shape=(64,), dtype=int32)\n",
      "tf.Tensor(\n",
      "[[  467    11  4939 ...     0     0     0]\n",
      " [   15     0  5490 ...     0     0     0]\n",
      " [  467    11 69922 ...     0     0     0]\n",
      " ...\n",
      " [  467    11  1582 ...     0     0     0]\n",
      " [   43     0   313 ...  8603     2  2193]\n",
      " [    0  1118  4824 ...     0     0     0]], shape=(64, 500), dtype=int32) tf.Tensor(\n",
      "[5 7 5 0 9 5 7 2 5 1 7 5 8 8 9 2 3 4 2 2 8 2 6 4 5 3 8 5 5 6 2 2 6 3 2 4 9\n",
      " 6 8 1 6 0 0 5 6 4 1 9 7 0 3 9 2 1 2 2 5 9 9 0 2 5 9 6], shape=(64,), dtype=int32)\n"
     ]
    }
   ],
   "source": [
    "for x, y in train_dataset.take(5):\n",
    "    print(x, y)\n",
    "    \n",
    "for x, y in val_dataset.take(5):\n",
    "    print(x, y)"
   ]
  },
  {
   "cell_type": "code",
   "execution_count": 7,
   "metadata": {},
   "outputs": [
    {
     "name": "stdout",
     "output_type": "stream",
     "text": [
      "Model: \"sequential\"\n",
      "_________________________________________________________________\n",
      "Layer (type)                 Output Shape              Param #   \n",
      "=================================================================\n",
      "embedding (Embedding)        (None, 500, 16)           1237168   \n",
      "_________________________________________________________________\n",
      "bidirectional (Bidirectional (None, 64)                12544     \n",
      "_________________________________________________________________\n",
      "dense (Dense)                (None, 32)                2080      \n",
      "_________________________________________________________________\n",
      "dense_1 (Dense)              (None, 10)                330       \n",
      "=================================================================\n",
      "Total params: 1,252,122\n",
      "Trainable params: 1,252,122\n",
      "Non-trainable params: 0\n",
      "_________________________________________________________________\n"
     ]
    }
   ],
   "source": [
    "embedding_dim = 16\n",
    "\n",
    "bi_rnn_model = keras.models.Sequential([\n",
    "    # 1. define matrix: [vocab_size, embedding_dim]\n",
    "    # 2. [1,2,3,4..], max_length * embedding_dim\n",
    "    # 3. batch_size * max_length * embedding_dim\n",
    "    keras.layers.Embedding(vocab_size, embedding_dim,\n",
    "                           input_length = max_length),\n",
    "    keras.layers.Bidirectional(\n",
    "        keras.layers.LSTM(\n",
    "            units = 32, return_sequences = False)),\n",
    "    keras.layers.Dense(32, activation = 'relu'),\n",
    "    keras.layers.Dense(10, activation='softmax'),\n",
    "])\n",
    "\n",
    "bi_rnn_model.summary()\n",
    "bi_rnn_model.compile(optimizer = 'adam',\n",
    "                     loss = 'sparse_categorical_crossentropy',\n",
    "                     metrics = ['accuracy'])\n"
   ]
  },
  {
   "cell_type": "code",
   "execution_count": 8,
   "metadata": {},
   "outputs": [
    {
     "name": "stdout",
     "output_type": "stream",
     "text": [
      "Epoch 1/30\n",
      "782/782 [==============================] - 59s 76ms/step - loss: 0.8642 - accuracy: 0.7247 - val_loss: 0.0000e+00 - val_accuracy: 0.0000e+00\n",
      "Epoch 2/30\n",
      "782/782 [==============================] - 37s 47ms/step - loss: 0.1924 - accuracy: 0.9464 - val_loss: 0.4457 - val_accuracy: 0.8862\n",
      "Epoch 3/30\n",
      "782/782 [==============================] - 36s 47ms/step - loss: 0.0596 - accuracy: 0.9851 - val_loss: 0.4729 - val_accuracy: 0.8852\n",
      "Epoch 4/30\n",
      "782/782 [==============================] - 37s 47ms/step - loss: 0.0278 - accuracy: 0.9935 - val_loss: 0.5707 - val_accuracy: 0.8774\n",
      "Epoch 5/30\n",
      "782/782 [==============================] - 36s 47ms/step - loss: 0.0170 - accuracy: 0.9959 - val_loss: 0.5390 - val_accuracy: 0.8948\n",
      "Epoch 6/30\n",
      "782/782 [==============================] - 37s 47ms/step - loss: 0.0082 - accuracy: 0.9979 - val_loss: 0.7007 - val_accuracy: 0.8688\n",
      "Epoch 7/30\n",
      "782/782 [==============================] - 36s 47ms/step - loss: 0.0051 - accuracy: 0.9988 - val_loss: 0.6289 - val_accuracy: 0.8868\n",
      "Epoch 8/30\n",
      "782/782 [==============================] - 37s 47ms/step - loss: 0.0085 - accuracy: 0.9977 - val_loss: 0.7869 - val_accuracy: 0.8648\n",
      "Epoch 9/30\n",
      "782/782 [==============================] - 36s 46ms/step - loss: 0.0083 - accuracy: 0.9976 - val_loss: 0.7974 - val_accuracy: 0.8576\n",
      "Epoch 10/30\n",
      "782/782 [==============================] - 36s 47ms/step - loss: 0.0057 - accuracy: 0.9986 - val_loss: 0.7335 - val_accuracy: 0.8754\n",
      "Epoch 11/30\n",
      "782/782 [==============================] - 37s 47ms/step - loss: 0.0027 - accuracy: 0.9994 - val_loss: 0.7665 - val_accuracy: 0.8770\n",
      "Epoch 12/30\n",
      "782/782 [==============================] - 37s 47ms/step - loss: 0.0023 - accuracy: 0.9996 - val_loss: 0.7156 - val_accuracy: 0.8868\n",
      "Epoch 13/30\n",
      "782/782 [==============================] - 37s 47ms/step - loss: 0.0031 - accuracy: 0.9992 - val_loss: 0.8062 - val_accuracy: 0.8762\n",
      "Epoch 14/30\n",
      "782/782 [==============================] - 37s 47ms/step - loss: 0.0030 - accuracy: 0.9990 - val_loss: 0.8008 - val_accuracy: 0.8754\n",
      "Epoch 15/30\n",
      "782/782 [==============================] - 36s 47ms/step - loss: 0.0015 - accuracy: 0.9998 - val_loss: 0.7471 - val_accuracy: 0.8880\n",
      "Epoch 16/30\n",
      "782/782 [==============================] - 37s 47ms/step - loss: 6.2416e-04 - accuracy: 0.9999 - val_loss: 0.7950 - val_accuracy: 0.8798\n",
      "Epoch 17/30\n",
      "782/782 [==============================] - 37s 47ms/step - loss: 4.6295e-04 - accuracy: 0.9999 - val_loss: 0.7800 - val_accuracy: 0.8896\n",
      "Epoch 18/30\n",
      "782/782 [==============================] - 37s 47ms/step - loss: 0.0046 - accuracy: 0.9988 - val_loss: 0.7747 - val_accuracy: 0.8788\n",
      "Epoch 19/30\n",
      "782/782 [==============================] - 37s 47ms/step - loss: 0.0041 - accuracy: 0.9989 - val_loss: 0.7104 - val_accuracy: 0.8840\n",
      "Epoch 20/30\n",
      "782/782 [==============================] - 37s 47ms/step - loss: 0.0017 - accuracy: 0.9997 - val_loss: 0.7216 - val_accuracy: 0.8994\n",
      "Epoch 21/30\n",
      "782/782 [==============================] - 37s 47ms/step - loss: 0.0010 - accuracy: 0.9997 - val_loss: 0.7469 - val_accuracy: 0.8842\n",
      "Epoch 22/30\n",
      "782/782 [==============================] - 37s 47ms/step - loss: 8.5813e-04 - accuracy: 0.9998 - val_loss: 0.7681 - val_accuracy: 0.8798\n",
      "Epoch 23/30\n",
      "782/782 [==============================] - 37s 47ms/step - loss: 0.0018 - accuracy: 0.9995 - val_loss: 0.7222 - val_accuracy: 0.8788\n",
      "Epoch 24/30\n",
      "782/782 [==============================] - 37s 47ms/step - loss: 0.0013 - accuracy: 0.9997 - val_loss: 0.7977 - val_accuracy: 0.8818\n",
      "Epoch 25/30\n",
      "782/782 [==============================] - 37s 47ms/step - loss: 0.0018 - accuracy: 0.9995 - val_loss: 0.7648 - val_accuracy: 0.8816\n",
      "Epoch 26/30\n",
      "782/782 [==============================] - 37s 47ms/step - loss: 3.6582e-04 - accuracy: 0.9999 - val_loss: 0.7829 - val_accuracy: 0.8854\n",
      "Epoch 27/30\n",
      "782/782 [==============================] - 37s 47ms/step - loss: 4.3043e-04 - accuracy: 0.9999 - val_loss: 0.8289 - val_accuracy: 0.8814\n",
      "Epoch 28/30\n",
      "782/782 [==============================] - 37s 47ms/step - loss: 2.1744e-04 - accuracy: 1.0000 - val_loss: 0.7899 - val_accuracy: 0.8900\n",
      "Epoch 29/30\n",
      "782/782 [==============================] - 37s 47ms/step - loss: 2.5080e-04 - accuracy: 0.9999 - val_loss: 0.8892 - val_accuracy: 0.8794\n",
      "Epoch 30/30\n",
      "782/782 [==============================] - 37s 47ms/step - loss: 0.0011 - accuracy: 0.9997 - val_loss: 0.7661 - val_accuracy: 0.8834\n"
     ]
    }
   ],
   "source": [
    "history = bi_rnn_model.fit(\n",
    "    train_dataset,\n",
    "    epochs = 30,\n",
    "    validation_data = val_dataset)\n"
   ]
  },
  {
   "cell_type": "code",
   "execution_count": 9,
   "metadata": {},
   "outputs": [
    {
     "data": {
      "image/png": "[encoded data removed]",
      "text/plain": [
       "<Figure size 576x360 with 1 Axes>"
      ]
     },
     "metadata": {
      "needs_background": "light"
     },
     "output_type": "display_data"
    },
    {
     "data": {
      "image/png": "[encoded data removed]",
      "text/plain": [
       "<Figure size 576x360 with 1 Axes>"
      ]
     },
     "metadata": {
      "needs_background": "light"
     },
     "output_type": "display_data"
    }
   ],
   "source": [
    "def plot_learning_curves(history, label, epochs, min_value, max_value):\n",
    "    data = {}\n",
    "    data[label] = history.history[label]\n",
    "    data['val_'+label] = history.history['val_'+label]\n",
    "    pd.DataFrame(data).plot(figsize=(8, 5))\n",
    "    plt.grid(True)\n",
    "    plt.axis([0, epochs, min_value, max_value])\n",
    "    plt.show()\n",
    "    \n",
    "plot_learning_curves(history, 'accuracy', 30, 0, 1)\n",
    "plot_learning_curves(history, 'loss', 30, 0, 1)"
   ]
  },
  {
   "cell_type": "code",
   "execution_count": 10,
   "metadata": {},
   "outputs": [
    {
     "name": "stdout",
     "output_type": "stream",
     "text": [
      "157/157 [==============================] - 3s 17ms/step - loss: 0.5705 - accuracy: 0.9123\n"
     ]
    },
    {
     "data": {
      "text/plain": [
       "[0.5704858062943076, 0.9123]"
      ]
     },
     "execution_count": 10,
     "metadata": {},
     "output_type": "execute_result"
    }
   ],
   "source": [
    "bi_rnn_model.evaluate(test_dataset)"
   ]
  },
  {
   "cell_type": "code",
   "execution_count": null,
   "metadata": {},
   "outputs": [],
   "source": []
  }
 ],
 "metadata": {
  "kernelspec": {
   "display_name": "Python 3",
   "language": "python",
   "name": "python3"
  },
  "language_info": {
   "codemirror_mode": {
    "name": "ipython",
    "version": 3
   },
   "file_extension": ".py",
   "mimetype": "text/x-python",
   "name": "python",
   "nbconvert_exporter": "python",
   "pygments_lexer": "ipython3",
   "version": "3.6.9"
  }
 },
 "nbformat": 4,
 "nbformat_minor": 2
}
